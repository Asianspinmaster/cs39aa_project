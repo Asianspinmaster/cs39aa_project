{
 "cells": [
  {
   "cell_type": "markdown",
   "id": "7c2ffd6a",
   "metadata": {
    "papermill": {
     "duration": 0.003291,
     "end_time": "2022-10-31T02:37:14.139611",
     "exception": false,
     "start_time": "2022-10-31T02:37:14.136320",
     "status": "completed"
    },
    "tags": []
   },
   "source": [
    "# Project Part 1\n",
    "\n",
    "[![Kaggle](https://kaggle.com/static/images/open-in-kaggle.svg)](https://kaggle.com/kernels/welcome?src=https://github.com/sgeinitz/cs39aa_project/blob/main/project_part1.ipynb)\n",
    "\n",
    "[![Open In Colab](https://colab.research.google.com/assets/colab-badge.svg)](https://colab.research.google.com/github/sgeinitz/cs39aa_project/blob/main/project_part1.ipynb)\n",
    "\n",
    "This notebook is intended to serve as a template to complete Part 1 of the projects. Feel free to modify this notebook as needed, but be sure to have the two main parts, a) a introductory proposal section describing what it is your doing to do and where the dataset originates, and b) an exploratory analysis section that has the histograms, charts, tables, etc. that are the output from your exploratory analysis. \n",
    "\n",
    "__Note you will want to remove the text above, and in the markdown cells below, and replace it with your own text describing the dataset, task, exploratory steps, etc.__"
   ]
  },
  {
   "cell_type": "markdown",
   "id": "74d3628d",
   "metadata": {
    "papermill": {
     "duration": 0.001847,
     "end_time": "2022-10-31T02:37:14.143899",
     "exception": false,
     "start_time": "2022-10-31T02:37:14.142052",
     "status": "completed"
    },
    "tags": []
   },
   "source": [
    "## Introduction/Background\n",
    "\n",
    "_In this section you will describe (in English) the dataset you are using as well as the NLP problem it deals with. For example, if you are planning to use the Twitter Natural Disaster dataset, then you will describe what the data and where it came as if you were explaining it to someone who does not know anything about the data. You will then describe how this is a __text classification__ problem, and that the labels are binary (e.g. a tweet either refers to a genuine/real natural disaster, or it does not)._ \n",
    "\n",
    "_Overall, this should be about a paragraph of text that could be read by someone outside of our class, and they could still understand what it is your project is doing._ \n",
    "\n",
    "_Note that you should __not__ simply write one sentence stating, \"This project is base on the Kaggle competition: Predicting Natural Disasters with Twitter._\"\n",
    "\n",
    "_If you are still looking for datasets to use, consider the following resources to explore text datasets._\n",
    "\n",
    "* https://huggingface.co/datasets\n",
    "* https://www.kaggle.com/datasets\n",
    "* https://pytorch.org/text/stable/datasets.html\n",
    "* https://github.com/niderhoff/nlp-datasets \n",
    "* https://medium.com/@ODSC/20-open-datasets-for-natural-language-processing-538fbfaf8e38 \n",
    "* https://imerit.net/blog/25-best-nlp-datasets-for-machine-learning-all-pbm/ \n",
    "* https://index.quantumstat.com/#dataset\n"
   ]
  },
  {
   "cell_type": "markdown",
   "id": "2a5d8501",
   "metadata": {
    "papermill": {
     "duration": 0.00174,
     "end_time": "2022-10-31T02:37:14.148006",
     "exception": false,
     "start_time": "2022-10-31T02:37:14.146266",
     "status": "completed"
    },
    "tags": []
   },
   "source": [
    "## Exploratory Data Analysis\n",
    "\n",
    "_You will now load the dataset and carry out some exploratory data analysis steps to better understand what text data looks like. See the examples from class on 10/. The following links provide some good resources of exploratory analyses of text data with Python._\n",
    "\n",
    "\n",
    "* https://neptune.ai/blog/exploratory-data-analysis-natural-language-processing-tools\n",
    "* https://regenerativetoday.com/exploratory-data-analysis-of-text-data-including-visualization-and-sentiment-analysis/\n",
    "* https://medium.com/swlh/text-summarization-guide-exploratory-data-analysis-on-text-data-4e22ce2dd6ad  \n",
    "* https://www.kdnuggets.com/2019/05/complete-exploratory-data-analysis-visualization-text-data.html  \n"
   ]
  },
  {
   "cell_type": "code",
   "execution_count": 1,
   "id": "5cdfe7c5",
   "metadata": {
    "execution": {
     "iopub.execute_input": "2022-10-31T02:37:14.154255Z",
     "iopub.status.busy": "2022-10-31T02:37:14.153462Z",
     "iopub.status.idle": "2022-10-31T02:37:14.162805Z",
     "shell.execute_reply": "2022-10-31T02:37:14.162003Z"
    },
    "papermill": {
     "duration": 0.015023,
     "end_time": "2022-10-31T02:37:14.164957",
     "exception": false,
     "start_time": "2022-10-31T02:37:14.149934",
     "status": "completed"
    },
    "tags": []
   },
   "outputs": [],
   "source": [
    "# import all of the python modules/packages you'll need here\n",
    "import pandas as pd\n",
    "# ..."
   ]
  },
  {
   "cell_type": "code",
   "execution_count": null,
   "id": "758c5289",
   "metadata": {
    "papermill": {
     "duration": 0.001784,
     "end_time": "2022-10-31T02:37:14.169037",
     "exception": false,
     "start_time": "2022-10-31T02:37:14.167253",
     "status": "completed"
    },
    "tags": []
   },
   "outputs": [],
   "source": []
  },
  {
   "cell_type": "markdown",
   "id": "fba357bc",
   "metadata": {
    "papermill": {
     "duration": 0.001695,
     "end_time": "2022-10-31T02:37:14.172790",
     "exception": false,
     "start_time": "2022-10-31T02:37:14.171095",
     "status": "completed"
    },
    "tags": []
   },
   "source": [
    "This is a test"
   ]
  }
 ],
 "metadata": {
  "kernelspec": {
   "display_name": "Python 3",
   "language": "python",
   "name": "python3"
  },
  "language_info": {
   "codemirror_mode": {
    "name": "ipython",
    "version": 3
   },
   "file_extension": ".py",
   "mimetype": "text/x-python",
   "name": "python",
   "nbconvert_exporter": "python",
   "pygments_lexer": "ipython3",
   "version": "3.7.12"
  },
  "papermill": {
   "default_parameters": {},
   "duration": 8.996311,
   "end_time": "2022-10-31T02:37:14.799387",
   "environment_variables": {},
   "exception": null,
   "input_path": "__notebook__.ipynb",
   "output_path": "__notebook__.ipynb",
   "parameters": {},
   "start_time": "2022-10-31T02:37:05.803076",
   "version": "2.3.4"
  }
 },
 "nbformat": 4,
 "nbformat_minor": 5
}
