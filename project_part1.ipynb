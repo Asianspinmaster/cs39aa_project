{
 "cells": [
  {
   "cell_type": "markdown",
   "id": "ab864694",
   "metadata": {
    "papermill": {
     "duration": 0.008783,
     "end_time": "2022-11-02T04:33:18.470614",
     "exception": false,
     "start_time": "2022-11-02T04:33:18.461831",
     "status": "completed"
    },
    "tags": []
   },
   "source": [
    "# CS 39aa Final Project Part 1"
   ]
  },
  {
   "cell_type": "markdown",
   "id": "6165523e",
   "metadata": {
    "papermill": {
     "duration": 0.007206,
     "end_time": "2022-11-02T04:33:18.485378",
     "exception": false,
     "start_time": "2022-11-02T04:33:18.478172",
     "status": "completed"
    },
    "tags": []
   },
   "source": [
    "## Introduction/Background\n",
    "_This project is based off a data set given by Kaggle \"Coronavirus tweets NLP - Text Classification.\" These tweets have been pulled from twitter and categorized accordingly such as the date, location, original tweet message, and sentiment. The data was given in two different sets of data. One data set as the training for training your data, and the other as the testing for testing and validating the data. This problem is a multi-class text classification problem meaning that the goal of this project is to project whether a certain tweet within the dataset is a \"positive\", \"negative\", \"extremely positive\", \"extremely negative\", or \"neutral\" tweet based on the words that were used within the tweet._\n"
   ]
  },
  {
   "cell_type": "markdown",
   "id": "a9aea23d",
   "metadata": {
    "papermill": {
     "duration": 0.006731,
     "end_time": "2022-11-02T04:33:18.499275",
     "exception": false,
     "start_time": "2022-11-02T04:33:18.492544",
     "status": "completed"
    },
    "tags": []
   },
   "source": [
    "## Exploratory Data Analysis\n"
   ]
  },
  {
   "cell_type": "code",
   "execution_count": 1,
   "id": "281601cc",
   "metadata": {
    "execution": {
     "iopub.execute_input": "2022-11-02T04:33:18.517085Z",
     "iopub.status.busy": "2022-11-02T04:33:18.516005Z",
     "iopub.status.idle": "2022-11-02T04:33:18.965258Z",
     "shell.execute_reply": "2022-11-02T04:33:18.963503Z"
    },
    "papermill": {
     "duration": 0.463078,
     "end_time": "2022-11-02T04:33:18.969768",
     "exception": false,
     "start_time": "2022-11-02T04:33:18.506690",
     "status": "completed"
    },
    "tags": []
   },
   "outputs": [
    {
     "data": {
      "text/html": [
       "<div>\n",
       "<style scoped>\n",
       "    .dataframe tbody tr th:only-of-type {\n",
       "        vertical-align: middle;\n",
       "    }\n",
       "\n",
       "    .dataframe tbody tr th {\n",
       "        vertical-align: top;\n",
       "    }\n",
       "\n",
       "    .dataframe thead th {\n",
       "        text-align: right;\n",
       "    }\n",
       "</style>\n",
       "<table border=\"1\" class=\"dataframe\">\n",
       "  <thead>\n",
       "    <tr style=\"text-align: right;\">\n",
       "      <th></th>\n",
       "      <th>UserName</th>\n",
       "      <th>ScreenName</th>\n",
       "      <th>Location</th>\n",
       "      <th>TweetAt</th>\n",
       "      <th>OriginalTweet</th>\n",
       "      <th>Sentiment</th>\n",
       "    </tr>\n",
       "  </thead>\n",
       "  <tbody>\n",
       "    <tr>\n",
       "      <th>0</th>\n",
       "      <td>1</td>\n",
       "      <td>44953</td>\n",
       "      <td>NYC</td>\n",
       "      <td>02-03-2020</td>\n",
       "      <td>TRENDING: New Yorkers encounter empty supermar...</td>\n",
       "      <td>Extremely Negative</td>\n",
       "    </tr>\n",
       "    <tr>\n",
       "      <th>1</th>\n",
       "      <td>2</td>\n",
       "      <td>44954</td>\n",
       "      <td>Seattle, WA</td>\n",
       "      <td>02-03-2020</td>\n",
       "      <td>When I couldn't find hand sanitizer at Fred Me...</td>\n",
       "      <td>Positive</td>\n",
       "    </tr>\n",
       "    <tr>\n",
       "      <th>2</th>\n",
       "      <td>3</td>\n",
       "      <td>44955</td>\n",
       "      <td>NaN</td>\n",
       "      <td>02-03-2020</td>\n",
       "      <td>Find out how you can protect yourself and love...</td>\n",
       "      <td>Extremely Positive</td>\n",
       "    </tr>\n",
       "    <tr>\n",
       "      <th>3</th>\n",
       "      <td>4</td>\n",
       "      <td>44956</td>\n",
       "      <td>Chicagoland</td>\n",
       "      <td>02-03-2020</td>\n",
       "      <td>#Panic buying hits #NewYork City as anxious sh...</td>\n",
       "      <td>Negative</td>\n",
       "    </tr>\n",
       "    <tr>\n",
       "      <th>4</th>\n",
       "      <td>5</td>\n",
       "      <td>44957</td>\n",
       "      <td>Melbourne, Victoria</td>\n",
       "      <td>03-03-2020</td>\n",
       "      <td>#toiletpaper #dunnypaper #coronavirus #coronav...</td>\n",
       "      <td>Neutral</td>\n",
       "    </tr>\n",
       "  </tbody>\n",
       "</table>\n",
       "</div>"
      ],
      "text/plain": [
       "   UserName  ScreenName             Location     TweetAt  \\\n",
       "0         1       44953                  NYC  02-03-2020   \n",
       "1         2       44954          Seattle, WA  02-03-2020   \n",
       "2         3       44955                  NaN  02-03-2020   \n",
       "3         4       44956          Chicagoland  02-03-2020   \n",
       "4         5       44957  Melbourne, Victoria  03-03-2020   \n",
       "\n",
       "                                       OriginalTweet           Sentiment  \n",
       "0  TRENDING: New Yorkers encounter empty supermar...  Extremely Negative  \n",
       "1  When I couldn't find hand sanitizer at Fred Me...            Positive  \n",
       "2  Find out how you can protect yourself and love...  Extremely Positive  \n",
       "3  #Panic buying hits #NewYork City as anxious sh...            Negative  \n",
       "4  #toiletpaper #dunnypaper #coronavirus #coronav...             Neutral  "
      ]
     },
     "execution_count": 1,
     "metadata": {},
     "output_type": "execute_result"
    }
   ],
   "source": [
    "import pandas as pd\n",
    "\n",
    "test_data = pd.read_csv('../input/covid-19-nlp-text-classification/Corona_NLP_test.csv')\n",
    "train_data = pd.read_csv('../input/covid-19-nlp-text-classification/Corona_NLP_train.csv', encoding= 'ISO-8859-1')\n",
    "test_data.head()"
   ]
  },
  {
   "cell_type": "code",
   "execution_count": 2,
   "id": "a9d4963a",
   "metadata": {
    "execution": {
     "iopub.execute_input": "2022-11-02T04:33:18.992166Z",
     "iopub.status.busy": "2022-11-02T04:33:18.991628Z",
     "iopub.status.idle": "2022-11-02T04:33:19.009806Z",
     "shell.execute_reply": "2022-11-02T04:33:19.008434Z"
    },
    "papermill": {
     "duration": 0.033918,
     "end_time": "2022-11-02T04:33:19.012886",
     "exception": false,
     "start_time": "2022-11-02T04:33:18.978968",
     "status": "completed"
    },
    "tags": []
   },
   "outputs": [
    {
     "data": {
      "text/html": [
       "<div>\n",
       "<style scoped>\n",
       "    .dataframe tbody tr th:only-of-type {\n",
       "        vertical-align: middle;\n",
       "    }\n",
       "\n",
       "    .dataframe tbody tr th {\n",
       "        vertical-align: top;\n",
       "    }\n",
       "\n",
       "    .dataframe thead th {\n",
       "        text-align: right;\n",
       "    }\n",
       "</style>\n",
       "<table border=\"1\" class=\"dataframe\">\n",
       "  <thead>\n",
       "    <tr style=\"text-align: right;\">\n",
       "      <th></th>\n",
       "      <th>UserName</th>\n",
       "      <th>ScreenName</th>\n",
       "      <th>Location</th>\n",
       "      <th>TweetAt</th>\n",
       "      <th>OriginalTweet</th>\n",
       "      <th>Sentiment</th>\n",
       "    </tr>\n",
       "  </thead>\n",
       "  <tbody>\n",
       "    <tr>\n",
       "      <th>0</th>\n",
       "      <td>3799</td>\n",
       "      <td>48751</td>\n",
       "      <td>London</td>\n",
       "      <td>16-03-2020</td>\n",
       "      <td>@MeNyrbie @Phil_Gahan @Chrisitv https://t.co/i...</td>\n",
       "      <td>Neutral</td>\n",
       "    </tr>\n",
       "    <tr>\n",
       "      <th>1</th>\n",
       "      <td>3800</td>\n",
       "      <td>48752</td>\n",
       "      <td>UK</td>\n",
       "      <td>16-03-2020</td>\n",
       "      <td>advice Talk to your neighbours family to excha...</td>\n",
       "      <td>Positive</td>\n",
       "    </tr>\n",
       "    <tr>\n",
       "      <th>2</th>\n",
       "      <td>3801</td>\n",
       "      <td>48753</td>\n",
       "      <td>Vagabonds</td>\n",
       "      <td>16-03-2020</td>\n",
       "      <td>Coronavirus Australia: Woolworths to give elde...</td>\n",
       "      <td>Positive</td>\n",
       "    </tr>\n",
       "    <tr>\n",
       "      <th>3</th>\n",
       "      <td>3802</td>\n",
       "      <td>48754</td>\n",
       "      <td>NaN</td>\n",
       "      <td>16-03-2020</td>\n",
       "      <td>My food stock is not the only one which is emp...</td>\n",
       "      <td>Positive</td>\n",
       "    </tr>\n",
       "    <tr>\n",
       "      <th>4</th>\n",
       "      <td>3803</td>\n",
       "      <td>48755</td>\n",
       "      <td>NaN</td>\n",
       "      <td>16-03-2020</td>\n",
       "      <td>Me, ready to go at supermarket during the #COV...</td>\n",
       "      <td>Extremely Negative</td>\n",
       "    </tr>\n",
       "  </tbody>\n",
       "</table>\n",
       "</div>"
      ],
      "text/plain": [
       "   UserName  ScreenName   Location     TweetAt  \\\n",
       "0      3799       48751     London  16-03-2020   \n",
       "1      3800       48752         UK  16-03-2020   \n",
       "2      3801       48753  Vagabonds  16-03-2020   \n",
       "3      3802       48754        NaN  16-03-2020   \n",
       "4      3803       48755        NaN  16-03-2020   \n",
       "\n",
       "                                       OriginalTweet           Sentiment  \n",
       "0  @MeNyrbie @Phil_Gahan @Chrisitv https://t.co/i...             Neutral  \n",
       "1  advice Talk to your neighbours family to excha...            Positive  \n",
       "2  Coronavirus Australia: Woolworths to give elde...            Positive  \n",
       "3  My food stock is not the only one which is emp...            Positive  \n",
       "4  Me, ready to go at supermarket during the #COV...  Extremely Negative  "
      ]
     },
     "execution_count": 2,
     "metadata": {},
     "output_type": "execute_result"
    }
   ],
   "source": [
    "train_data.head()"
   ]
  },
  {
   "cell_type": "markdown",
   "id": "baa7e201",
   "metadata": {
    "papermill": {
     "duration": 0.009066,
     "end_time": "2022-11-02T04:33:19.030987",
     "exception": false,
     "start_time": "2022-11-02T04:33:19.021921",
     "status": "completed"
    },
    "tags": []
   },
   "source": [
    "Here we drop the username, screenname, location, and tweetat columns because they hold no value in trying to solve the sentiment of the tweet."
   ]
  },
  {
   "cell_type": "code",
   "execution_count": 3,
   "id": "54431fc1",
   "metadata": {
    "execution": {
     "iopub.execute_input": "2022-11-02T04:33:19.051116Z",
     "iopub.status.busy": "2022-11-02T04:33:19.050701Z",
     "iopub.status.idle": "2022-11-02T04:33:19.063120Z",
     "shell.execute_reply": "2022-11-02T04:33:19.062092Z"
    },
    "papermill": {
     "duration": 0.023882,
     "end_time": "2022-11-02T04:33:19.065570",
     "exception": false,
     "start_time": "2022-11-02T04:33:19.041688",
     "status": "completed"
    },
    "tags": []
   },
   "outputs": [],
   "source": [
    "train_data.drop(columns = ['UserName','ScreenName','Location','TweetAt'], inplace=True)\n",
    "test_data.drop(columns = ['UserName','ScreenName','Location','TweetAt'], inplace=True)"
   ]
  },
  {
   "cell_type": "markdown",
   "id": "677c0399",
   "metadata": {
    "papermill": {
     "duration": 0.007167,
     "end_time": "2022-11-02T04:33:19.080305",
     "exception": false,
     "start_time": "2022-11-02T04:33:19.073138",
     "status": "completed"
    },
    "tags": []
   },
   "source": [
    "We find the sentiment precentage of the training and testing data sets"
   ]
  },
  {
   "cell_type": "code",
   "execution_count": 4,
   "id": "1ae0b561",
   "metadata": {
    "execution": {
     "iopub.execute_input": "2022-11-02T04:33:19.097935Z",
     "iopub.status.busy": "2022-11-02T04:33:19.096657Z",
     "iopub.status.idle": "2022-11-02T04:33:19.110480Z",
     "shell.execute_reply": "2022-11-02T04:33:19.109257Z"
    },
    "papermill": {
     "duration": 0.025441,
     "end_time": "2022-11-02T04:33:19.113302",
     "exception": false,
     "start_time": "2022-11-02T04:33:19.087861",
     "status": "completed"
    },
    "tags": []
   },
   "outputs": [
    {
     "data": {
      "text/plain": [
       "Negative              0.274092\n",
       "Positive              0.249342\n",
       "Neutral               0.162981\n",
       "Extremely Positive    0.157715\n",
       "Extremely Negative    0.155872\n",
       "Name: Sentiment, dtype: float64"
      ]
     },
     "execution_count": 4,
     "metadata": {},
     "output_type": "execute_result"
    }
   ],
   "source": [
    "test_data.Sentiment.value_counts(normalize = True)"
   ]
  },
  {
   "cell_type": "code",
   "execution_count": 5,
   "id": "de07ab15",
   "metadata": {
    "execution": {
     "iopub.execute_input": "2022-11-02T04:33:19.133321Z",
     "iopub.status.busy": "2022-11-02T04:33:19.132686Z",
     "iopub.status.idle": "2022-11-02T04:33:19.144505Z",
     "shell.execute_reply": "2022-11-02T04:33:19.143641Z"
    },
    "papermill": {
     "duration": 0.024695,
     "end_time": "2022-11-02T04:33:19.148039",
     "exception": false,
     "start_time": "2022-11-02T04:33:19.123344",
     "status": "completed"
    },
    "tags": []
   },
   "outputs": [
    {
     "data": {
      "text/plain": [
       "Positive              0.277523\n",
       "Negative              0.240955\n",
       "Neutral               0.187404\n",
       "Extremely Positive    0.160945\n",
       "Extremely Negative    0.133173\n",
       "Name: Sentiment, dtype: float64"
      ]
     },
     "execution_count": 5,
     "metadata": {},
     "output_type": "execute_result"
    }
   ],
   "source": [
    "train_data.Sentiment.value_counts(normalize = True)"
   ]
  },
  {
   "cell_type": "code",
   "execution_count": 6,
   "id": "035ec408",
   "metadata": {
    "execution": {
     "iopub.execute_input": "2022-11-02T04:33:19.169879Z",
     "iopub.status.busy": "2022-11-02T04:33:19.168993Z",
     "iopub.status.idle": "2022-11-02T04:33:19.176242Z",
     "shell.execute_reply": "2022-11-02T04:33:19.175094Z"
    },
    "papermill": {
     "duration": 0.019546,
     "end_time": "2022-11-02T04:33:19.178851",
     "exception": false,
     "start_time": "2022-11-02T04:33:19.159305",
     "status": "completed"
    },
    "tags": []
   },
   "outputs": [
    {
     "data": {
      "text/plain": [
       "(41157, 2)"
      ]
     },
     "execution_count": 6,
     "metadata": {},
     "output_type": "execute_result"
    }
   ],
   "source": [
    "train_data.shape"
   ]
  },
  {
   "cell_type": "code",
   "execution_count": 7,
   "id": "0387ce0e",
   "metadata": {
    "execution": {
     "iopub.execute_input": "2022-11-02T04:33:19.198492Z",
     "iopub.status.busy": "2022-11-02T04:33:19.197666Z",
     "iopub.status.idle": "2022-11-02T04:33:19.205351Z",
     "shell.execute_reply": "2022-11-02T04:33:19.204184Z"
    },
    "papermill": {
     "duration": 0.019948,
     "end_time": "2022-11-02T04:33:19.207583",
     "exception": false,
     "start_time": "2022-11-02T04:33:19.187635",
     "status": "completed"
    },
    "tags": []
   },
   "outputs": [
    {
     "data": {
      "text/plain": [
       "(3798, 2)"
      ]
     },
     "execution_count": 7,
     "metadata": {},
     "output_type": "execute_result"
    }
   ],
   "source": [
    "test_data.shape"
   ]
  },
  {
   "cell_type": "markdown",
   "id": "3e8b91e3",
   "metadata": {
    "papermill": {
     "duration": 0.007655,
     "end_time": "2022-11-02T04:33:19.223561",
     "exception": false,
     "start_time": "2022-11-02T04:33:19.215906",
     "status": "completed"
    },
    "tags": []
   },
   "source": [
    "We tokenize each word of the tweet adding it as a new column to the dataset"
   ]
  },
  {
   "cell_type": "code",
   "execution_count": 8,
   "id": "5e41eed0",
   "metadata": {
    "execution": {
     "iopub.execute_input": "2022-11-02T04:33:19.244083Z",
     "iopub.status.busy": "2022-11-02T04:33:19.243048Z",
     "iopub.status.idle": "2022-11-02T04:33:28.220162Z",
     "shell.execute_reply": "2022-11-02T04:33:28.218979Z"
    },
    "papermill": {
     "duration": 8.990151,
     "end_time": "2022-11-02T04:33:28.223201",
     "exception": false,
     "start_time": "2022-11-02T04:33:19.233050",
     "status": "completed"
    },
    "tags": []
   },
   "outputs": [
    {
     "data": {
      "text/html": [
       "<div>\n",
       "<style scoped>\n",
       "    .dataframe tbody tr th:only-of-type {\n",
       "        vertical-align: middle;\n",
       "    }\n",
       "\n",
       "    .dataframe tbody tr th {\n",
       "        vertical-align: top;\n",
       "    }\n",
       "\n",
       "    .dataframe thead th {\n",
       "        text-align: right;\n",
       "    }\n",
       "</style>\n",
       "<table border=\"1\" class=\"dataframe\">\n",
       "  <thead>\n",
       "    <tr style=\"text-align: right;\">\n",
       "      <th></th>\n",
       "      <th>OriginalTweet</th>\n",
       "      <th>Sentiment</th>\n",
       "      <th>tokens_raw</th>\n",
       "    </tr>\n",
       "  </thead>\n",
       "  <tbody>\n",
       "    <tr>\n",
       "      <th>0</th>\n",
       "      <td>@MeNyrbie @Phil_Gahan @Chrisitv https://t.co/i...</td>\n",
       "      <td>Neutral</td>\n",
       "      <td>[@menyrbie, @phil_gahan, @chrisitv, https://t....</td>\n",
       "    </tr>\n",
       "    <tr>\n",
       "      <th>1</th>\n",
       "      <td>advice Talk to your neighbours family to excha...</td>\n",
       "      <td>Positive</td>\n",
       "      <td>[advice, talk, to, your, neighbours, family, t...</td>\n",
       "    </tr>\n",
       "    <tr>\n",
       "      <th>2</th>\n",
       "      <td>Coronavirus Australia: Woolworths to give elde...</td>\n",
       "      <td>Positive</td>\n",
       "      <td>[coronavirus, australia, :, woolworths, to, gi...</td>\n",
       "    </tr>\n",
       "    <tr>\n",
       "      <th>3</th>\n",
       "      <td>My food stock is not the only one which is emp...</td>\n",
       "      <td>Positive</td>\n",
       "      <td>[my, food, stock, is, not, the, only, one, whi...</td>\n",
       "    </tr>\n",
       "    <tr>\n",
       "      <th>4</th>\n",
       "      <td>Me, ready to go at supermarket during the #COV...</td>\n",
       "      <td>Extremely Negative</td>\n",
       "      <td>[me, ,, ready, to, go, at, supermarket, during...</td>\n",
       "    </tr>\n",
       "  </tbody>\n",
       "</table>\n",
       "</div>"
      ],
      "text/plain": [
       "                                       OriginalTweet           Sentiment  \\\n",
       "0  @MeNyrbie @Phil_Gahan @Chrisitv https://t.co/i...             Neutral   \n",
       "1  advice Talk to your neighbours family to excha...            Positive   \n",
       "2  Coronavirus Australia: Woolworths to give elde...            Positive   \n",
       "3  My food stock is not the only one which is emp...            Positive   \n",
       "4  Me, ready to go at supermarket during the #COV...  Extremely Negative   \n",
       "\n",
       "                                          tokens_raw  \n",
       "0  [@menyrbie, @phil_gahan, @chrisitv, https://t....  \n",
       "1  [advice, talk, to, your, neighbours, family, t...  \n",
       "2  [coronavirus, australia, :, woolworths, to, gi...  \n",
       "3  [my, food, stock, is, not, the, only, one, whi...  \n",
       "4  [me, ,, ready, to, go, at, supermarket, during...  "
      ]
     },
     "execution_count": 8,
     "metadata": {},
     "output_type": "execute_result"
    }
   ],
   "source": [
    "from nltk.tokenize import TweetTokenizer\n",
    "tk = TweetTokenizer()\n",
    "train_data['tokens_raw'] = train_data['OriginalTweet'].apply(lambda x: tk.tokenize(x.lower()))\n",
    "train_data.head()"
   ]
  },
  {
   "cell_type": "code",
   "execution_count": 9,
   "id": "cb303958",
   "metadata": {
    "execution": {
     "iopub.execute_input": "2022-11-02T04:33:28.241934Z",
     "iopub.status.busy": "2022-11-02T04:33:28.241488Z",
     "iopub.status.idle": "2022-11-02T04:33:29.143895Z",
     "shell.execute_reply": "2022-11-02T04:33:29.143000Z"
    },
    "papermill": {
     "duration": 0.9144,
     "end_time": "2022-11-02T04:33:29.146081",
     "exception": false,
     "start_time": "2022-11-02T04:33:28.231681",
     "status": "completed"
    },
    "tags": []
   },
   "outputs": [
    {
     "data": {
      "text/html": [
       "<div>\n",
       "<style scoped>\n",
       "    .dataframe tbody tr th:only-of-type {\n",
       "        vertical-align: middle;\n",
       "    }\n",
       "\n",
       "    .dataframe tbody tr th {\n",
       "        vertical-align: top;\n",
       "    }\n",
       "\n",
       "    .dataframe thead th {\n",
       "        text-align: right;\n",
       "    }\n",
       "</style>\n",
       "<table border=\"1\" class=\"dataframe\">\n",
       "  <thead>\n",
       "    <tr style=\"text-align: right;\">\n",
       "      <th></th>\n",
       "      <th>OriginalTweet</th>\n",
       "      <th>Sentiment</th>\n",
       "      <th>tokens_raw</th>\n",
       "    </tr>\n",
       "  </thead>\n",
       "  <tbody>\n",
       "    <tr>\n",
       "      <th>0</th>\n",
       "      <td>TRENDING: New Yorkers encounter empty supermar...</td>\n",
       "      <td>Extremely Negative</td>\n",
       "      <td>[trending, :, new, yorkers, encounter, empty, ...</td>\n",
       "    </tr>\n",
       "    <tr>\n",
       "      <th>1</th>\n",
       "      <td>When I couldn't find hand sanitizer at Fred Me...</td>\n",
       "      <td>Positive</td>\n",
       "      <td>[when, i, couldn't, find, hand, sanitizer, at,...</td>\n",
       "    </tr>\n",
       "    <tr>\n",
       "      <th>2</th>\n",
       "      <td>Find out how you can protect yourself and love...</td>\n",
       "      <td>Extremely Positive</td>\n",
       "      <td>[find, out, how, you, can, protect, yourself, ...</td>\n",
       "    </tr>\n",
       "    <tr>\n",
       "      <th>3</th>\n",
       "      <td>#Panic buying hits #NewYork City as anxious sh...</td>\n",
       "      <td>Negative</td>\n",
       "      <td>[#panic, buying, hits, #newyork, city, as, anx...</td>\n",
       "    </tr>\n",
       "    <tr>\n",
       "      <th>4</th>\n",
       "      <td>#toiletpaper #dunnypaper #coronavirus #coronav...</td>\n",
       "      <td>Neutral</td>\n",
       "      <td>[#toiletpaper, #dunnypaper, #coronavirus, #cor...</td>\n",
       "    </tr>\n",
       "  </tbody>\n",
       "</table>\n",
       "</div>"
      ],
      "text/plain": [
       "                                       OriginalTweet           Sentiment  \\\n",
       "0  TRENDING: New Yorkers encounter empty supermar...  Extremely Negative   \n",
       "1  When I couldn't find hand sanitizer at Fred Me...            Positive   \n",
       "2  Find out how you can protect yourself and love...  Extremely Positive   \n",
       "3  #Panic buying hits #NewYork City as anxious sh...            Negative   \n",
       "4  #toiletpaper #dunnypaper #coronavirus #coronav...             Neutral   \n",
       "\n",
       "                                          tokens_raw  \n",
       "0  [trending, :, new, yorkers, encounter, empty, ...  \n",
       "1  [when, i, couldn't, find, hand, sanitizer, at,...  \n",
       "2  [find, out, how, you, can, protect, yourself, ...  \n",
       "3  [#panic, buying, hits, #newyork, city, as, anx...  \n",
       "4  [#toiletpaper, #dunnypaper, #coronavirus, #cor...  "
      ]
     },
     "execution_count": 9,
     "metadata": {},
     "output_type": "execute_result"
    }
   ],
   "source": [
    "test_data['tokens_raw'] = test_data['OriginalTweet'].apply(lambda x: tk.tokenize(x.lower()))\n",
    "test_data.head()"
   ]
  },
  {
   "cell_type": "markdown",
   "id": "8e6685a9",
   "metadata": {
    "papermill": {
     "duration": 0.008081,
     "end_time": "2022-11-02T04:33:29.162548",
     "exception": false,
     "start_time": "2022-11-02T04:33:29.154467",
     "status": "completed"
    },
    "tags": []
   },
   "source": [
    "This takes out any unnecessary token words that we don't want in our dataset such as \"the\", \"to\", \"I\", or any punctuation "
   ]
  },
  {
   "cell_type": "code",
   "execution_count": 10,
   "id": "a762f7a8",
   "metadata": {
    "execution": {
     "iopub.execute_input": "2022-11-02T04:33:29.181249Z",
     "iopub.status.busy": "2022-11-02T04:33:29.180531Z",
     "iopub.status.idle": "2022-11-02T04:33:30.740636Z",
     "shell.execute_reply": "2022-11-02T04:33:30.739382Z"
    },
    "papermill": {
     "duration": 1.572351,
     "end_time": "2022-11-02T04:33:30.743230",
     "exception": false,
     "start_time": "2022-11-02T04:33:29.170879",
     "status": "completed"
    },
    "tags": []
   },
   "outputs": [
    {
     "data": {
      "text/html": [
       "<div>\n",
       "<style scoped>\n",
       "    .dataframe tbody tr th:only-of-type {\n",
       "        vertical-align: middle;\n",
       "    }\n",
       "\n",
       "    .dataframe tbody tr th {\n",
       "        vertical-align: top;\n",
       "    }\n",
       "\n",
       "    .dataframe thead th {\n",
       "        text-align: right;\n",
       "    }\n",
       "</style>\n",
       "<table border=\"1\" class=\"dataframe\">\n",
       "  <thead>\n",
       "    <tr style=\"text-align: right;\">\n",
       "      <th></th>\n",
       "      <th>OriginalTweet</th>\n",
       "      <th>Sentiment</th>\n",
       "      <th>tokens_raw</th>\n",
       "    </tr>\n",
       "  </thead>\n",
       "  <tbody>\n",
       "    <tr>\n",
       "      <th>0</th>\n",
       "      <td>@MeNyrbie @Phil_Gahan @Chrisitv https://t.co/i...</td>\n",
       "      <td>Neutral</td>\n",
       "      <td>[@menyrbie, @phil_gahan, @chrisitv, https://t....</td>\n",
       "    </tr>\n",
       "    <tr>\n",
       "      <th>1</th>\n",
       "      <td>advice Talk to your neighbours family to excha...</td>\n",
       "      <td>Positive</td>\n",
       "      <td>[advice, talk, neighbours, family, exchange, p...</td>\n",
       "    </tr>\n",
       "    <tr>\n",
       "      <th>2</th>\n",
       "      <td>Coronavirus Australia: Woolworths to give elde...</td>\n",
       "      <td>Positive</td>\n",
       "      <td>[coronavirus, australia, woolworths, give, eld...</td>\n",
       "    </tr>\n",
       "    <tr>\n",
       "      <th>3</th>\n",
       "      <td>My food stock is not the only one which is emp...</td>\n",
       "      <td>Positive</td>\n",
       "      <td>[food, stock, one, empty, ..., please, ,, pani...</td>\n",
       "    </tr>\n",
       "    <tr>\n",
       "      <th>4</th>\n",
       "      <td>Me, ready to go at supermarket during the #COV...</td>\n",
       "      <td>Extremely Negative</td>\n",
       "      <td>[,, ready, go, supermarket, outbreak, i'm, par...</td>\n",
       "    </tr>\n",
       "  </tbody>\n",
       "</table>\n",
       "</div>"
      ],
      "text/plain": [
       "                                       OriginalTweet           Sentiment  \\\n",
       "0  @MeNyrbie @Phil_Gahan @Chrisitv https://t.co/i...             Neutral   \n",
       "1  advice Talk to your neighbours family to excha...            Positive   \n",
       "2  Coronavirus Australia: Woolworths to give elde...            Positive   \n",
       "3  My food stock is not the only one which is emp...            Positive   \n",
       "4  Me, ready to go at supermarket during the #COV...  Extremely Negative   \n",
       "\n",
       "                                          tokens_raw  \n",
       "0  [@menyrbie, @phil_gahan, @chrisitv, https://t....  \n",
       "1  [advice, talk, neighbours, family, exchange, p...  \n",
       "2  [coronavirus, australia, woolworths, give, eld...  \n",
       "3  [food, stock, one, empty, ..., please, ,, pani...  \n",
       "4  [,, ready, go, supermarket, outbreak, i'm, par...  "
      ]
     },
     "execution_count": 10,
     "metadata": {},
     "output_type": "execute_result"
    }
   ],
   "source": [
    "import re\n",
    "from nltk.corpus import stopwords\n",
    "stop = set(stopwords.words('english'))\n",
    "removechars = set(['.','/','!','/','?',':',';'])\n",
    "train_data['tokens_raw'] = train_data['tokens_raw'].apply(lambda x: [w for w in x if w not in stop])\n",
    "train_data['tokens_raw'] = train_data['tokens_raw'].apply(lambda x: [w for w in x if w not in removechars])\n",
    "train_data['tokens_raw'] = train_data['tokens_raw'].apply(lambda x: [w for w in x if not re.match('^#', w)])\n",
    "train_data.head()"
   ]
  },
  {
   "cell_type": "code",
   "execution_count": 11,
   "id": "b5212d1d",
   "metadata": {
    "execution": {
     "iopub.execute_input": "2022-11-02T04:33:30.762442Z",
     "iopub.status.busy": "2022-11-02T04:33:30.761986Z",
     "iopub.status.idle": "2022-11-02T04:33:30.916342Z",
     "shell.execute_reply": "2022-11-02T04:33:30.915080Z"
    },
    "papermill": {
     "duration": 0.167161,
     "end_time": "2022-11-02T04:33:30.918994",
     "exception": false,
     "start_time": "2022-11-02T04:33:30.751833",
     "status": "completed"
    },
    "tags": []
   },
   "outputs": [
    {
     "data": {
      "text/html": [
       "<div>\n",
       "<style scoped>\n",
       "    .dataframe tbody tr th:only-of-type {\n",
       "        vertical-align: middle;\n",
       "    }\n",
       "\n",
       "    .dataframe tbody tr th {\n",
       "        vertical-align: top;\n",
       "    }\n",
       "\n",
       "    .dataframe thead th {\n",
       "        text-align: right;\n",
       "    }\n",
       "</style>\n",
       "<table border=\"1\" class=\"dataframe\">\n",
       "  <thead>\n",
       "    <tr style=\"text-align: right;\">\n",
       "      <th></th>\n",
       "      <th>OriginalTweet</th>\n",
       "      <th>Sentiment</th>\n",
       "      <th>tokens_raw</th>\n",
       "    </tr>\n",
       "  </thead>\n",
       "  <tbody>\n",
       "    <tr>\n",
       "      <th>0</th>\n",
       "      <td>TRENDING: New Yorkers encounter empty supermar...</td>\n",
       "      <td>Extremely Negative</td>\n",
       "      <td>[trending, new, yorkers, encounter, empty, sup...</td>\n",
       "    </tr>\n",
       "    <tr>\n",
       "      <th>1</th>\n",
       "      <td>When I couldn't find hand sanitizer at Fred Me...</td>\n",
       "      <td>Positive</td>\n",
       "      <td>[find, hand, sanitizer, fred, meyer, ,, turned...</td>\n",
       "    </tr>\n",
       "    <tr>\n",
       "      <th>2</th>\n",
       "      <td>Find out how you can protect yourself and love...</td>\n",
       "      <td>Extremely Positive</td>\n",
       "      <td>[find, protect, loved, ones]</td>\n",
       "    </tr>\n",
       "    <tr>\n",
       "      <th>3</th>\n",
       "      <td>#Panic buying hits #NewYork City as anxious sh...</td>\n",
       "      <td>Negative</td>\n",
       "      <td>[buying, hits, city, anxious, shoppers, stock,...</td>\n",
       "    </tr>\n",
       "    <tr>\n",
       "      <th>4</th>\n",
       "      <td>#toiletpaper #dunnypaper #coronavirus #coronav...</td>\n",
       "      <td>Neutral</td>\n",
       "      <td>[one, week, everyone, buying, baby, milk, powd...</td>\n",
       "    </tr>\n",
       "  </tbody>\n",
       "</table>\n",
       "</div>"
      ],
      "text/plain": [
       "                                       OriginalTweet           Sentiment  \\\n",
       "0  TRENDING: New Yorkers encounter empty supermar...  Extremely Negative   \n",
       "1  When I couldn't find hand sanitizer at Fred Me...            Positive   \n",
       "2  Find out how you can protect yourself and love...  Extremely Positive   \n",
       "3  #Panic buying hits #NewYork City as anxious sh...            Negative   \n",
       "4  #toiletpaper #dunnypaper #coronavirus #coronav...             Neutral   \n",
       "\n",
       "                                          tokens_raw  \n",
       "0  [trending, new, yorkers, encounter, empty, sup...  \n",
       "1  [find, hand, sanitizer, fred, meyer, ,, turned...  \n",
       "2                       [find, protect, loved, ones]  \n",
       "3  [buying, hits, city, anxious, shoppers, stock,...  \n",
       "4  [one, week, everyone, buying, baby, milk, powd...  "
      ]
     },
     "execution_count": 11,
     "metadata": {},
     "output_type": "execute_result"
    }
   ],
   "source": [
    "test_data['tokens_raw'] = test_data['tokens_raw'].apply(lambda x: [w for w in x if w not in stop])\n",
    "test_data['tokens_raw'] = test_data['tokens_raw'].apply(lambda x: [w for w in x if w not in removechars])\n",
    "test_data['tokens_raw'] = test_data['tokens_raw'].apply(lambda x: [w for w in x if not re.match('^#', w)])\n",
    "test_data.head()"
   ]
  },
  {
   "cell_type": "markdown",
   "id": "7978b2d0",
   "metadata": {
    "papermill": {
     "duration": 0.008589,
     "end_time": "2022-11-02T04:33:30.936487",
     "exception": false,
     "start_time": "2022-11-02T04:33:30.927898",
     "status": "completed"
    },
    "tags": []
   },
   "source": [
    "Instead of having the same words in different forms have their own token value, we group all of those words together to be only one token value."
   ]
  },
  {
   "cell_type": "code",
   "execution_count": 12,
   "id": "b14f1688",
   "metadata": {
    "execution": {
     "iopub.execute_input": "2022-11-02T04:33:30.958132Z",
     "iopub.status.busy": "2022-11-02T04:33:30.956945Z",
     "iopub.status.idle": "2022-11-02T04:33:37.504375Z",
     "shell.execute_reply": "2022-11-02T04:33:37.501881Z"
    },
    "papermill": {
     "duration": 6.561719,
     "end_time": "2022-11-02T04:33:37.507035",
     "exception": false,
     "start_time": "2022-11-02T04:33:30.945316",
     "status": "completed"
    },
    "tags": []
   },
   "outputs": [
    {
     "name": "stderr",
     "output_type": "stream",
     "text": [
      "[nltk_data] Downloading package wordnet to /usr/share/nltk_data...\n",
      "[nltk_data]   Package wordnet is already up-to-date!\n",
      "[nltk_data] Downloading package omw-1.4 to /usr/share/nltk_data...\n"
     ]
    },
    {
     "data": {
      "text/html": [
       "<div>\n",
       "<style scoped>\n",
       "    .dataframe tbody tr th:only-of-type {\n",
       "        vertical-align: middle;\n",
       "    }\n",
       "\n",
       "    .dataframe tbody tr th {\n",
       "        vertical-align: top;\n",
       "    }\n",
       "\n",
       "    .dataframe thead th {\n",
       "        text-align: right;\n",
       "    }\n",
       "</style>\n",
       "<table border=\"1\" class=\"dataframe\">\n",
       "  <thead>\n",
       "    <tr style=\"text-align: right;\">\n",
       "      <th></th>\n",
       "      <th>OriginalTweet</th>\n",
       "      <th>Sentiment</th>\n",
       "      <th>tokens_raw</th>\n",
       "      <th>tokens</th>\n",
       "    </tr>\n",
       "  </thead>\n",
       "  <tbody>\n",
       "    <tr>\n",
       "      <th>0</th>\n",
       "      <td>@MeNyrbie @Phil_Gahan @Chrisitv https://t.co/i...</td>\n",
       "      <td>Neutral</td>\n",
       "      <td>[@menyrbie, @phil_gahan, @chrisitv, https://t....</td>\n",
       "      <td>[@menyrbie, @phil_gahan, @chrisitv, https://t....</td>\n",
       "    </tr>\n",
       "    <tr>\n",
       "      <th>1</th>\n",
       "      <td>advice Talk to your neighbours family to excha...</td>\n",
       "      <td>Positive</td>\n",
       "      <td>[advice, talk, neighbours, family, exchange, p...</td>\n",
       "      <td>[advice, talk, neighbour, family, exchange, ph...</td>\n",
       "    </tr>\n",
       "    <tr>\n",
       "      <th>2</th>\n",
       "      <td>Coronavirus Australia: Woolworths to give elde...</td>\n",
       "      <td>Positive</td>\n",
       "      <td>[coronavirus, australia, woolworths, give, eld...</td>\n",
       "      <td>[coronavirus, australia, woolworths, give, eld...</td>\n",
       "    </tr>\n",
       "    <tr>\n",
       "      <th>3</th>\n",
       "      <td>My food stock is not the only one which is emp...</td>\n",
       "      <td>Positive</td>\n",
       "      <td>[food, stock, one, empty, ..., please, ,, pani...</td>\n",
       "      <td>[food, stock, one, empty, ..., please, ,, pani...</td>\n",
       "    </tr>\n",
       "    <tr>\n",
       "      <th>4</th>\n",
       "      <td>Me, ready to go at supermarket during the #COV...</td>\n",
       "      <td>Extremely Negative</td>\n",
       "      <td>[,, ready, go, supermarket, outbreak, i'm, par...</td>\n",
       "      <td>[,, ready, go, supermarket, outbreak, i'm, par...</td>\n",
       "    </tr>\n",
       "  </tbody>\n",
       "</table>\n",
       "</div>"
      ],
      "text/plain": [
       "                                       OriginalTweet           Sentiment  \\\n",
       "0  @MeNyrbie @Phil_Gahan @Chrisitv https://t.co/i...             Neutral   \n",
       "1  advice Talk to your neighbours family to excha...            Positive   \n",
       "2  Coronavirus Australia: Woolworths to give elde...            Positive   \n",
       "3  My food stock is not the only one which is emp...            Positive   \n",
       "4  Me, ready to go at supermarket during the #COV...  Extremely Negative   \n",
       "\n",
       "                                          tokens_raw  \\\n",
       "0  [@menyrbie, @phil_gahan, @chrisitv, https://t....   \n",
       "1  [advice, talk, neighbours, family, exchange, p...   \n",
       "2  [coronavirus, australia, woolworths, give, eld...   \n",
       "3  [food, stock, one, empty, ..., please, ,, pani...   \n",
       "4  [,, ready, go, supermarket, outbreak, i'm, par...   \n",
       "\n",
       "                                              tokens  \n",
       "0  [@menyrbie, @phil_gahan, @chrisitv, https://t....  \n",
       "1  [advice, talk, neighbour, family, exchange, ph...  \n",
       "2  [coronavirus, australia, woolworths, give, eld...  \n",
       "3  [food, stock, one, empty, ..., please, ,, pani...  \n",
       "4  [,, ready, go, supermarket, outbreak, i'm, par...  "
      ]
     },
     "execution_count": 12,
     "metadata": {},
     "output_type": "execute_result"
    }
   ],
   "source": [
    "from nltk.stem import WordNetLemmatizer\n",
    "import nltk\n",
    "nltk.download('wordnet')\n",
    "nltk.download('omw-1.4')\n",
    "lemmatizer = WordNetLemmatizer()\n",
    "train_data['tokens'] = train_data['tokens_raw'].apply(lambda x: [lemmatizer.lemmatize(w, pos=\"v\") for w in x])\n",
    "train_data.head()"
   ]
  },
  {
   "cell_type": "code",
   "execution_count": 13,
   "id": "321b6cde",
   "metadata": {
    "execution": {
     "iopub.execute_input": "2022-11-02T04:33:37.528351Z",
     "iopub.status.busy": "2022-11-02T04:33:37.527577Z",
     "iopub.status.idle": "2022-11-02T04:33:37.953911Z",
     "shell.execute_reply": "2022-11-02T04:33:37.952771Z"
    },
    "papermill": {
     "duration": 0.43978,
     "end_time": "2022-11-02T04:33:37.956569",
     "exception": false,
     "start_time": "2022-11-02T04:33:37.516789",
     "status": "completed"
    },
    "tags": []
   },
   "outputs": [
    {
     "data": {
      "text/html": [
       "<div>\n",
       "<style scoped>\n",
       "    .dataframe tbody tr th:only-of-type {\n",
       "        vertical-align: middle;\n",
       "    }\n",
       "\n",
       "    .dataframe tbody tr th {\n",
       "        vertical-align: top;\n",
       "    }\n",
       "\n",
       "    .dataframe thead th {\n",
       "        text-align: right;\n",
       "    }\n",
       "</style>\n",
       "<table border=\"1\" class=\"dataframe\">\n",
       "  <thead>\n",
       "    <tr style=\"text-align: right;\">\n",
       "      <th></th>\n",
       "      <th>OriginalTweet</th>\n",
       "      <th>Sentiment</th>\n",
       "      <th>tokens_raw</th>\n",
       "      <th>tokens</th>\n",
       "    </tr>\n",
       "  </thead>\n",
       "  <tbody>\n",
       "    <tr>\n",
       "      <th>0</th>\n",
       "      <td>TRENDING: New Yorkers encounter empty supermar...</td>\n",
       "      <td>Extremely Negative</td>\n",
       "      <td>[trending, new, yorkers, encounter, empty, sup...</td>\n",
       "      <td>[trend, new, yorkers, encounter, empty, superm...</td>\n",
       "    </tr>\n",
       "    <tr>\n",
       "      <th>1</th>\n",
       "      <td>When I couldn't find hand sanitizer at Fred Me...</td>\n",
       "      <td>Positive</td>\n",
       "      <td>[find, hand, sanitizer, fred, meyer, ,, turned...</td>\n",
       "      <td>[find, hand, sanitizer, fred, meyer, ,, turn, ...</td>\n",
       "    </tr>\n",
       "    <tr>\n",
       "      <th>2</th>\n",
       "      <td>Find out how you can protect yourself and love...</td>\n",
       "      <td>Extremely Positive</td>\n",
       "      <td>[find, protect, loved, ones]</td>\n",
       "      <td>[find, protect, love, ones]</td>\n",
       "    </tr>\n",
       "    <tr>\n",
       "      <th>3</th>\n",
       "      <td>#Panic buying hits #NewYork City as anxious sh...</td>\n",
       "      <td>Negative</td>\n",
       "      <td>[buying, hits, city, anxious, shoppers, stock,...</td>\n",
       "      <td>[buy, hit, city, anxious, shoppers, stock, foo...</td>\n",
       "    </tr>\n",
       "    <tr>\n",
       "      <th>4</th>\n",
       "      <td>#toiletpaper #dunnypaper #coronavirus #coronav...</td>\n",
       "      <td>Neutral</td>\n",
       "      <td>[one, week, everyone, buying, baby, milk, powd...</td>\n",
       "      <td>[one, week, everyone, buy, baby, milk, powder,...</td>\n",
       "    </tr>\n",
       "  </tbody>\n",
       "</table>\n",
       "</div>"
      ],
      "text/plain": [
       "                                       OriginalTweet           Sentiment  \\\n",
       "0  TRENDING: New Yorkers encounter empty supermar...  Extremely Negative   \n",
       "1  When I couldn't find hand sanitizer at Fred Me...            Positive   \n",
       "2  Find out how you can protect yourself and love...  Extremely Positive   \n",
       "3  #Panic buying hits #NewYork City as anxious sh...            Negative   \n",
       "4  #toiletpaper #dunnypaper #coronavirus #coronav...             Neutral   \n",
       "\n",
       "                                          tokens_raw  \\\n",
       "0  [trending, new, yorkers, encounter, empty, sup...   \n",
       "1  [find, hand, sanitizer, fred, meyer, ,, turned...   \n",
       "2                       [find, protect, loved, ones]   \n",
       "3  [buying, hits, city, anxious, shoppers, stock,...   \n",
       "4  [one, week, everyone, buying, baby, milk, powd...   \n",
       "\n",
       "                                              tokens  \n",
       "0  [trend, new, yorkers, encounter, empty, superm...  \n",
       "1  [find, hand, sanitizer, fred, meyer, ,, turn, ...  \n",
       "2                        [find, protect, love, ones]  \n",
       "3  [buy, hit, city, anxious, shoppers, stock, foo...  \n",
       "4  [one, week, everyone, buy, baby, milk, powder,...  "
      ]
     },
     "execution_count": 13,
     "metadata": {},
     "output_type": "execute_result"
    }
   ],
   "source": [
    "test_data['tokens'] = test_data['tokens_raw'].apply(lambda x: [lemmatizer.lemmatize(w, pos=\"v\") for w in x])\n",
    "test_data.head()"
   ]
  },
  {
   "cell_type": "markdown",
   "id": "a04f347b",
   "metadata": {
    "papermill": {
     "duration": 0.008967,
     "end_time": "2022-11-02T04:33:37.974964",
     "exception": false,
     "start_time": "2022-11-02T04:33:37.965997",
     "status": "completed"
    },
    "tags": []
   },
   "source": [
    "Make a vocabulary for all the words that are in our training data set, and we keep track how much they appear all together, and how much they appear in each tweet that is positive, negative, extremely positive, extremely negative, and neutral."
   ]
  },
  {
   "cell_type": "code",
   "execution_count": 14,
   "id": "0abfc224",
   "metadata": {
    "execution": {
     "iopub.execute_input": "2022-11-02T04:33:37.995308Z",
     "iopub.status.busy": "2022-11-02T04:33:37.994873Z",
     "iopub.status.idle": "2022-11-02T04:33:38.573911Z",
     "shell.execute_reply": "2022-11-02T04:33:38.572507Z"
    },
    "papermill": {
     "duration": 0.592572,
     "end_time": "2022-11-02T04:33:38.576658",
     "exception": false,
     "start_time": "2022-11-02T04:33:37.984086",
     "status": "completed"
    },
    "tags": []
   },
   "outputs": [
    {
     "name": "stdout",
     "output_type": "stream",
     "text": [
      "All tokens: 67595, Pos: 26716, Ex Pos: 18154, Neg: 23488, Ex Neg: 15277, Neu: 19492\n"
     ]
    }
   ],
   "source": [
    "train_pos = train_data[train_data['Sentiment'] == 'Positive']\n",
    "train_expos = train_data[train_data['Sentiment'] == 'Extremely Positive']\n",
    "train_neg = train_data[train_data['Sentiment'] == 'Negative']\n",
    "train_exneg = train_data[train_data['Sentiment'] == 'Extremely Negative']\n",
    "train_neu = train_data[train_data['Sentiment'] == 'Neutral']\n",
    "\n",
    "def vocab_list(tokens_column):\n",
    "    vocab = dict()\n",
    "    for tweet_tokens in tokens_column:\n",
    "        for token in tweet_tokens:\n",
    "            if token not in vocab:\n",
    "                vocab[token] = 1\n",
    "            else:\n",
    "                vocab[token] += 1\n",
    "    return vocab\n",
    "\n",
    "vocab_all = dict(sorted(vocab_list(train_data['tokens']).items(), key=lambda item: item[1], reverse=True))\n",
    "vocab_pos = dict(sorted(vocab_list(train_pos['tokens']).items(), key=lambda item: item[1], reverse=True))\n",
    "vocab_expos = dict(sorted(vocab_list(train_expos['tokens']).items(), key=lambda item: item[1], reverse=True))\n",
    "vocab_neg = dict(sorted(vocab_list(train_neg['tokens']).items(), key=lambda item: item[1], reverse=True))\n",
    "vocab_exneg = dict(sorted(vocab_list(train_exneg['tokens']).items(), key=lambda item: item[1], reverse=True))\n",
    "vocab_neu = dict(sorted(vocab_list(train_neu['tokens']).items(), key=lambda item: item[1], reverse=True))\n",
    "print(f\"All tokens: {len(vocab_all)}, Pos: {len(vocab_pos)}, Ex Pos: {len(vocab_expos)}, Neg: {len(vocab_neg)}, Ex Neg: {len(vocab_exneg)}, Neu: {len(vocab_neu)}\")"
   ]
  },
  {
   "cell_type": "code",
   "execution_count": 15,
   "id": "00249890",
   "metadata": {
    "execution": {
     "iopub.execute_input": "2022-11-02T04:33:38.597972Z",
     "iopub.status.busy": "2022-11-02T04:33:38.596749Z",
     "iopub.status.idle": "2022-11-02T04:33:38.624368Z",
     "shell.execute_reply": "2022-11-02T04:33:38.623062Z"
    },
    "papermill": {
     "duration": 0.04084,
     "end_time": "2022-11-02T04:33:38.627006",
     "exception": false,
     "start_time": "2022-11-02T04:33:38.586166",
     "status": "completed"
    },
    "tags": []
   },
   "outputs": [
    {
     "data": {
      "text/plain": [
       "[(',', 28642),\n",
       " ('19', 12249),\n",
       " ('-', 11511),\n",
       " ('covid', 10607),\n",
       " ('price', 8957),\n",
       " ('store', 8161),\n",
       " ('\\x92', 7155),\n",
       " ('food', 6826),\n",
       " ('supermarket', 6686),\n",
       " ('grocery', 6087),\n",
       " ('people', 5528),\n",
       " ('go', 5332),\n",
       " ('shop', 4875),\n",
       " ('get', 4467),\n",
       " ('consumer', 4274),\n",
       " ('&', 3837),\n",
       " ('need', 3546),\n",
       " ('\"', 3404),\n",
       " ('buy', 3370),\n",
       " ('â', 3358)]"
      ]
     },
     "execution_count": 15,
     "metadata": {},
     "output_type": "execute_result"
    }
   ],
   "source": [
    "list(vocab_all.items())[:20]"
   ]
  },
  {
   "cell_type": "code",
   "execution_count": 16,
   "id": "d896d7cb",
   "metadata": {
    "execution": {
     "iopub.execute_input": "2022-11-02T04:33:38.648213Z",
     "iopub.status.busy": "2022-11-02T04:33:38.647798Z",
     "iopub.status.idle": "2022-11-02T04:33:38.658553Z",
     "shell.execute_reply": "2022-11-02T04:33:38.657243Z"
    },
    "papermill": {
     "duration": 0.024737,
     "end_time": "2022-11-02T04:33:38.661155",
     "exception": false,
     "start_time": "2022-11-02T04:33:38.636418",
     "status": "completed"
    },
    "tags": []
   },
   "outputs": [],
   "source": [
    "top_n_to_remove = 1000\n",
    "for i, item in enumerate(vocab_all.items()):\n",
    "    if i == top_n_to_remove:\n",
    "        break\n",
    "    if item[0] in vocab_pos:\n",
    "        del vocab_pos[item[0]]\n",
    "    if item[0] in vocab_expos:\n",
    "        del vocab_expos[item[0]]\n",
    "    if item[0] in vocab_neg:\n",
    "        del vocab_neg[item[0]]\n",
    "    if item[0] in vocab_exneg:\n",
    "        del vocab_exneg[item[0]]\n",
    "    if item[0] in vocab_neu:\n",
    "        del vocab_neu[item[0]]"
   ]
  },
  {
   "cell_type": "code",
   "execution_count": 17,
   "id": "aba36208",
   "metadata": {
    "execution": {
     "iopub.execute_input": "2022-11-02T04:33:38.681620Z",
     "iopub.status.busy": "2022-11-02T04:33:38.681215Z",
     "iopub.status.idle": "2022-11-02T04:33:38.695601Z",
     "shell.execute_reply": "2022-11-02T04:33:38.694292Z"
    },
    "papermill": {
     "duration": 0.02737,
     "end_time": "2022-11-02T04:33:38.697937",
     "exception": false,
     "start_time": "2022-11-02T04:33:38.670567",
     "status": "completed"
    },
    "tags": []
   },
   "outputs": [
    {
     "data": {
      "text/plain": [
       "[('novel', 59),\n",
       " ('greater', 49),\n",
       " ('epidemic', 48),\n",
       " ('behaviors', 46),\n",
       " ('distribute', 45),\n",
       " ('fair', 44),\n",
       " ('surface', 44),\n",
       " ('significant', 43),\n",
       " ('page', 42),\n",
       " ('highlight', 41),\n",
       " ('approve', 41),\n",
       " ('industries', 41),\n",
       " ('hop', 41),\n",
       " ('traffic', 41),\n",
       " ('recently', 40),\n",
       " ('aware', 39),\n",
       " ('teachers', 39),\n",
       " ('husband', 39),\n",
       " ('dm', 39),\n",
       " ('sanitiser', 38)]"
      ]
     },
     "execution_count": 17,
     "metadata": {},
     "output_type": "execute_result"
    }
   ],
   "source": [
    "list(vocab_pos.items())[:20]"
   ]
  },
  {
   "cell_type": "code",
   "execution_count": 18,
   "id": "1cc94220",
   "metadata": {
    "execution": {
     "iopub.execute_input": "2022-11-02T04:33:38.719135Z",
     "iopub.status.busy": "2022-11-02T04:33:38.718738Z",
     "iopub.status.idle": "2022-11-02T04:33:38.731089Z",
     "shell.execute_reply": "2022-11-02T04:33:38.729958Z"
    },
    "papermill": {
     "duration": 0.026089,
     "end_time": "2022-11-02T04:33:38.733407",
     "exception": false,
     "start_time": "2022-11-02T04:33:38.707318",
     "status": "completed"
    },
    "tags": []
   },
   "outputs": [
    {
     "data": {
      "text/plain": [
       "[('grateful', 65),\n",
       " ('super', 59),\n",
       " ('win', 50),\n",
       " ('enjoy', 50),\n",
       " ('trust', 50),\n",
       " ('fun', 46),\n",
       " ('safely', 45),\n",
       " ('lol', 43),\n",
       " ('smart', 43),\n",
       " ('proud', 42),\n",
       " ('bless', 42),\n",
       " ('kindly', 41),\n",
       " ('truly', 41),\n",
       " ('rt', 40),\n",
       " ('professionals', 40),\n",
       " ('helpful', 40),\n",
       " ('solution', 39),\n",
       " ('smile', 39),\n",
       " ('greater', 38),\n",
       " ('commit', 38)]"
      ]
     },
     "execution_count": 18,
     "metadata": {},
     "output_type": "execute_result"
    }
   ],
   "source": [
    "list(vocab_expos.items())[:20]"
   ]
  },
  {
   "cell_type": "code",
   "execution_count": 19,
   "id": "52590ec7",
   "metadata": {
    "execution": {
     "iopub.execute_input": "2022-11-02T04:33:38.754195Z",
     "iopub.status.busy": "2022-11-02T04:33:38.753776Z",
     "iopub.status.idle": "2022-11-02T04:33:38.767893Z",
     "shell.execute_reply": "2022-11-02T04:33:38.766851Z"
    },
    "papermill": {
     "duration": 0.027214,
     "end_time": "2022-11-02T04:33:38.770142",
     "exception": false,
     "start_time": "2022-11-02T04:33:38.742928",
     "status": "completed"
    },
    "tags": []
   },
   "outputs": [
    {
     "data": {
      "text/plain": [
       "[('uncertainty', 53),\n",
       " ('damn', 50),\n",
       " ('export', 47),\n",
       " ('lowest', 46),\n",
       " ('file', 44),\n",
       " ('problems', 43),\n",
       " ('fell', 42),\n",
       " ('officials', 41),\n",
       " ('arabia', 40),\n",
       " ('complete', 39),\n",
       " ('strain', 38),\n",
       " ('threat', 38),\n",
       " ('inflation', 37),\n",
       " ('suspend', 37),\n",
       " ('barrel', 37),\n",
       " ('dairy', 37),\n",
       " ('hereâ', 36),\n",
       " ('chicken', 36),\n",
       " ('output', 36),\n",
       " ('largest', 36)]"
      ]
     },
     "execution_count": 19,
     "metadata": {},
     "output_type": "execute_result"
    }
   ],
   "source": [
    "list(vocab_neg.items())[:20]"
   ]
  },
  {
   "cell_type": "code",
   "execution_count": 20,
   "id": "36d155ea",
   "metadata": {
    "execution": {
     "iopub.execute_input": "2022-11-02T04:33:38.791165Z",
     "iopub.status.busy": "2022-11-02T04:33:38.790744Z",
     "iopub.status.idle": "2022-11-02T04:33:38.802321Z",
     "shell.execute_reply": "2022-11-02T04:33:38.801252Z"
    },
    "papermill": {
     "duration": 0.024773,
     "end_time": "2022-11-02T04:33:38.804618",
     "exception": false,
     "start_time": "2022-11-02T04:33:38.779845",
     "status": "completed"
    },
    "tags": []
   },
   "outputs": [
    {
     "data": {
      "text/plain": [
       "[('fraud', 68),\n",
       " ('greedy', 63),\n",
       " ('hell', 62),\n",
       " ('stupid', 60),\n",
       " ('attack', 59),\n",
       " ('steal', 59),\n",
       " ('disgust', 55),\n",
       " ('sad', 55),\n",
       " ('exploit', 50),\n",
       " ('destroy', 49),\n",
       " ('threat', 47),\n",
       " ('negative', 46),\n",
       " ('cry', 45),\n",
       " ('ass', 44),\n",
       " ('dead', 43),\n",
       " ('wtf', 43),\n",
       " ('lowest', 43),\n",
       " ('hunger', 43),\n",
       " ('chaos', 42),\n",
       " ('hurt', 42)]"
      ]
     },
     "execution_count": 20,
     "metadata": {},
     "output_type": "execute_result"
    }
   ],
   "source": [
    "list(vocab_exneg.items())[:20]"
   ]
  },
  {
   "cell_type": "code",
   "execution_count": 21,
   "id": "daf7596e",
   "metadata": {
    "execution": {
     "iopub.execute_input": "2022-11-02T04:33:38.826502Z",
     "iopub.status.busy": "2022-11-02T04:33:38.825598Z",
     "iopub.status.idle": "2022-11-02T04:33:38.838222Z",
     "shell.execute_reply": "2022-11-02T04:33:38.836814Z"
    },
    "papermill": {
     "duration": 0.026143,
     "end_time": "2022-11-02T04:33:38.840652",
     "exception": false,
     "start_time": "2022-11-02T04:33:38.814509",
     "status": "completed"
    },
    "tags": []
   },
   "outputs": [
    {
     "data": {
      "text/plain": [
       "[('_', 54),\n",
       " ('property', 36),\n",
       " ('california', 32),\n",
       " ('@youtube', 30),\n",
       " ('ticket', 29),\n",
       " ('jump', 29),\n",
       " ('11', 28),\n",
       " ('©', 27),\n",
       " ('guidance', 27),\n",
       " ('reveal', 27),\n",
       " ('series', 26),\n",
       " ('arrive', 26),\n",
       " ('platform', 26),\n",
       " ('de', 26),\n",
       " ('¼', 26),\n",
       " ('locations', 25),\n",
       " ('mark', 25),\n",
       " ('boom', 25),\n",
       " ('mall', 25),\n",
       " ('friday', 24)]"
      ]
     },
     "execution_count": 21,
     "metadata": {},
     "output_type": "execute_result"
    }
   ],
   "source": [
    "list(vocab_neu.items())[:20]"
   ]
  }
 ],
 "metadata": {
  "kernelspec": {
   "display_name": "Python 3",
   "language": "python",
   "name": "python3"
  },
  "language_info": {
   "codemirror_mode": {
    "name": "ipython",
    "version": 3
   },
   "file_extension": ".py",
   "mimetype": "text/x-python",
   "name": "python",
   "nbconvert_exporter": "python",
   "pygments_lexer": "ipython3",
   "version": "3.7.12"
  },
  "papermill": {
   "default_parameters": {},
   "duration": 30.21418,
   "end_time": "2022-11-02T04:33:40.075185",
   "environment_variables": {},
   "exception": null,
   "input_path": "__notebook__.ipynb",
   "output_path": "__notebook__.ipynb",
   "parameters": {},
   "start_time": "2022-11-02T04:33:09.861005",
   "version": "2.3.4"
  }
 },
 "nbformat": 4,
 "nbformat_minor": 5
}
