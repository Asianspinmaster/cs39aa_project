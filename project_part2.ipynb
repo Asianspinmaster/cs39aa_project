{
 "cells": [
  {
   "cell_type": "markdown",
   "id": "6501aae8",
   "metadata": {
    "papermill": {
     "duration": 0.01003,
     "end_time": "2022-12-04T02:01:07.983775",
     "exception": false,
     "start_time": "2022-12-04T02:01:07.973745",
     "status": "completed"
    },
    "tags": []
   },
   "source": [
    "# CS 39aa Final Project Part 1"
   ]
  },
  {
   "cell_type": "markdown",
   "id": "64767c16",
   "metadata": {
    "papermill": {
     "duration": 0.010453,
     "end_time": "2022-12-04T02:01:08.003907",
     "exception": false,
     "start_time": "2022-12-04T02:01:07.993454",
     "status": "completed"
    },
    "tags": []
   },
   "source": [
    "## Introduction/Background\n",
    "_This project is based off a data set given by Kaggle \"Coronavirus tweets NLP - Text Classification.\" These tweets have been pulled from twitter and categorized accordingly such as the date, location, original tweet message, and sentiment. The data was given in two different sets of data. One data set as the training for training your data, and the other as the testing for testing and validating the data. This problem is a multi-class text classification problem meaning that the goal of this project is to project whether a certain tweet within the dataset is a \"positive\", \"negative\", \"extremely positive\", \"extremely negative\", or \"neutral\" tweet based on the words that were used within the tweet._\n"
   ]
  },
  {
   "cell_type": "markdown",
   "id": "3238e172",
   "metadata": {
    "papermill": {
     "duration": 0.008851,
     "end_time": "2022-12-04T02:01:08.021343",
     "exception": false,
     "start_time": "2022-12-04T02:01:08.012492",
     "status": "completed"
    },
    "tags": []
   },
   "source": [
    "## Exploratory Data Analysis\n"
   ]
  },
  {
   "cell_type": "code",
   "execution_count": 1,
   "id": "17d328ca",
   "metadata": {
    "execution": {
     "iopub.execute_input": "2022-12-04T02:01:08.041733Z",
     "iopub.status.busy": "2022-12-04T02:01:08.041085Z",
     "iopub.status.idle": "2022-12-04T02:01:08.426727Z",
     "shell.execute_reply": "2022-12-04T02:01:08.425446Z"
    },
    "papermill": {
     "duration": 0.400565,
     "end_time": "2022-12-04T02:01:08.430299",
     "exception": false,
     "start_time": "2022-12-04T02:01:08.029734",
     "status": "completed"
    },
    "tags": []
   },
   "outputs": [
    {
     "data": {
      "text/html": [
       "<div>\n",
       "<style scoped>\n",
       "    .dataframe tbody tr th:only-of-type {\n",
       "        vertical-align: middle;\n",
       "    }\n",
       "\n",
       "    .dataframe tbody tr th {\n",
       "        vertical-align: top;\n",
       "    }\n",
       "\n",
       "    .dataframe thead th {\n",
       "        text-align: right;\n",
       "    }\n",
       "</style>\n",
       "<table border=\"1\" class=\"dataframe\">\n",
       "  <thead>\n",
       "    <tr style=\"text-align: right;\">\n",
       "      <th></th>\n",
       "      <th>UserName</th>\n",
       "      <th>ScreenName</th>\n",
       "      <th>Location</th>\n",
       "      <th>TweetAt</th>\n",
       "      <th>OriginalTweet</th>\n",
       "      <th>Sentiment</th>\n",
       "    </tr>\n",
       "  </thead>\n",
       "  <tbody>\n",
       "    <tr>\n",
       "      <th>0</th>\n",
       "      <td>1</td>\n",
       "      <td>44953</td>\n",
       "      <td>NYC</td>\n",
       "      <td>02-03-2020</td>\n",
       "      <td>TRENDING: New Yorkers encounter empty supermar...</td>\n",
       "      <td>Extremely Negative</td>\n",
       "    </tr>\n",
       "    <tr>\n",
       "      <th>1</th>\n",
       "      <td>2</td>\n",
       "      <td>44954</td>\n",
       "      <td>Seattle, WA</td>\n",
       "      <td>02-03-2020</td>\n",
       "      <td>When I couldn't find hand sanitizer at Fred Me...</td>\n",
       "      <td>Positive</td>\n",
       "    </tr>\n",
       "    <tr>\n",
       "      <th>2</th>\n",
       "      <td>3</td>\n",
       "      <td>44955</td>\n",
       "      <td>NaN</td>\n",
       "      <td>02-03-2020</td>\n",
       "      <td>Find out how you can protect yourself and love...</td>\n",
       "      <td>Extremely Positive</td>\n",
       "    </tr>\n",
       "    <tr>\n",
       "      <th>3</th>\n",
       "      <td>4</td>\n",
       "      <td>44956</td>\n",
       "      <td>Chicagoland</td>\n",
       "      <td>02-03-2020</td>\n",
       "      <td>#Panic buying hits #NewYork City as anxious sh...</td>\n",
       "      <td>Negative</td>\n",
       "    </tr>\n",
       "    <tr>\n",
       "      <th>4</th>\n",
       "      <td>5</td>\n",
       "      <td>44957</td>\n",
       "      <td>Melbourne, Victoria</td>\n",
       "      <td>03-03-2020</td>\n",
       "      <td>#toiletpaper #dunnypaper #coronavirus #coronav...</td>\n",
       "      <td>Neutral</td>\n",
       "    </tr>\n",
       "  </tbody>\n",
       "</table>\n",
       "</div>"
      ],
      "text/plain": [
       "   UserName  ScreenName             Location     TweetAt  \\\n",
       "0         1       44953                  NYC  02-03-2020   \n",
       "1         2       44954          Seattle, WA  02-03-2020   \n",
       "2         3       44955                  NaN  02-03-2020   \n",
       "3         4       44956          Chicagoland  02-03-2020   \n",
       "4         5       44957  Melbourne, Victoria  03-03-2020   \n",
       "\n",
       "                                       OriginalTweet           Sentiment  \n",
       "0  TRENDING: New Yorkers encounter empty supermar...  Extremely Negative  \n",
       "1  When I couldn't find hand sanitizer at Fred Me...            Positive  \n",
       "2  Find out how you can protect yourself and love...  Extremely Positive  \n",
       "3  #Panic buying hits #NewYork City as anxious sh...            Negative  \n",
       "4  #toiletpaper #dunnypaper #coronavirus #coronav...             Neutral  "
      ]
     },
     "execution_count": 1,
     "metadata": {},
     "output_type": "execute_result"
    }
   ],
   "source": [
    "import pandas as pd\n",
    "\n",
    "test_data = pd.read_csv('../input/covid-19-nlp-text-classification/Corona_NLP_test.csv')\n",
    "train_data = pd.read_csv('../input/covid-19-nlp-text-classification/Corona_NLP_train.csv', encoding= 'ISO-8859-1')\n",
    "test_data.head()"
   ]
  },
  {
   "cell_type": "code",
   "execution_count": 2,
   "id": "15253509",
   "metadata": {
    "execution": {
     "iopub.execute_input": "2022-12-04T02:01:08.449759Z",
     "iopub.status.busy": "2022-12-04T02:01:08.449318Z",
     "iopub.status.idle": "2022-12-04T02:01:08.463177Z",
     "shell.execute_reply": "2022-12-04T02:01:08.461960Z"
    },
    "papermill": {
     "duration": 0.026804,
     "end_time": "2022-12-04T02:01:08.465682",
     "exception": false,
     "start_time": "2022-12-04T02:01:08.438878",
     "status": "completed"
    },
    "tags": []
   },
   "outputs": [
    {
     "data": {
      "text/html": [
       "<div>\n",
       "<style scoped>\n",
       "    .dataframe tbody tr th:only-of-type {\n",
       "        vertical-align: middle;\n",
       "    }\n",
       "\n",
       "    .dataframe tbody tr th {\n",
       "        vertical-align: top;\n",
       "    }\n",
       "\n",
       "    .dataframe thead th {\n",
       "        text-align: right;\n",
       "    }\n",
       "</style>\n",
       "<table border=\"1\" class=\"dataframe\">\n",
       "  <thead>\n",
       "    <tr style=\"text-align: right;\">\n",
       "      <th></th>\n",
       "      <th>UserName</th>\n",
       "      <th>ScreenName</th>\n",
       "      <th>Location</th>\n",
       "      <th>TweetAt</th>\n",
       "      <th>OriginalTweet</th>\n",
       "      <th>Sentiment</th>\n",
       "    </tr>\n",
       "  </thead>\n",
       "  <tbody>\n",
       "    <tr>\n",
       "      <th>0</th>\n",
       "      <td>3799</td>\n",
       "      <td>48751</td>\n",
       "      <td>London</td>\n",
       "      <td>16-03-2020</td>\n",
       "      <td>@MeNyrbie @Phil_Gahan @Chrisitv https://t.co/i...</td>\n",
       "      <td>Neutral</td>\n",
       "    </tr>\n",
       "    <tr>\n",
       "      <th>1</th>\n",
       "      <td>3800</td>\n",
       "      <td>48752</td>\n",
       "      <td>UK</td>\n",
       "      <td>16-03-2020</td>\n",
       "      <td>advice Talk to your neighbours family to excha...</td>\n",
       "      <td>Positive</td>\n",
       "    </tr>\n",
       "    <tr>\n",
       "      <th>2</th>\n",
       "      <td>3801</td>\n",
       "      <td>48753</td>\n",
       "      <td>Vagabonds</td>\n",
       "      <td>16-03-2020</td>\n",
       "      <td>Coronavirus Australia: Woolworths to give elde...</td>\n",
       "      <td>Positive</td>\n",
       "    </tr>\n",
       "    <tr>\n",
       "      <th>3</th>\n",
       "      <td>3802</td>\n",
       "      <td>48754</td>\n",
       "      <td>NaN</td>\n",
       "      <td>16-03-2020</td>\n",
       "      <td>My food stock is not the only one which is emp...</td>\n",
       "      <td>Positive</td>\n",
       "    </tr>\n",
       "    <tr>\n",
       "      <th>4</th>\n",
       "      <td>3803</td>\n",
       "      <td>48755</td>\n",
       "      <td>NaN</td>\n",
       "      <td>16-03-2020</td>\n",
       "      <td>Me, ready to go at supermarket during the #COV...</td>\n",
       "      <td>Extremely Negative</td>\n",
       "    </tr>\n",
       "  </tbody>\n",
       "</table>\n",
       "</div>"
      ],
      "text/plain": [
       "   UserName  ScreenName   Location     TweetAt  \\\n",
       "0      3799       48751     London  16-03-2020   \n",
       "1      3800       48752         UK  16-03-2020   \n",
       "2      3801       48753  Vagabonds  16-03-2020   \n",
       "3      3802       48754        NaN  16-03-2020   \n",
       "4      3803       48755        NaN  16-03-2020   \n",
       "\n",
       "                                       OriginalTweet           Sentiment  \n",
       "0  @MeNyrbie @Phil_Gahan @Chrisitv https://t.co/i...             Neutral  \n",
       "1  advice Talk to your neighbours family to excha...            Positive  \n",
       "2  Coronavirus Australia: Woolworths to give elde...            Positive  \n",
       "3  My food stock is not the only one which is emp...            Positive  \n",
       "4  Me, ready to go at supermarket during the #COV...  Extremely Negative  "
      ]
     },
     "execution_count": 2,
     "metadata": {},
     "output_type": "execute_result"
    }
   ],
   "source": [
    "train_data.head()"
   ]
  },
  {
   "cell_type": "markdown",
   "id": "c1a4755a",
   "metadata": {
    "papermill": {
     "duration": 0.008218,
     "end_time": "2022-12-04T02:01:08.484145",
     "exception": false,
     "start_time": "2022-12-04T02:01:08.475927",
     "status": "completed"
    },
    "tags": []
   },
   "source": [
    "Here we drop the username, screenname, location, and tweetat columns because they hold no value in trying to solve the sentiment of the tweet."
   ]
  },
  {
   "cell_type": "code",
   "execution_count": 3,
   "id": "21e4dfbc",
   "metadata": {
    "execution": {
     "iopub.execute_input": "2022-12-04T02:01:08.503663Z",
     "iopub.status.busy": "2022-12-04T02:01:08.502768Z",
     "iopub.status.idle": "2022-12-04T02:01:08.516881Z",
     "shell.execute_reply": "2022-12-04T02:01:08.515881Z"
    },
    "papermill": {
     "duration": 0.026605,
     "end_time": "2022-12-04T02:01:08.519435",
     "exception": false,
     "start_time": "2022-12-04T02:01:08.492830",
     "status": "completed"
    },
    "tags": []
   },
   "outputs": [],
   "source": [
    "train_data.drop(columns = ['UserName','ScreenName','Location','TweetAt'], inplace=True)\n",
    "test_data.drop(columns = ['UserName','ScreenName','Location','TweetAt'], inplace=True)"
   ]
  },
  {
   "cell_type": "markdown",
   "id": "788b9a80",
   "metadata": {
    "papermill": {
     "duration": 0.008404,
     "end_time": "2022-12-04T02:01:08.537009",
     "exception": false,
     "start_time": "2022-12-04T02:01:08.528605",
     "status": "completed"
    },
    "tags": []
   },
   "source": [
    "We find the sentiment precentage of the training and testing data sets"
   ]
  },
  {
   "cell_type": "code",
   "execution_count": 4,
   "id": "280e366c",
   "metadata": {
    "execution": {
     "iopub.execute_input": "2022-12-04T02:01:08.556657Z",
     "iopub.status.busy": "2022-12-04T02:01:08.555988Z",
     "iopub.status.idle": "2022-12-04T02:01:08.569090Z",
     "shell.execute_reply": "2022-12-04T02:01:08.568256Z"
    },
    "papermill": {
     "duration": 0.025672,
     "end_time": "2022-12-04T02:01:08.571261",
     "exception": false,
     "start_time": "2022-12-04T02:01:08.545589",
     "status": "completed"
    },
    "tags": []
   },
   "outputs": [
    {
     "data": {
      "text/plain": [
       "Negative              0.274092\n",
       "Positive              0.249342\n",
       "Neutral               0.162981\n",
       "Extremely Positive    0.157715\n",
       "Extremely Negative    0.155872\n",
       "Name: Sentiment, dtype: float64"
      ]
     },
     "execution_count": 4,
     "metadata": {},
     "output_type": "execute_result"
    }
   ],
   "source": [
    "test_data.Sentiment.value_counts(normalize = True)"
   ]
  },
  {
   "cell_type": "code",
   "execution_count": 5,
   "id": "e689de09",
   "metadata": {
    "execution": {
     "iopub.execute_input": "2022-12-04T02:01:08.591060Z",
     "iopub.status.busy": "2022-12-04T02:01:08.590237Z",
     "iopub.status.idle": "2022-12-04T02:01:08.602383Z",
     "shell.execute_reply": "2022-12-04T02:01:08.601476Z"
    },
    "papermill": {
     "duration": 0.025009,
     "end_time": "2022-12-04T02:01:08.605071",
     "exception": false,
     "start_time": "2022-12-04T02:01:08.580062",
     "status": "completed"
    },
    "tags": []
   },
   "outputs": [
    {
     "data": {
      "text/plain": [
       "Positive              0.277523\n",
       "Negative              0.240955\n",
       "Neutral               0.187404\n",
       "Extremely Positive    0.160945\n",
       "Extremely Negative    0.133173\n",
       "Name: Sentiment, dtype: float64"
      ]
     },
     "execution_count": 5,
     "metadata": {},
     "output_type": "execute_result"
    }
   ],
   "source": [
    "train_data.Sentiment.value_counts(normalize = True)"
   ]
  },
  {
   "cell_type": "code",
   "execution_count": 6,
   "id": "3d1900a1",
   "metadata": {
    "execution": {
     "iopub.execute_input": "2022-12-04T02:01:08.625037Z",
     "iopub.status.busy": "2022-12-04T02:01:08.624587Z",
     "iopub.status.idle": "2022-12-04T02:01:08.631654Z",
     "shell.execute_reply": "2022-12-04T02:01:08.630474Z"
    },
    "papermill": {
     "duration": 0.019727,
     "end_time": "2022-12-04T02:01:08.633857",
     "exception": false,
     "start_time": "2022-12-04T02:01:08.614130",
     "status": "completed"
    },
    "tags": []
   },
   "outputs": [
    {
     "data": {
      "text/plain": [
       "(41157, 2)"
      ]
     },
     "execution_count": 6,
     "metadata": {},
     "output_type": "execute_result"
    }
   ],
   "source": [
    "train_data.shape"
   ]
  },
  {
   "cell_type": "code",
   "execution_count": 7,
   "id": "514335b5",
   "metadata": {
    "execution": {
     "iopub.execute_input": "2022-12-04T02:01:08.653945Z",
     "iopub.status.busy": "2022-12-04T02:01:08.653488Z",
     "iopub.status.idle": "2022-12-04T02:01:08.660373Z",
     "shell.execute_reply": "2022-12-04T02:01:08.659158Z"
    },
    "papermill": {
     "duration": 0.020185,
     "end_time": "2022-12-04T02:01:08.662935",
     "exception": false,
     "start_time": "2022-12-04T02:01:08.642750",
     "status": "completed"
    },
    "tags": []
   },
   "outputs": [
    {
     "data": {
      "text/plain": [
       "(3798, 2)"
      ]
     },
     "execution_count": 7,
     "metadata": {},
     "output_type": "execute_result"
    }
   ],
   "source": [
    "test_data.shape"
   ]
  },
  {
   "cell_type": "markdown",
   "id": "454167f3",
   "metadata": {
    "papermill": {
     "duration": 0.009425,
     "end_time": "2022-12-04T02:01:08.681753",
     "exception": false,
     "start_time": "2022-12-04T02:01:08.672328",
     "status": "completed"
    },
    "tags": []
   },
   "source": [
    "We tokenize each word of the tweet adding it as a new column to the dataset"
   ]
  },
  {
   "cell_type": "code",
   "execution_count": 8,
   "id": "e95515e5",
   "metadata": {
    "execution": {
     "iopub.execute_input": "2022-12-04T02:01:08.702401Z",
     "iopub.status.busy": "2022-12-04T02:01:08.701960Z",
     "iopub.status.idle": "2022-12-04T02:01:17.628737Z",
     "shell.execute_reply": "2022-12-04T02:01:17.627583Z"
    },
    "papermill": {
     "duration": 8.940015,
     "end_time": "2022-12-04T02:01:17.631220",
     "exception": false,
     "start_time": "2022-12-04T02:01:08.691205",
     "status": "completed"
    },
    "tags": []
   },
   "outputs": [
    {
     "data": {
      "text/html": [
       "<div>\n",
       "<style scoped>\n",
       "    .dataframe tbody tr th:only-of-type {\n",
       "        vertical-align: middle;\n",
       "    }\n",
       "\n",
       "    .dataframe tbody tr th {\n",
       "        vertical-align: top;\n",
       "    }\n",
       "\n",
       "    .dataframe thead th {\n",
       "        text-align: right;\n",
       "    }\n",
       "</style>\n",
       "<table border=\"1\" class=\"dataframe\">\n",
       "  <thead>\n",
       "    <tr style=\"text-align: right;\">\n",
       "      <th></th>\n",
       "      <th>OriginalTweet</th>\n",
       "      <th>Sentiment</th>\n",
       "      <th>tokens_raw</th>\n",
       "    </tr>\n",
       "  </thead>\n",
       "  <tbody>\n",
       "    <tr>\n",
       "      <th>0</th>\n",
       "      <td>@MeNyrbie @Phil_Gahan @Chrisitv https://t.co/i...</td>\n",
       "      <td>Neutral</td>\n",
       "      <td>[@menyrbie, @phil_gahan, @chrisitv, https://t....</td>\n",
       "    </tr>\n",
       "    <tr>\n",
       "      <th>1</th>\n",
       "      <td>advice Talk to your neighbours family to excha...</td>\n",
       "      <td>Positive</td>\n",
       "      <td>[advice, talk, to, your, neighbours, family, t...</td>\n",
       "    </tr>\n",
       "    <tr>\n",
       "      <th>2</th>\n",
       "      <td>Coronavirus Australia: Woolworths to give elde...</td>\n",
       "      <td>Positive</td>\n",
       "      <td>[coronavirus, australia, :, woolworths, to, gi...</td>\n",
       "    </tr>\n",
       "    <tr>\n",
       "      <th>3</th>\n",
       "      <td>My food stock is not the only one which is emp...</td>\n",
       "      <td>Positive</td>\n",
       "      <td>[my, food, stock, is, not, the, only, one, whi...</td>\n",
       "    </tr>\n",
       "    <tr>\n",
       "      <th>4</th>\n",
       "      <td>Me, ready to go at supermarket during the #COV...</td>\n",
       "      <td>Extremely Negative</td>\n",
       "      <td>[me, ,, ready, to, go, at, supermarket, during...</td>\n",
       "    </tr>\n",
       "  </tbody>\n",
       "</table>\n",
       "</div>"
      ],
      "text/plain": [
       "                                       OriginalTweet           Sentiment  \\\n",
       "0  @MeNyrbie @Phil_Gahan @Chrisitv https://t.co/i...             Neutral   \n",
       "1  advice Talk to your neighbours family to excha...            Positive   \n",
       "2  Coronavirus Australia: Woolworths to give elde...            Positive   \n",
       "3  My food stock is not the only one which is emp...            Positive   \n",
       "4  Me, ready to go at supermarket during the #COV...  Extremely Negative   \n",
       "\n",
       "                                          tokens_raw  \n",
       "0  [@menyrbie, @phil_gahan, @chrisitv, https://t....  \n",
       "1  [advice, talk, to, your, neighbours, family, t...  \n",
       "2  [coronavirus, australia, :, woolworths, to, gi...  \n",
       "3  [my, food, stock, is, not, the, only, one, whi...  \n",
       "4  [me, ,, ready, to, go, at, supermarket, during...  "
      ]
     },
     "execution_count": 8,
     "metadata": {},
     "output_type": "execute_result"
    }
   ],
   "source": [
    "from nltk.tokenize import TweetTokenizer\n",
    "tk = TweetTokenizer()\n",
    "train_data['tokens_raw'] = train_data['OriginalTweet'].apply(lambda x: tk.tokenize(x.lower()))\n",
    "train_data.head()"
   ]
  },
  {
   "cell_type": "code",
   "execution_count": 9,
   "id": "868ba7fd",
   "metadata": {
    "execution": {
     "iopub.execute_input": "2022-12-04T02:01:17.652822Z",
     "iopub.status.busy": "2022-12-04T02:01:17.651565Z",
     "iopub.status.idle": "2022-12-04T02:01:18.540814Z",
     "shell.execute_reply": "2022-12-04T02:01:18.539602Z"
    },
    "papermill": {
     "duration": 0.902669,
     "end_time": "2022-12-04T02:01:18.543391",
     "exception": false,
     "start_time": "2022-12-04T02:01:17.640722",
     "status": "completed"
    },
    "tags": []
   },
   "outputs": [
    {
     "data": {
      "text/html": [
       "<div>\n",
       "<style scoped>\n",
       "    .dataframe tbody tr th:only-of-type {\n",
       "        vertical-align: middle;\n",
       "    }\n",
       "\n",
       "    .dataframe tbody tr th {\n",
       "        vertical-align: top;\n",
       "    }\n",
       "\n",
       "    .dataframe thead th {\n",
       "        text-align: right;\n",
       "    }\n",
       "</style>\n",
       "<table border=\"1\" class=\"dataframe\">\n",
       "  <thead>\n",
       "    <tr style=\"text-align: right;\">\n",
       "      <th></th>\n",
       "      <th>OriginalTweet</th>\n",
       "      <th>Sentiment</th>\n",
       "      <th>tokens_raw</th>\n",
       "    </tr>\n",
       "  </thead>\n",
       "  <tbody>\n",
       "    <tr>\n",
       "      <th>0</th>\n",
       "      <td>TRENDING: New Yorkers encounter empty supermar...</td>\n",
       "      <td>Extremely Negative</td>\n",
       "      <td>[trending, :, new, yorkers, encounter, empty, ...</td>\n",
       "    </tr>\n",
       "    <tr>\n",
       "      <th>1</th>\n",
       "      <td>When I couldn't find hand sanitizer at Fred Me...</td>\n",
       "      <td>Positive</td>\n",
       "      <td>[when, i, couldn't, find, hand, sanitizer, at,...</td>\n",
       "    </tr>\n",
       "    <tr>\n",
       "      <th>2</th>\n",
       "      <td>Find out how you can protect yourself and love...</td>\n",
       "      <td>Extremely Positive</td>\n",
       "      <td>[find, out, how, you, can, protect, yourself, ...</td>\n",
       "    </tr>\n",
       "    <tr>\n",
       "      <th>3</th>\n",
       "      <td>#Panic buying hits #NewYork City as anxious sh...</td>\n",
       "      <td>Negative</td>\n",
       "      <td>[#panic, buying, hits, #newyork, city, as, anx...</td>\n",
       "    </tr>\n",
       "    <tr>\n",
       "      <th>4</th>\n",
       "      <td>#toiletpaper #dunnypaper #coronavirus #coronav...</td>\n",
       "      <td>Neutral</td>\n",
       "      <td>[#toiletpaper, #dunnypaper, #coronavirus, #cor...</td>\n",
       "    </tr>\n",
       "  </tbody>\n",
       "</table>\n",
       "</div>"
      ],
      "text/plain": [
       "                                       OriginalTweet           Sentiment  \\\n",
       "0  TRENDING: New Yorkers encounter empty supermar...  Extremely Negative   \n",
       "1  When I couldn't find hand sanitizer at Fred Me...            Positive   \n",
       "2  Find out how you can protect yourself and love...  Extremely Positive   \n",
       "3  #Panic buying hits #NewYork City as anxious sh...            Negative   \n",
       "4  #toiletpaper #dunnypaper #coronavirus #coronav...             Neutral   \n",
       "\n",
       "                                          tokens_raw  \n",
       "0  [trending, :, new, yorkers, encounter, empty, ...  \n",
       "1  [when, i, couldn't, find, hand, sanitizer, at,...  \n",
       "2  [find, out, how, you, can, protect, yourself, ...  \n",
       "3  [#panic, buying, hits, #newyork, city, as, anx...  \n",
       "4  [#toiletpaper, #dunnypaper, #coronavirus, #cor...  "
      ]
     },
     "execution_count": 9,
     "metadata": {},
     "output_type": "execute_result"
    }
   ],
   "source": [
    "test_data['tokens_raw'] = test_data['OriginalTweet'].apply(lambda x: tk.tokenize(x.lower()))\n",
    "test_data.head()"
   ]
  },
  {
   "cell_type": "markdown",
   "id": "d6966eda",
   "metadata": {
    "papermill": {
     "duration": 0.009024,
     "end_time": "2022-12-04T02:01:18.561949",
     "exception": false,
     "start_time": "2022-12-04T02:01:18.552925",
     "status": "completed"
    },
    "tags": []
   },
   "source": [
    "This takes out any unnecessary token words that we don't want in our dataset such as \"the\", \"to\", \"I\", or any punctuation "
   ]
  },
  {
   "cell_type": "code",
   "execution_count": 10,
   "id": "72241eb4",
   "metadata": {
    "execution": {
     "iopub.execute_input": "2022-12-04T02:01:18.582598Z",
     "iopub.status.busy": "2022-12-04T02:01:18.582173Z",
     "iopub.status.idle": "2022-12-04T02:01:20.181940Z",
     "shell.execute_reply": "2022-12-04T02:01:20.180428Z"
    },
    "papermill": {
     "duration": 1.61396,
     "end_time": "2022-12-04T02:01:20.185307",
     "exception": false,
     "start_time": "2022-12-04T02:01:18.571347",
     "status": "completed"
    },
    "tags": []
   },
   "outputs": [
    {
     "data": {
      "text/html": [
       "<div>\n",
       "<style scoped>\n",
       "    .dataframe tbody tr th:only-of-type {\n",
       "        vertical-align: middle;\n",
       "    }\n",
       "\n",
       "    .dataframe tbody tr th {\n",
       "        vertical-align: top;\n",
       "    }\n",
       "\n",
       "    .dataframe thead th {\n",
       "        text-align: right;\n",
       "    }\n",
       "</style>\n",
       "<table border=\"1\" class=\"dataframe\">\n",
       "  <thead>\n",
       "    <tr style=\"text-align: right;\">\n",
       "      <th></th>\n",
       "      <th>OriginalTweet</th>\n",
       "      <th>Sentiment</th>\n",
       "      <th>tokens_raw</th>\n",
       "    </tr>\n",
       "  </thead>\n",
       "  <tbody>\n",
       "    <tr>\n",
       "      <th>0</th>\n",
       "      <td>@MeNyrbie @Phil_Gahan @Chrisitv https://t.co/i...</td>\n",
       "      <td>Neutral</td>\n",
       "      <td>[@menyrbie, @phil_gahan, @chrisitv, https://t....</td>\n",
       "    </tr>\n",
       "    <tr>\n",
       "      <th>1</th>\n",
       "      <td>advice Talk to your neighbours family to excha...</td>\n",
       "      <td>Positive</td>\n",
       "      <td>[advice, talk, neighbours, family, exchange, p...</td>\n",
       "    </tr>\n",
       "    <tr>\n",
       "      <th>2</th>\n",
       "      <td>Coronavirus Australia: Woolworths to give elde...</td>\n",
       "      <td>Positive</td>\n",
       "      <td>[coronavirus, australia, woolworths, give, eld...</td>\n",
       "    </tr>\n",
       "    <tr>\n",
       "      <th>3</th>\n",
       "      <td>My food stock is not the only one which is emp...</td>\n",
       "      <td>Positive</td>\n",
       "      <td>[food, stock, one, empty, ..., please, ,, pani...</td>\n",
       "    </tr>\n",
       "    <tr>\n",
       "      <th>4</th>\n",
       "      <td>Me, ready to go at supermarket during the #COV...</td>\n",
       "      <td>Extremely Negative</td>\n",
       "      <td>[,, ready, go, supermarket, outbreak, i'm, par...</td>\n",
       "    </tr>\n",
       "  </tbody>\n",
       "</table>\n",
       "</div>"
      ],
      "text/plain": [
       "                                       OriginalTweet           Sentiment  \\\n",
       "0  @MeNyrbie @Phil_Gahan @Chrisitv https://t.co/i...             Neutral   \n",
       "1  advice Talk to your neighbours family to excha...            Positive   \n",
       "2  Coronavirus Australia: Woolworths to give elde...            Positive   \n",
       "3  My food stock is not the only one which is emp...            Positive   \n",
       "4  Me, ready to go at supermarket during the #COV...  Extremely Negative   \n",
       "\n",
       "                                          tokens_raw  \n",
       "0  [@menyrbie, @phil_gahan, @chrisitv, https://t....  \n",
       "1  [advice, talk, neighbours, family, exchange, p...  \n",
       "2  [coronavirus, australia, woolworths, give, eld...  \n",
       "3  [food, stock, one, empty, ..., please, ,, pani...  \n",
       "4  [,, ready, go, supermarket, outbreak, i'm, par...  "
      ]
     },
     "execution_count": 10,
     "metadata": {},
     "output_type": "execute_result"
    }
   ],
   "source": [
    "import re\n",
    "from nltk.corpus import stopwords\n",
    "stop = set(stopwords.words('english'))\n",
    "removechars = set(['.','/','!','/','?',':',';'])\n",
    "train_data['tokens_raw'] = train_data['tokens_raw'].apply(lambda x: [w for w in x if w not in stop])\n",
    "train_data['tokens_raw'] = train_data['tokens_raw'].apply(lambda x: [w for w in x if w not in removechars])\n",
    "train_data['tokens_raw'] = train_data['tokens_raw'].apply(lambda x: [w for w in x if not re.match('^#', w)])\n",
    "train_data.head()"
   ]
  },
  {
   "cell_type": "code",
   "execution_count": 11,
   "id": "3d537965",
   "metadata": {
    "execution": {
     "iopub.execute_input": "2022-12-04T02:01:20.212648Z",
     "iopub.status.busy": "2022-12-04T02:01:20.212234Z",
     "iopub.status.idle": "2022-12-04T02:01:20.394947Z",
     "shell.execute_reply": "2022-12-04T02:01:20.393611Z"
    },
    "papermill": {
     "duration": 0.20206,
     "end_time": "2022-12-04T02:01:20.397740",
     "exception": false,
     "start_time": "2022-12-04T02:01:20.195680",
     "status": "completed"
    },
    "tags": []
   },
   "outputs": [
    {
     "data": {
      "text/html": [
       "<div>\n",
       "<style scoped>\n",
       "    .dataframe tbody tr th:only-of-type {\n",
       "        vertical-align: middle;\n",
       "    }\n",
       "\n",
       "    .dataframe tbody tr th {\n",
       "        vertical-align: top;\n",
       "    }\n",
       "\n",
       "    .dataframe thead th {\n",
       "        text-align: right;\n",
       "    }\n",
       "</style>\n",
       "<table border=\"1\" class=\"dataframe\">\n",
       "  <thead>\n",
       "    <tr style=\"text-align: right;\">\n",
       "      <th></th>\n",
       "      <th>OriginalTweet</th>\n",
       "      <th>Sentiment</th>\n",
       "      <th>tokens_raw</th>\n",
       "    </tr>\n",
       "  </thead>\n",
       "  <tbody>\n",
       "    <tr>\n",
       "      <th>0</th>\n",
       "      <td>TRENDING: New Yorkers encounter empty supermar...</td>\n",
       "      <td>Extremely Negative</td>\n",
       "      <td>[trending, new, yorkers, encounter, empty, sup...</td>\n",
       "    </tr>\n",
       "    <tr>\n",
       "      <th>1</th>\n",
       "      <td>When I couldn't find hand sanitizer at Fred Me...</td>\n",
       "      <td>Positive</td>\n",
       "      <td>[find, hand, sanitizer, fred, meyer, ,, turned...</td>\n",
       "    </tr>\n",
       "    <tr>\n",
       "      <th>2</th>\n",
       "      <td>Find out how you can protect yourself and love...</td>\n",
       "      <td>Extremely Positive</td>\n",
       "      <td>[find, protect, loved, ones]</td>\n",
       "    </tr>\n",
       "    <tr>\n",
       "      <th>3</th>\n",
       "      <td>#Panic buying hits #NewYork City as anxious sh...</td>\n",
       "      <td>Negative</td>\n",
       "      <td>[buying, hits, city, anxious, shoppers, stock,...</td>\n",
       "    </tr>\n",
       "    <tr>\n",
       "      <th>4</th>\n",
       "      <td>#toiletpaper #dunnypaper #coronavirus #coronav...</td>\n",
       "      <td>Neutral</td>\n",
       "      <td>[one, week, everyone, buying, baby, milk, powd...</td>\n",
       "    </tr>\n",
       "  </tbody>\n",
       "</table>\n",
       "</div>"
      ],
      "text/plain": [
       "                                       OriginalTweet           Sentiment  \\\n",
       "0  TRENDING: New Yorkers encounter empty supermar...  Extremely Negative   \n",
       "1  When I couldn't find hand sanitizer at Fred Me...            Positive   \n",
       "2  Find out how you can protect yourself and love...  Extremely Positive   \n",
       "3  #Panic buying hits #NewYork City as anxious sh...            Negative   \n",
       "4  #toiletpaper #dunnypaper #coronavirus #coronav...             Neutral   \n",
       "\n",
       "                                          tokens_raw  \n",
       "0  [trending, new, yorkers, encounter, empty, sup...  \n",
       "1  [find, hand, sanitizer, fred, meyer, ,, turned...  \n",
       "2                       [find, protect, loved, ones]  \n",
       "3  [buying, hits, city, anxious, shoppers, stock,...  \n",
       "4  [one, week, everyone, buying, baby, milk, powd...  "
      ]
     },
     "execution_count": 11,
     "metadata": {},
     "output_type": "execute_result"
    }
   ],
   "source": [
    "test_data['tokens_raw'] = test_data['tokens_raw'].apply(lambda x: [w for w in x if w not in stop])\n",
    "test_data['tokens_raw'] = test_data['tokens_raw'].apply(lambda x: [w for w in x if w not in removechars])\n",
    "test_data['tokens_raw'] = test_data['tokens_raw'].apply(lambda x: [w for w in x if not re.match('^#', w)])\n",
    "test_data.head()"
   ]
  },
  {
   "cell_type": "markdown",
   "id": "0c467019",
   "metadata": {
    "papermill": {
     "duration": 0.009524,
     "end_time": "2022-12-04T02:01:20.417378",
     "exception": false,
     "start_time": "2022-12-04T02:01:20.407854",
     "status": "completed"
    },
    "tags": []
   },
   "source": [
    "Instead of having the same words in different forms have their own token value, we group all of those words together to be only one token value."
   ]
  },
  {
   "cell_type": "code",
   "execution_count": 12,
   "id": "9234abbf",
   "metadata": {
    "execution": {
     "iopub.execute_input": "2022-12-04T02:01:20.439804Z",
     "iopub.status.busy": "2022-12-04T02:01:20.438603Z",
     "iopub.status.idle": "2022-12-04T02:01:27.454743Z",
     "shell.execute_reply": "2022-12-04T02:01:27.453397Z"
    },
    "papermill": {
     "duration": 7.030124,
     "end_time": "2022-12-04T02:01:27.457348",
     "exception": false,
     "start_time": "2022-12-04T02:01:20.427224",
     "status": "completed"
    },
    "tags": []
   },
   "outputs": [
    {
     "name": "stderr",
     "output_type": "stream",
     "text": [
      "[nltk_data] Downloading package wordnet to /usr/share/nltk_data...\n",
      "[nltk_data]   Package wordnet is already up-to-date!\n",
      "[nltk_data] Downloading package omw-1.4 to /usr/share/nltk_data...\n"
     ]
    },
    {
     "data": {
      "text/html": [
       "<div>\n",
       "<style scoped>\n",
       "    .dataframe tbody tr th:only-of-type {\n",
       "        vertical-align: middle;\n",
       "    }\n",
       "\n",
       "    .dataframe tbody tr th {\n",
       "        vertical-align: top;\n",
       "    }\n",
       "\n",
       "    .dataframe thead th {\n",
       "        text-align: right;\n",
       "    }\n",
       "</style>\n",
       "<table border=\"1\" class=\"dataframe\">\n",
       "  <thead>\n",
       "    <tr style=\"text-align: right;\">\n",
       "      <th></th>\n",
       "      <th>OriginalTweet</th>\n",
       "      <th>Sentiment</th>\n",
       "      <th>tokens_raw</th>\n",
       "      <th>tokens</th>\n",
       "    </tr>\n",
       "  </thead>\n",
       "  <tbody>\n",
       "    <tr>\n",
       "      <th>0</th>\n",
       "      <td>@MeNyrbie @Phil_Gahan @Chrisitv https://t.co/i...</td>\n",
       "      <td>Neutral</td>\n",
       "      <td>[@menyrbie, @phil_gahan, @chrisitv, https://t....</td>\n",
       "      <td>[@menyrbie, @phil_gahan, @chrisitv, https://t....</td>\n",
       "    </tr>\n",
       "    <tr>\n",
       "      <th>1</th>\n",
       "      <td>advice Talk to your neighbours family to excha...</td>\n",
       "      <td>Positive</td>\n",
       "      <td>[advice, talk, neighbours, family, exchange, p...</td>\n",
       "      <td>[advice, talk, neighbour, family, exchange, ph...</td>\n",
       "    </tr>\n",
       "    <tr>\n",
       "      <th>2</th>\n",
       "      <td>Coronavirus Australia: Woolworths to give elde...</td>\n",
       "      <td>Positive</td>\n",
       "      <td>[coronavirus, australia, woolworths, give, eld...</td>\n",
       "      <td>[coronavirus, australia, woolworths, give, eld...</td>\n",
       "    </tr>\n",
       "    <tr>\n",
       "      <th>3</th>\n",
       "      <td>My food stock is not the only one which is emp...</td>\n",
       "      <td>Positive</td>\n",
       "      <td>[food, stock, one, empty, ..., please, ,, pani...</td>\n",
       "      <td>[food, stock, one, empty, ..., please, ,, pani...</td>\n",
       "    </tr>\n",
       "    <tr>\n",
       "      <th>4</th>\n",
       "      <td>Me, ready to go at supermarket during the #COV...</td>\n",
       "      <td>Extremely Negative</td>\n",
       "      <td>[,, ready, go, supermarket, outbreak, i'm, par...</td>\n",
       "      <td>[,, ready, go, supermarket, outbreak, i'm, par...</td>\n",
       "    </tr>\n",
       "  </tbody>\n",
       "</table>\n",
       "</div>"
      ],
      "text/plain": [
       "                                       OriginalTweet           Sentiment  \\\n",
       "0  @MeNyrbie @Phil_Gahan @Chrisitv https://t.co/i...             Neutral   \n",
       "1  advice Talk to your neighbours family to excha...            Positive   \n",
       "2  Coronavirus Australia: Woolworths to give elde...            Positive   \n",
       "3  My food stock is not the only one which is emp...            Positive   \n",
       "4  Me, ready to go at supermarket during the #COV...  Extremely Negative   \n",
       "\n",
       "                                          tokens_raw  \\\n",
       "0  [@menyrbie, @phil_gahan, @chrisitv, https://t....   \n",
       "1  [advice, talk, neighbours, family, exchange, p...   \n",
       "2  [coronavirus, australia, woolworths, give, eld...   \n",
       "3  [food, stock, one, empty, ..., please, ,, pani...   \n",
       "4  [,, ready, go, supermarket, outbreak, i'm, par...   \n",
       "\n",
       "                                              tokens  \n",
       "0  [@menyrbie, @phil_gahan, @chrisitv, https://t....  \n",
       "1  [advice, talk, neighbour, family, exchange, ph...  \n",
       "2  [coronavirus, australia, woolworths, give, eld...  \n",
       "3  [food, stock, one, empty, ..., please, ,, pani...  \n",
       "4  [,, ready, go, supermarket, outbreak, i'm, par...  "
      ]
     },
     "execution_count": 12,
     "metadata": {},
     "output_type": "execute_result"
    }
   ],
   "source": [
    "from nltk.stem import WordNetLemmatizer\n",
    "import nltk\n",
    "nltk.download('wordnet')\n",
    "nltk.download('omw-1.4')\n",
    "lemmatizer = WordNetLemmatizer()\n",
    "train_data['tokens'] = train_data['tokens_raw'].apply(lambda x: [lemmatizer.lemmatize(w, pos=\"v\") for w in x])\n",
    "train_data.head()"
   ]
  },
  {
   "cell_type": "code",
   "execution_count": 13,
   "id": "a6f20fd1",
   "metadata": {
    "execution": {
     "iopub.execute_input": "2022-12-04T02:01:27.480080Z",
     "iopub.status.busy": "2022-12-04T02:01:27.479650Z",
     "iopub.status.idle": "2022-12-04T02:01:27.912594Z",
     "shell.execute_reply": "2022-12-04T02:01:27.911505Z"
    },
    "papermill": {
     "duration": 0.447238,
     "end_time": "2022-12-04T02:01:27.915288",
     "exception": false,
     "start_time": "2022-12-04T02:01:27.468050",
     "status": "completed"
    },
    "tags": []
   },
   "outputs": [
    {
     "data": {
      "text/html": [
       "<div>\n",
       "<style scoped>\n",
       "    .dataframe tbody tr th:only-of-type {\n",
       "        vertical-align: middle;\n",
       "    }\n",
       "\n",
       "    .dataframe tbody tr th {\n",
       "        vertical-align: top;\n",
       "    }\n",
       "\n",
       "    .dataframe thead th {\n",
       "        text-align: right;\n",
       "    }\n",
       "</style>\n",
       "<table border=\"1\" class=\"dataframe\">\n",
       "  <thead>\n",
       "    <tr style=\"text-align: right;\">\n",
       "      <th></th>\n",
       "      <th>OriginalTweet</th>\n",
       "      <th>Sentiment</th>\n",
       "      <th>tokens_raw</th>\n",
       "      <th>tokens</th>\n",
       "    </tr>\n",
       "  </thead>\n",
       "  <tbody>\n",
       "    <tr>\n",
       "      <th>0</th>\n",
       "      <td>TRENDING: New Yorkers encounter empty supermar...</td>\n",
       "      <td>Extremely Negative</td>\n",
       "      <td>[trending, new, yorkers, encounter, empty, sup...</td>\n",
       "      <td>[trend, new, yorkers, encounter, empty, superm...</td>\n",
       "    </tr>\n",
       "    <tr>\n",
       "      <th>1</th>\n",
       "      <td>When I couldn't find hand sanitizer at Fred Me...</td>\n",
       "      <td>Positive</td>\n",
       "      <td>[find, hand, sanitizer, fred, meyer, ,, turned...</td>\n",
       "      <td>[find, hand, sanitizer, fred, meyer, ,, turn, ...</td>\n",
       "    </tr>\n",
       "    <tr>\n",
       "      <th>2</th>\n",
       "      <td>Find out how you can protect yourself and love...</td>\n",
       "      <td>Extremely Positive</td>\n",
       "      <td>[find, protect, loved, ones]</td>\n",
       "      <td>[find, protect, love, ones]</td>\n",
       "    </tr>\n",
       "    <tr>\n",
       "      <th>3</th>\n",
       "      <td>#Panic buying hits #NewYork City as anxious sh...</td>\n",
       "      <td>Negative</td>\n",
       "      <td>[buying, hits, city, anxious, shoppers, stock,...</td>\n",
       "      <td>[buy, hit, city, anxious, shoppers, stock, foo...</td>\n",
       "    </tr>\n",
       "    <tr>\n",
       "      <th>4</th>\n",
       "      <td>#toiletpaper #dunnypaper #coronavirus #coronav...</td>\n",
       "      <td>Neutral</td>\n",
       "      <td>[one, week, everyone, buying, baby, milk, powd...</td>\n",
       "      <td>[one, week, everyone, buy, baby, milk, powder,...</td>\n",
       "    </tr>\n",
       "  </tbody>\n",
       "</table>\n",
       "</div>"
      ],
      "text/plain": [
       "                                       OriginalTweet           Sentiment  \\\n",
       "0  TRENDING: New Yorkers encounter empty supermar...  Extremely Negative   \n",
       "1  When I couldn't find hand sanitizer at Fred Me...            Positive   \n",
       "2  Find out how you can protect yourself and love...  Extremely Positive   \n",
       "3  #Panic buying hits #NewYork City as anxious sh...            Negative   \n",
       "4  #toiletpaper #dunnypaper #coronavirus #coronav...             Neutral   \n",
       "\n",
       "                                          tokens_raw  \\\n",
       "0  [trending, new, yorkers, encounter, empty, sup...   \n",
       "1  [find, hand, sanitizer, fred, meyer, ,, turned...   \n",
       "2                       [find, protect, loved, ones]   \n",
       "3  [buying, hits, city, anxious, shoppers, stock,...   \n",
       "4  [one, week, everyone, buying, baby, milk, powd...   \n",
       "\n",
       "                                              tokens  \n",
       "0  [trend, new, yorkers, encounter, empty, superm...  \n",
       "1  [find, hand, sanitizer, fred, meyer, ,, turn, ...  \n",
       "2                        [find, protect, love, ones]  \n",
       "3  [buy, hit, city, anxious, shoppers, stock, foo...  \n",
       "4  [one, week, everyone, buy, baby, milk, powder,...  "
      ]
     },
     "execution_count": 13,
     "metadata": {},
     "output_type": "execute_result"
    }
   ],
   "source": [
    "test_data['tokens'] = test_data['tokens_raw'].apply(lambda x: [lemmatizer.lemmatize(w, pos=\"v\") for w in x])\n",
    "test_data.head()"
   ]
  },
  {
   "cell_type": "markdown",
   "id": "1ce2a001",
   "metadata": {
    "papermill": {
     "duration": 0.010655,
     "end_time": "2022-12-04T02:01:27.936844",
     "exception": false,
     "start_time": "2022-12-04T02:01:27.926189",
     "status": "completed"
    },
    "tags": []
   },
   "source": [
    "Make a vocabulary for all the words that are in our training data set, and we keep track how much they appear all together, and how much they appear in each tweet that is positive, negative, extremely positive, extremely negative, and neutral."
   ]
  },
  {
   "cell_type": "code",
   "execution_count": 14,
   "id": "b7bb5531",
   "metadata": {
    "execution": {
     "iopub.execute_input": "2022-12-04T02:01:27.960831Z",
     "iopub.status.busy": "2022-12-04T02:01:27.960327Z",
     "iopub.status.idle": "2022-12-04T02:01:28.553473Z",
     "shell.execute_reply": "2022-12-04T02:01:28.551709Z"
    },
    "papermill": {
     "duration": 0.609376,
     "end_time": "2022-12-04T02:01:28.556746",
     "exception": false,
     "start_time": "2022-12-04T02:01:27.947370",
     "status": "completed"
    },
    "tags": []
   },
   "outputs": [
    {
     "name": "stdout",
     "output_type": "stream",
     "text": [
      "All tokens: 67595, Pos: 26716, Ex Pos: 18154, Neg: 23488, Ex Neg: 15277, Neu: 19492\n"
     ]
    }
   ],
   "source": [
    "train_pos = train_data[train_data['Sentiment'] == 'Positive']\n",
    "train_expos = train_data[train_data['Sentiment'] == 'Extremely Positive']\n",
    "train_neg = train_data[train_data['Sentiment'] == 'Negative']\n",
    "train_exneg = train_data[train_data['Sentiment'] == 'Extremely Negative']\n",
    "train_neu = train_data[train_data['Sentiment'] == 'Neutral']\n",
    "\n",
    "def vocab_list(tokens_column):\n",
    "    vocab = dict()\n",
    "    for tweet_tokens in tokens_column:\n",
    "        for token in tweet_tokens:\n",
    "            if token not in vocab:\n",
    "                vocab[token] = 1\n",
    "            else:\n",
    "                vocab[token] += 1\n",
    "    return vocab\n",
    "\n",
    "vocab_all = dict(sorted(vocab_list(train_data['tokens']).items(), key=lambda item: item[1], reverse=True))\n",
    "vocab_pos = dict(sorted(vocab_list(train_pos['tokens']).items(), key=lambda item: item[1], reverse=True))\n",
    "vocab_expos = dict(sorted(vocab_list(train_expos['tokens']).items(), key=lambda item: item[1], reverse=True))\n",
    "vocab_neg = dict(sorted(vocab_list(train_neg['tokens']).items(), key=lambda item: item[1], reverse=True))\n",
    "vocab_exneg = dict(sorted(vocab_list(train_exneg['tokens']).items(), key=lambda item: item[1], reverse=True))\n",
    "vocab_neu = dict(sorted(vocab_list(train_neu['tokens']).items(), key=lambda item: item[1], reverse=True))\n",
    "print(f\"All tokens: {len(vocab_all)}, Pos: {len(vocab_pos)}, Ex Pos: {len(vocab_expos)}, Neg: {len(vocab_neg)}, Ex Neg: {len(vocab_exneg)}, Neu: {len(vocab_neu)}\")"
   ]
  },
  {
   "cell_type": "code",
   "execution_count": 15,
   "id": "d6e671b1",
   "metadata": {
    "execution": {
     "iopub.execute_input": "2022-12-04T02:01:28.579912Z",
     "iopub.status.busy": "2022-12-04T02:01:28.579437Z",
     "iopub.status.idle": "2022-12-04T02:01:28.604163Z",
     "shell.execute_reply": "2022-12-04T02:01:28.603290Z"
    },
    "papermill": {
     "duration": 0.038907,
     "end_time": "2022-12-04T02:01:28.606648",
     "exception": false,
     "start_time": "2022-12-04T02:01:28.567741",
     "status": "completed"
    },
    "tags": []
   },
   "outputs": [
    {
     "data": {
      "text/plain": [
       "[(',', 28642),\n",
       " ('19', 12249),\n",
       " ('-', 11511),\n",
       " ('covid', 10607),\n",
       " ('price', 8957),\n",
       " ('store', 8161),\n",
       " ('\\x92', 7155),\n",
       " ('food', 6826),\n",
       " ('supermarket', 6686),\n",
       " ('grocery', 6087),\n",
       " ('people', 5528),\n",
       " ('go', 5332),\n",
       " ('shop', 4875),\n",
       " ('get', 4467),\n",
       " ('consumer', 4274),\n",
       " ('&', 3837),\n",
       " ('need', 3546),\n",
       " ('\"', 3404),\n",
       " ('buy', 3370),\n",
       " ('â', 3358)]"
      ]
     },
     "execution_count": 15,
     "metadata": {},
     "output_type": "execute_result"
    }
   ],
   "source": [
    "list(vocab_all.items())[:20]"
   ]
  },
  {
   "cell_type": "code",
   "execution_count": 16,
   "id": "54d339de",
   "metadata": {
    "execution": {
     "iopub.execute_input": "2022-12-04T02:01:28.630438Z",
     "iopub.status.busy": "2022-12-04T02:01:28.629128Z",
     "iopub.status.idle": "2022-12-04T02:01:28.640630Z",
     "shell.execute_reply": "2022-12-04T02:01:28.639261Z"
    },
    "papermill": {
     "duration": 0.026367,
     "end_time": "2022-12-04T02:01:28.643635",
     "exception": false,
     "start_time": "2022-12-04T02:01:28.617268",
     "status": "completed"
    },
    "tags": []
   },
   "outputs": [],
   "source": [
    "top_n_to_remove = 1000\n",
    "for i, item in enumerate(vocab_all.items()):\n",
    "    if i == top_n_to_remove:\n",
    "        break\n",
    "    if item[0] in vocab_pos:\n",
    "        del vocab_pos[item[0]]\n",
    "    if item[0] in vocab_expos:\n",
    "        del vocab_expos[item[0]]\n",
    "    if item[0] in vocab_neg:\n",
    "        del vocab_neg[item[0]]\n",
    "    if item[0] in vocab_exneg:\n",
    "        del vocab_exneg[item[0]]\n",
    "    if item[0] in vocab_neu:\n",
    "        del vocab_neu[item[0]]"
   ]
  },
  {
   "cell_type": "code",
   "execution_count": 17,
   "id": "947df434",
   "metadata": {
    "execution": {
     "iopub.execute_input": "2022-12-04T02:01:28.667078Z",
     "iopub.status.busy": "2022-12-04T02:01:28.666568Z",
     "iopub.status.idle": "2022-12-04T02:01:28.681095Z",
     "shell.execute_reply": "2022-12-04T02:01:28.679786Z"
    },
    "papermill": {
     "duration": 0.029221,
     "end_time": "2022-12-04T02:01:28.683776",
     "exception": false,
     "start_time": "2022-12-04T02:01:28.654555",
     "status": "completed"
    },
    "tags": []
   },
   "outputs": [
    {
     "data": {
      "text/plain": [
       "[('novel', 59),\n",
       " ('greater', 49),\n",
       " ('epidemic', 48),\n",
       " ('behaviors', 46),\n",
       " ('distribute', 45),\n",
       " ('fair', 44),\n",
       " ('surface', 44),\n",
       " ('significant', 43),\n",
       " ('page', 42),\n",
       " ('highlight', 41),\n",
       " ('approve', 41),\n",
       " ('industries', 41),\n",
       " ('hop', 41),\n",
       " ('traffic', 41),\n",
       " ('recently', 40),\n",
       " ('aware', 39),\n",
       " ('teachers', 39),\n",
       " ('husband', 39),\n",
       " ('dm', 39),\n",
       " ('sanitiser', 38)]"
      ]
     },
     "execution_count": 17,
     "metadata": {},
     "output_type": "execute_result"
    }
   ],
   "source": [
    "list(vocab_pos.items())[:20]"
   ]
  },
  {
   "cell_type": "code",
   "execution_count": 18,
   "id": "392e1f72",
   "metadata": {
    "execution": {
     "iopub.execute_input": "2022-12-04T02:01:28.707418Z",
     "iopub.status.busy": "2022-12-04T02:01:28.706987Z",
     "iopub.status.idle": "2022-12-04T02:01:28.719217Z",
     "shell.execute_reply": "2022-12-04T02:01:28.718027Z"
    },
    "papermill": {
     "duration": 0.026742,
     "end_time": "2022-12-04T02:01:28.721322",
     "exception": false,
     "start_time": "2022-12-04T02:01:28.694580",
     "status": "completed"
    },
    "tags": []
   },
   "outputs": [
    {
     "data": {
      "text/plain": [
       "[('grateful', 65),\n",
       " ('super', 59),\n",
       " ('win', 50),\n",
       " ('enjoy', 50),\n",
       " ('trust', 50),\n",
       " ('fun', 46),\n",
       " ('safely', 45),\n",
       " ('lol', 43),\n",
       " ('smart', 43),\n",
       " ('proud', 42),\n",
       " ('bless', 42),\n",
       " ('kindly', 41),\n",
       " ('truly', 41),\n",
       " ('rt', 40),\n",
       " ('professionals', 40),\n",
       " ('helpful', 40),\n",
       " ('solution', 39),\n",
       " ('smile', 39),\n",
       " ('greater', 38),\n",
       " ('commit', 38)]"
      ]
     },
     "execution_count": 18,
     "metadata": {},
     "output_type": "execute_result"
    }
   ],
   "source": [
    "list(vocab_expos.items())[:20]"
   ]
  },
  {
   "cell_type": "code",
   "execution_count": 19,
   "id": "d238f774",
   "metadata": {
    "execution": {
     "iopub.execute_input": "2022-12-04T02:01:28.744842Z",
     "iopub.status.busy": "2022-12-04T02:01:28.743963Z",
     "iopub.status.idle": "2022-12-04T02:01:28.758887Z",
     "shell.execute_reply": "2022-12-04T02:01:28.757595Z"
    },
    "papermill": {
     "duration": 0.029554,
     "end_time": "2022-12-04T02:01:28.761556",
     "exception": false,
     "start_time": "2022-12-04T02:01:28.732002",
     "status": "completed"
    },
    "tags": []
   },
   "outputs": [
    {
     "data": {
      "text/plain": [
       "[('uncertainty', 53),\n",
       " ('damn', 50),\n",
       " ('export', 47),\n",
       " ('lowest', 46),\n",
       " ('file', 44),\n",
       " ('problems', 43),\n",
       " ('fell', 42),\n",
       " ('officials', 41),\n",
       " ('arabia', 40),\n",
       " ('complete', 39),\n",
       " ('strain', 38),\n",
       " ('threat', 38),\n",
       " ('inflation', 37),\n",
       " ('suspend', 37),\n",
       " ('barrel', 37),\n",
       " ('dairy', 37),\n",
       " ('hereâ', 36),\n",
       " ('chicken', 36),\n",
       " ('output', 36),\n",
       " ('largest', 36)]"
      ]
     },
     "execution_count": 19,
     "metadata": {},
     "output_type": "execute_result"
    }
   ],
   "source": [
    "list(vocab_neg.items())[:20]"
   ]
  },
  {
   "cell_type": "code",
   "execution_count": 20,
   "id": "cfdc90b1",
   "metadata": {
    "execution": {
     "iopub.execute_input": "2022-12-04T02:01:28.785953Z",
     "iopub.status.busy": "2022-12-04T02:01:28.785521Z",
     "iopub.status.idle": "2022-12-04T02:01:28.796896Z",
     "shell.execute_reply": "2022-12-04T02:01:28.795714Z"
    },
    "papermill": {
     "duration": 0.026687,
     "end_time": "2022-12-04T02:01:28.799204",
     "exception": false,
     "start_time": "2022-12-04T02:01:28.772517",
     "status": "completed"
    },
    "tags": []
   },
   "outputs": [
    {
     "data": {
      "text/plain": [
       "[('fraud', 68),\n",
       " ('greedy', 63),\n",
       " ('hell', 62),\n",
       " ('stupid', 60),\n",
       " ('attack', 59),\n",
       " ('steal', 59),\n",
       " ('disgust', 55),\n",
       " ('sad', 55),\n",
       " ('exploit', 50),\n",
       " ('destroy', 49),\n",
       " ('threat', 47),\n",
       " ('negative', 46),\n",
       " ('cry', 45),\n",
       " ('ass', 44),\n",
       " ('dead', 43),\n",
       " ('wtf', 43),\n",
       " ('lowest', 43),\n",
       " ('hunger', 43),\n",
       " ('chaos', 42),\n",
       " ('hurt', 42)]"
      ]
     },
     "execution_count": 20,
     "metadata": {},
     "output_type": "execute_result"
    }
   ],
   "source": [
    "list(vocab_exneg.items())[:20]"
   ]
  },
  {
   "cell_type": "code",
   "execution_count": 21,
   "id": "832bd113",
   "metadata": {
    "execution": {
     "iopub.execute_input": "2022-12-04T02:01:28.823214Z",
     "iopub.status.busy": "2022-12-04T02:01:28.822789Z",
     "iopub.status.idle": "2022-12-04T02:01:28.835180Z",
     "shell.execute_reply": "2022-12-04T02:01:28.834089Z"
    },
    "papermill": {
     "duration": 0.027329,
     "end_time": "2022-12-04T02:01:28.837685",
     "exception": false,
     "start_time": "2022-12-04T02:01:28.810356",
     "status": "completed"
    },
    "tags": []
   },
   "outputs": [
    {
     "data": {
      "text/plain": [
       "[('_', 54),\n",
       " ('property', 36),\n",
       " ('california', 32),\n",
       " ('@youtube', 30),\n",
       " ('ticket', 29),\n",
       " ('jump', 29),\n",
       " ('11', 28),\n",
       " ('©', 27),\n",
       " ('guidance', 27),\n",
       " ('reveal', 27),\n",
       " ('series', 26),\n",
       " ('arrive', 26),\n",
       " ('platform', 26),\n",
       " ('de', 26),\n",
       " ('¼', 26),\n",
       " ('locations', 25),\n",
       " ('mark', 25),\n",
       " ('boom', 25),\n",
       " ('mall', 25),\n",
       " ('friday', 24)]"
      ]
     },
     "execution_count": 21,
     "metadata": {},
     "output_type": "execute_result"
    }
   ],
   "source": [
    "list(vocab_neu.items())[:20]"
   ]
  },
  {
   "cell_type": "markdown",
   "id": "0312a66a",
   "metadata": {
    "papermill": {
     "duration": 0.011113,
     "end_time": "2022-12-04T02:01:28.860505",
     "exception": false,
     "start_time": "2022-12-04T02:01:28.849392",
     "status": "completed"
    },
    "tags": []
   },
   "source": [
    "Change the from of the observation from tokens into a string so we can use the vectorizer function"
   ]
  },
  {
   "cell_type": "code",
   "execution_count": 22,
   "id": "06e2af99",
   "metadata": {
    "execution": {
     "iopub.execute_input": "2022-12-04T02:01:28.885624Z",
     "iopub.status.busy": "2022-12-04T02:01:28.884469Z",
     "iopub.status.idle": "2022-12-04T02:01:28.942920Z",
     "shell.execute_reply": "2022-12-04T02:01:28.941577Z"
    },
    "papermill": {
     "duration": 0.073625,
     "end_time": "2022-12-04T02:01:28.945707",
     "exception": false,
     "start_time": "2022-12-04T02:01:28.872082",
     "status": "completed"
    },
    "tags": []
   },
   "outputs": [
    {
     "data": {
      "text/html": [
       "<div>\n",
       "<style scoped>\n",
       "    .dataframe tbody tr th:only-of-type {\n",
       "        vertical-align: middle;\n",
       "    }\n",
       "\n",
       "    .dataframe tbody tr th {\n",
       "        vertical-align: top;\n",
       "    }\n",
       "\n",
       "    .dataframe thead th {\n",
       "        text-align: right;\n",
       "    }\n",
       "</style>\n",
       "<table border=\"1\" class=\"dataframe\">\n",
       "  <thead>\n",
       "    <tr style=\"text-align: right;\">\n",
       "      <th></th>\n",
       "      <th>OriginalTweet</th>\n",
       "      <th>Sentiment</th>\n",
       "      <th>tokens_raw</th>\n",
       "      <th>tokens</th>\n",
       "      <th>textclean</th>\n",
       "    </tr>\n",
       "  </thead>\n",
       "  <tbody>\n",
       "    <tr>\n",
       "      <th>0</th>\n",
       "      <td>@MeNyrbie @Phil_Gahan @Chrisitv https://t.co/i...</td>\n",
       "      <td>Neutral</td>\n",
       "      <td>[@menyrbie, @phil_gahan, @chrisitv, https://t....</td>\n",
       "      <td>[@menyrbie, @phil_gahan, @chrisitv, https://t....</td>\n",
       "      <td>@menyrbie @phil_gahan @chrisitv https://t.co/i...</td>\n",
       "    </tr>\n",
       "    <tr>\n",
       "      <th>1</th>\n",
       "      <td>advice Talk to your neighbours family to excha...</td>\n",
       "      <td>Positive</td>\n",
       "      <td>[advice, talk, neighbours, family, exchange, p...</td>\n",
       "      <td>[advice, talk, neighbour, family, exchange, ph...</td>\n",
       "      <td>advice talk neighbour family exchange phone nu...</td>\n",
       "    </tr>\n",
       "    <tr>\n",
       "      <th>2</th>\n",
       "      <td>Coronavirus Australia: Woolworths to give elde...</td>\n",
       "      <td>Positive</td>\n",
       "      <td>[coronavirus, australia, woolworths, give, eld...</td>\n",
       "      <td>[coronavirus, australia, woolworths, give, eld...</td>\n",
       "      <td>coronavirus australia woolworths give elderly ...</td>\n",
       "    </tr>\n",
       "    <tr>\n",
       "      <th>3</th>\n",
       "      <td>My food stock is not the only one which is emp...</td>\n",
       "      <td>Positive</td>\n",
       "      <td>[food, stock, one, empty, ..., please, ,, pani...</td>\n",
       "      <td>[food, stock, one, empty, ..., please, ,, pani...</td>\n",
       "      <td>food stock one empty ... please , panic , enou...</td>\n",
       "    </tr>\n",
       "    <tr>\n",
       "      <th>4</th>\n",
       "      <td>Me, ready to go at supermarket during the #COV...</td>\n",
       "      <td>Extremely Negative</td>\n",
       "      <td>[,, ready, go, supermarket, outbreak, i'm, par...</td>\n",
       "      <td>[,, ready, go, supermarket, outbreak, i'm, par...</td>\n",
       "      <td>, ready go supermarket outbreak i'm paranoid ,...</td>\n",
       "    </tr>\n",
       "  </tbody>\n",
       "</table>\n",
       "</div>"
      ],
      "text/plain": [
       "                                       OriginalTweet           Sentiment  \\\n",
       "0  @MeNyrbie @Phil_Gahan @Chrisitv https://t.co/i...             Neutral   \n",
       "1  advice Talk to your neighbours family to excha...            Positive   \n",
       "2  Coronavirus Australia: Woolworths to give elde...            Positive   \n",
       "3  My food stock is not the only one which is emp...            Positive   \n",
       "4  Me, ready to go at supermarket during the #COV...  Extremely Negative   \n",
       "\n",
       "                                          tokens_raw  \\\n",
       "0  [@menyrbie, @phil_gahan, @chrisitv, https://t....   \n",
       "1  [advice, talk, neighbours, family, exchange, p...   \n",
       "2  [coronavirus, australia, woolworths, give, eld...   \n",
       "3  [food, stock, one, empty, ..., please, ,, pani...   \n",
       "4  [,, ready, go, supermarket, outbreak, i'm, par...   \n",
       "\n",
       "                                              tokens  \\\n",
       "0  [@menyrbie, @phil_gahan, @chrisitv, https://t....   \n",
       "1  [advice, talk, neighbour, family, exchange, ph...   \n",
       "2  [coronavirus, australia, woolworths, give, eld...   \n",
       "3  [food, stock, one, empty, ..., please, ,, pani...   \n",
       "4  [,, ready, go, supermarket, outbreak, i'm, par...   \n",
       "\n",
       "                                           textclean  \n",
       "0  @menyrbie @phil_gahan @chrisitv https://t.co/i...  \n",
       "1  advice talk neighbour family exchange phone nu...  \n",
       "2  coronavirus australia woolworths give elderly ...  \n",
       "3  food stock one empty ... please , panic , enou...  \n",
       "4  , ready go supermarket outbreak i'm paranoid ,...  "
      ]
     },
     "execution_count": 22,
     "metadata": {},
     "output_type": "execute_result"
    }
   ],
   "source": [
    "train_data['textclean'] = train_data['tokens'].apply(lambda x: ' '.join(x))\n",
    "train_data.head()"
   ]
  },
  {
   "cell_type": "code",
   "execution_count": 23,
   "id": "7e811caa",
   "metadata": {
    "execution": {
     "iopub.execute_input": "2022-12-04T02:01:28.971172Z",
     "iopub.status.busy": "2022-12-04T02:01:28.970770Z",
     "iopub.status.idle": "2022-12-04T02:01:33.706556Z",
     "shell.execute_reply": "2022-12-04T02:01:33.704896Z"
    },
    "papermill": {
     "duration": 4.752229,
     "end_time": "2022-12-04T02:01:33.709965",
     "exception": false,
     "start_time": "2022-12-04T02:01:28.957736",
     "status": "completed"
    },
    "tags": []
   },
   "outputs": [
    {
     "name": "stdout",
     "output_type": "stream",
     "text": [
      "X_train.shape = (41157, 64082)\n"
     ]
    }
   ],
   "source": [
    "from sklearn.feature_extraction.text import TfidfVectorizer\n",
    "tfidf_vectorizer = TfidfVectorizer()\n",
    "X_train = tfidf_vectorizer.fit_transform(train_data['textclean']).toarray()\n",
    "print(f\"X_train.shape = {X_train.shape}\")"
   ]
  },
  {
   "cell_type": "code",
   "execution_count": 24,
   "id": "43431a68",
   "metadata": {
    "execution": {
     "iopub.execute_input": "2022-12-04T02:01:33.735434Z",
     "iopub.status.busy": "2022-12-04T02:01:33.735012Z",
     "iopub.status.idle": "2022-12-04T02:01:33.741609Z",
     "shell.execute_reply": "2022-12-04T02:01:33.740788Z"
    },
    "papermill": {
     "duration": 0.021669,
     "end_time": "2022-12-04T02:01:33.743789",
     "exception": false,
     "start_time": "2022-12-04T02:01:33.722120",
     "status": "completed"
    },
    "tags": []
   },
   "outputs": [
    {
     "data": {
      "text/plain": [
       "array(['Neutral', 'Positive', 'Positive', 'Positive',\n",
       "       'Extremely Negative', 'Positive', 'Positive', 'Neutral',\n",
       "       'Positive', 'Negative'], dtype=object)"
      ]
     },
     "execution_count": 24,
     "metadata": {},
     "output_type": "execute_result"
    }
   ],
   "source": [
    "y_train = train_data.Sentiment.to_numpy()\n",
    "y_train[:10]"
   ]
  },
  {
   "cell_type": "code",
   "execution_count": 25,
   "id": "c5d0682d",
   "metadata": {
    "execution": {
     "iopub.execute_input": "2022-12-04T02:01:33.768895Z",
     "iopub.status.busy": "2022-12-04T02:01:33.768419Z",
     "iopub.status.idle": "2022-12-04T02:25:56.611795Z",
     "shell.execute_reply": "2022-12-04T02:25:56.610391Z"
    },
    "papermill": {
     "duration": 1462.859996,
     "end_time": "2022-12-04T02:25:56.615364",
     "exception": false,
     "start_time": "2022-12-04T02:01:33.755368",
     "status": "completed"
    },
    "tags": []
   },
   "outputs": [
    {
     "name": "stdout",
     "output_type": "stream",
     "text": [
      "accuracy: 1.0000\n"
     ]
    },
    {
     "data": {
      "image/png": "[encoded data removed]",
      "text/plain": [
       "<Figure size 432x288 with 2 Axes>"
      ]
     },
     "metadata": {
      "needs_background": "light"
     },
     "output_type": "display_data"
    }
   ],
   "source": [
    "from sklearn.ensemble import RandomForestClassifier\n",
    "from sklearn.metrics import confusion_matrix, ConfusionMatrixDisplay, accuracy_score\n",
    "model = RandomForestClassifier(n_estimators=100)\n",
    "model = model.fit(X_train, y_train)\n",
    "\n",
    "pred_train = model.predict(X_train)\n",
    "\n",
    "display = ConfusionMatrixDisplay(confusion_matrix(train_data['Sentiment'], pred_train), display_labels=['ex negative','ex positive','negative','neutral','positive'])\n",
    "display.plot()\n",
    "print(f\"accuracy: {accuracy_score(train_data['Sentiment'],pred_train):.4f}\")"
   ]
  },
  {
   "cell_type": "code",
   "execution_count": 26,
   "id": "a96ee6f1",
   "metadata": {
    "execution": {
     "iopub.execute_input": "2022-12-04T02:25:56.641978Z",
     "iopub.status.busy": "2022-12-04T02:25:56.641288Z",
     "iopub.status.idle": "2022-12-04T02:25:57.068243Z",
     "shell.execute_reply": "2022-12-04T02:25:57.066660Z"
    },
    "papermill": {
     "duration": 0.44344,
     "end_time": "2022-12-04T02:25:57.070976",
     "exception": false,
     "start_time": "2022-12-04T02:25:56.627536",
     "status": "completed"
    },
    "tags": []
   },
   "outputs": [
    {
     "data": {
      "text/plain": [
       "(3798, 64082)"
      ]
     },
     "execution_count": 26,
     "metadata": {},
     "output_type": "execute_result"
    }
   ],
   "source": [
    "test_data['textclean'] = test_data['tokens'].apply(lambda x: ' '.join(x))\n",
    "X_test = tfidf_vectorizer.transform(test_data['textclean']).toarray()\n",
    "X_test.shape"
   ]
  },
  {
   "cell_type": "code",
   "execution_count": 27,
   "id": "ef03847e",
   "metadata": {
    "execution": {
     "iopub.execute_input": "2022-12-04T02:25:57.097984Z",
     "iopub.status.busy": "2022-12-04T02:25:57.097288Z",
     "iopub.status.idle": "2022-12-04T02:25:59.547434Z",
     "shell.execute_reply": "2022-12-04T02:25:59.546131Z"
    },
    "papermill": {
     "duration": 2.466467,
     "end_time": "2022-12-04T02:25:59.550038",
     "exception": false,
     "start_time": "2022-12-04T02:25:57.083571",
     "status": "completed"
    },
    "tags": []
   },
   "outputs": [
    {
     "name": "stdout",
     "output_type": "stream",
     "text": [
      "accuracy: 0.4942\n"
     ]
    },
    {
     "data": {
      "image/png": "[encoded data removed]",
      "text/plain": [
       "<Figure size 432x288 with 2 Axes>"
      ]
     },
     "metadata": {
      "needs_background": "light"
     },
     "output_type": "display_data"
    }
   ],
   "source": [
    "pred_test = model.predict(X_test)\n",
    "\n",
    "display = ConfusionMatrixDisplay(confusion_matrix(test_data['Sentiment'], pred_test), display_labels=['ex negative','ex positive','positive','neutral','negative'])\n",
    "display.plot()\n",
    "print(f\"accuracy: {accuracy_score(test_data['Sentiment'],pred_test):.4f}\")"
   ]
  }
 ],
 "metadata": {
  "kernelspec": {
   "display_name": "Python 3",
   "language": "python",
   "name": "python3"
  },
  "language_info": {
   "codemirror_mode": {
    "name": "ipython",
    "version": 3
   },
   "file_extension": ".py",
   "mimetype": "text/x-python",
   "name": "python",
   "nbconvert_exporter": "python",
   "pygments_lexer": "ipython3",
   "version": "3.7.12"
  },
  "papermill": {
   "default_parameters": {},
   "duration": 1503.040975,
   "end_time": "2022-12-04T02:26:01.197770",
   "environment_variables": {},
   "exception": null,
   "input_path": "__notebook__.ipynb",
   "output_path": "__notebook__.ipynb",
   "parameters": {},
   "start_time": "2022-12-04T02:00:58.156795",
   "version": "2.3.4"
  }
 },
 "nbformat": 4,
 "nbformat_minor": 5
}
