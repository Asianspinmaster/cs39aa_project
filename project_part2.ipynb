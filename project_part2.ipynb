{
 "cells": [
  {
   "cell_type": "markdown",
   "id": "99b6d15d",
   "metadata": {
    "papermill": {
     "duration": 0.009948,
     "end_time": "2022-11-29T18:39:21.351963",
     "exception": false,
     "start_time": "2022-11-29T18:39:21.342015",
     "status": "completed"
    },
    "tags": []
   },
   "source": [
    "# CS 39aa Final Project Part 1"
   ]
  },
  {
   "cell_type": "markdown",
   "id": "96d9df27",
   "metadata": {
    "papermill": {
     "duration": 0.007992,
     "end_time": "2022-11-29T18:39:21.368451",
     "exception": false,
     "start_time": "2022-11-29T18:39:21.360459",
     "status": "completed"
    },
    "tags": []
   },
   "source": [
    "## Introduction/Background\n",
    "_This project is based off a data set given by Kaggle \"Coronavirus tweets NLP - Text Classification.\" These tweets have been pulled from twitter and categorized accordingly such as the date, location, original tweet message, and sentiment. The data was given in two different sets of data. One data set as the training for training your data, and the other as the testing for testing and validating the data. This problem is a multi-class text classification problem meaning that the goal of this project is to project whether a certain tweet within the dataset is a \"positive\", \"negative\", \"extremely positive\", \"extremely negative\", or \"neutral\" tweet based on the words that were used within the tweet._\n"
   ]
  },
  {
   "cell_type": "markdown",
   "id": "eae64e11",
   "metadata": {
    "papermill": {
     "duration": 0.008182,
     "end_time": "2022-11-29T18:39:21.384653",
     "exception": false,
     "start_time": "2022-11-29T18:39:21.376471",
     "status": "completed"
    },
    "tags": []
   },
   "source": [
    "## Exploratory Data Analysis\n"
   ]
  },
  {
   "cell_type": "code",
   "execution_count": 1,
   "id": "d2f37cb7",
   "metadata": {
    "execution": {
     "iopub.execute_input": "2022-11-29T18:39:21.403349Z",
     "iopub.status.busy": "2022-11-29T18:39:21.402364Z",
     "iopub.status.idle": "2022-11-29T18:39:21.894907Z",
     "shell.execute_reply": "2022-11-29T18:39:21.893509Z"
    },
    "papermill": {
     "duration": 0.506909,
     "end_time": "2022-11-29T18:39:21.899575",
     "exception": false,
     "start_time": "2022-11-29T18:39:21.392666",
     "status": "completed"
    },
    "tags": []
   },
   "outputs": [
    {
     "data": {
      "text/html": [
       "<div>\n",
       "<style scoped>\n",
       "    .dataframe tbody tr th:only-of-type {\n",
       "        vertical-align: middle;\n",
       "    }\n",
       "\n",
       "    .dataframe tbody tr th {\n",
       "        vertical-align: top;\n",
       "    }\n",
       "\n",
       "    .dataframe thead th {\n",
       "        text-align: right;\n",
       "    }\n",
       "</style>\n",
       "<table border=\"1\" class=\"dataframe\">\n",
       "  <thead>\n",
       "    <tr style=\"text-align: right;\">\n",
       "      <th></th>\n",
       "      <th>UserName</th>\n",
       "      <th>ScreenName</th>\n",
       "      <th>Location</th>\n",
       "      <th>TweetAt</th>\n",
       "      <th>OriginalTweet</th>\n",
       "      <th>Sentiment</th>\n",
       "    </tr>\n",
       "  </thead>\n",
       "  <tbody>\n",
       "    <tr>\n",
       "      <th>0</th>\n",
       "      <td>1</td>\n",
       "      <td>44953</td>\n",
       "      <td>NYC</td>\n",
       "      <td>02-03-2020</td>\n",
       "      <td>TRENDING: New Yorkers encounter empty supermar...</td>\n",
       "      <td>Extremely Negative</td>\n",
       "    </tr>\n",
       "    <tr>\n",
       "      <th>1</th>\n",
       "      <td>2</td>\n",
       "      <td>44954</td>\n",
       "      <td>Seattle, WA</td>\n",
       "      <td>02-03-2020</td>\n",
       "      <td>When I couldn't find hand sanitizer at Fred Me...</td>\n",
       "      <td>Positive</td>\n",
       "    </tr>\n",
       "    <tr>\n",
       "      <th>2</th>\n",
       "      <td>3</td>\n",
       "      <td>44955</td>\n",
       "      <td>NaN</td>\n",
       "      <td>02-03-2020</td>\n",
       "      <td>Find out how you can protect yourself and love...</td>\n",
       "      <td>Extremely Positive</td>\n",
       "    </tr>\n",
       "    <tr>\n",
       "      <th>3</th>\n",
       "      <td>4</td>\n",
       "      <td>44956</td>\n",
       "      <td>Chicagoland</td>\n",
       "      <td>02-03-2020</td>\n",
       "      <td>#Panic buying hits #NewYork City as anxious sh...</td>\n",
       "      <td>Negative</td>\n",
       "    </tr>\n",
       "    <tr>\n",
       "      <th>4</th>\n",
       "      <td>5</td>\n",
       "      <td>44957</td>\n",
       "      <td>Melbourne, Victoria</td>\n",
       "      <td>03-03-2020</td>\n",
       "      <td>#toiletpaper #dunnypaper #coronavirus #coronav...</td>\n",
       "      <td>Neutral</td>\n",
       "    </tr>\n",
       "  </tbody>\n",
       "</table>\n",
       "</div>"
      ],
      "text/plain": [
       "   UserName  ScreenName             Location     TweetAt  \\\n",
       "0         1       44953                  NYC  02-03-2020   \n",
       "1         2       44954          Seattle, WA  02-03-2020   \n",
       "2         3       44955                  NaN  02-03-2020   \n",
       "3         4       44956          Chicagoland  02-03-2020   \n",
       "4         5       44957  Melbourne, Victoria  03-03-2020   \n",
       "\n",
       "                                       OriginalTweet           Sentiment  \n",
       "0  TRENDING: New Yorkers encounter empty supermar...  Extremely Negative  \n",
       "1  When I couldn't find hand sanitizer at Fred Me...            Positive  \n",
       "2  Find out how you can protect yourself and love...  Extremely Positive  \n",
       "3  #Panic buying hits #NewYork City as anxious sh...            Negative  \n",
       "4  #toiletpaper #dunnypaper #coronavirus #coronav...             Neutral  "
      ]
     },
     "execution_count": 1,
     "metadata": {},
     "output_type": "execute_result"
    }
   ],
   "source": [
    "import pandas as pd\n",
    "\n",
    "test_data = pd.read_csv('../input/covid-19-nlp-text-classification/Corona_NLP_test.csv')\n",
    "train_data = pd.read_csv('../input/covid-19-nlp-text-classification/Corona_NLP_train.csv', encoding= 'ISO-8859-1')\n",
    "test_data.head()"
   ]
  },
  {
   "cell_type": "code",
   "execution_count": 2,
   "id": "f09412ec",
   "metadata": {
    "execution": {
     "iopub.execute_input": "2022-11-29T18:39:21.921907Z",
     "iopub.status.busy": "2022-11-29T18:39:21.920981Z",
     "iopub.status.idle": "2022-11-29T18:39:21.941565Z",
     "shell.execute_reply": "2022-11-29T18:39:21.940321Z"
    },
    "papermill": {
     "duration": 0.035741,
     "end_time": "2022-11-29T18:39:21.945254",
     "exception": false,
     "start_time": "2022-11-29T18:39:21.909513",
     "status": "completed"
    },
    "tags": []
   },
   "outputs": [
    {
     "data": {
      "text/html": [
       "<div>\n",
       "<style scoped>\n",
       "    .dataframe tbody tr th:only-of-type {\n",
       "        vertical-align: middle;\n",
       "    }\n",
       "\n",
       "    .dataframe tbody tr th {\n",
       "        vertical-align: top;\n",
       "    }\n",
       "\n",
       "    .dataframe thead th {\n",
       "        text-align: right;\n",
       "    }\n",
       "</style>\n",
       "<table border=\"1\" class=\"dataframe\">\n",
       "  <thead>\n",
       "    <tr style=\"text-align: right;\">\n",
       "      <th></th>\n",
       "      <th>UserName</th>\n",
       "      <th>ScreenName</th>\n",
       "      <th>Location</th>\n",
       "      <th>TweetAt</th>\n",
       "      <th>OriginalTweet</th>\n",
       "      <th>Sentiment</th>\n",
       "    </tr>\n",
       "  </thead>\n",
       "  <tbody>\n",
       "    <tr>\n",
       "      <th>0</th>\n",
       "      <td>3799</td>\n",
       "      <td>48751</td>\n",
       "      <td>London</td>\n",
       "      <td>16-03-2020</td>\n",
       "      <td>@MeNyrbie @Phil_Gahan @Chrisitv https://t.co/i...</td>\n",
       "      <td>Neutral</td>\n",
       "    </tr>\n",
       "    <tr>\n",
       "      <th>1</th>\n",
       "      <td>3800</td>\n",
       "      <td>48752</td>\n",
       "      <td>UK</td>\n",
       "      <td>16-03-2020</td>\n",
       "      <td>advice Talk to your neighbours family to excha...</td>\n",
       "      <td>Positive</td>\n",
       "    </tr>\n",
       "    <tr>\n",
       "      <th>2</th>\n",
       "      <td>3801</td>\n",
       "      <td>48753</td>\n",
       "      <td>Vagabonds</td>\n",
       "      <td>16-03-2020</td>\n",
       "      <td>Coronavirus Australia: Woolworths to give elde...</td>\n",
       "      <td>Positive</td>\n",
       "    </tr>\n",
       "    <tr>\n",
       "      <th>3</th>\n",
       "      <td>3802</td>\n",
       "      <td>48754</td>\n",
       "      <td>NaN</td>\n",
       "      <td>16-03-2020</td>\n",
       "      <td>My food stock is not the only one which is emp...</td>\n",
       "      <td>Positive</td>\n",
       "    </tr>\n",
       "    <tr>\n",
       "      <th>4</th>\n",
       "      <td>3803</td>\n",
       "      <td>48755</td>\n",
       "      <td>NaN</td>\n",
       "      <td>16-03-2020</td>\n",
       "      <td>Me, ready to go at supermarket during the #COV...</td>\n",
       "      <td>Extremely Negative</td>\n",
       "    </tr>\n",
       "  </tbody>\n",
       "</table>\n",
       "</div>"
      ],
      "text/plain": [
       "   UserName  ScreenName   Location     TweetAt  \\\n",
       "0      3799       48751     London  16-03-2020   \n",
       "1      3800       48752         UK  16-03-2020   \n",
       "2      3801       48753  Vagabonds  16-03-2020   \n",
       "3      3802       48754        NaN  16-03-2020   \n",
       "4      3803       48755        NaN  16-03-2020   \n",
       "\n",
       "                                       OriginalTweet           Sentiment  \n",
       "0  @MeNyrbie @Phil_Gahan @Chrisitv https://t.co/i...             Neutral  \n",
       "1  advice Talk to your neighbours family to excha...            Positive  \n",
       "2  Coronavirus Australia: Woolworths to give elde...            Positive  \n",
       "3  My food stock is not the only one which is emp...            Positive  \n",
       "4  Me, ready to go at supermarket during the #COV...  Extremely Negative  "
      ]
     },
     "execution_count": 2,
     "metadata": {},
     "output_type": "execute_result"
    }
   ],
   "source": [
    "train_data.head()"
   ]
  },
  {
   "cell_type": "markdown",
   "id": "3cbab59a",
   "metadata": {
    "papermill": {
     "duration": 0.015249,
     "end_time": "2022-11-29T18:39:21.971180",
     "exception": false,
     "start_time": "2022-11-29T18:39:21.955931",
     "status": "completed"
    },
    "tags": []
   },
   "source": [
    "Here we drop the username, screenname, location, and tweetat columns because they hold no value in trying to solve the sentiment of the tweet."
   ]
  },
  {
   "cell_type": "code",
   "execution_count": 3,
   "id": "8ae65ed5",
   "metadata": {
    "execution": {
     "iopub.execute_input": "2022-11-29T18:39:21.991818Z",
     "iopub.status.busy": "2022-11-29T18:39:21.991376Z",
     "iopub.status.idle": "2022-11-29T18:39:22.007679Z",
     "shell.execute_reply": "2022-11-29T18:39:22.006633Z"
    },
    "papermill": {
     "duration": 0.029755,
     "end_time": "2022-11-29T18:39:22.010593",
     "exception": false,
     "start_time": "2022-11-29T18:39:21.980838",
     "status": "completed"
    },
    "tags": []
   },
   "outputs": [],
   "source": [
    "train_data.drop(columns = ['UserName','ScreenName','Location','TweetAt'], inplace=True)\n",
    "test_data.drop(columns = ['UserName','ScreenName','Location','TweetAt'], inplace=True)"
   ]
  },
  {
   "cell_type": "markdown",
   "id": "cc0b0d76",
   "metadata": {
    "papermill": {
     "duration": 0.009517,
     "end_time": "2022-11-29T18:39:22.030980",
     "exception": false,
     "start_time": "2022-11-29T18:39:22.021463",
     "status": "completed"
    },
    "tags": []
   },
   "source": [
    "We find the sentiment precentage of the training and testing data sets"
   ]
  },
  {
   "cell_type": "code",
   "execution_count": 4,
   "id": "b1f1af58",
   "metadata": {
    "execution": {
     "iopub.execute_input": "2022-11-29T18:39:22.056727Z",
     "iopub.status.busy": "2022-11-29T18:39:22.055291Z",
     "iopub.status.idle": "2022-11-29T18:39:22.069800Z",
     "shell.execute_reply": "2022-11-29T18:39:22.068633Z"
    },
    "papermill": {
     "duration": 0.03113,
     "end_time": "2022-11-29T18:39:22.072398",
     "exception": false,
     "start_time": "2022-11-29T18:39:22.041268",
     "status": "completed"
    },
    "tags": []
   },
   "outputs": [
    {
     "data": {
      "text/plain": [
       "Negative              0.274092\n",
       "Positive              0.249342\n",
       "Neutral               0.162981\n",
       "Extremely Positive    0.157715\n",
       "Extremely Negative    0.155872\n",
       "Name: Sentiment, dtype: float64"
      ]
     },
     "execution_count": 4,
     "metadata": {},
     "output_type": "execute_result"
    }
   ],
   "source": [
    "test_data.Sentiment.value_counts(normalize = True)"
   ]
  },
  {
   "cell_type": "code",
   "execution_count": 5,
   "id": "4d74d709",
   "metadata": {
    "execution": {
     "iopub.execute_input": "2022-11-29T18:39:22.092704Z",
     "iopub.status.busy": "2022-11-29T18:39:22.091772Z",
     "iopub.status.idle": "2022-11-29T18:39:22.103915Z",
     "shell.execute_reply": "2022-11-29T18:39:22.102635Z"
    },
    "papermill": {
     "duration": 0.025084,
     "end_time": "2022-11-29T18:39:22.106660",
     "exception": false,
     "start_time": "2022-11-29T18:39:22.081576",
     "status": "completed"
    },
    "tags": []
   },
   "outputs": [
    {
     "data": {
      "text/plain": [
       "Positive              0.277523\n",
       "Negative              0.240955\n",
       "Neutral               0.187404\n",
       "Extremely Positive    0.160945\n",
       "Extremely Negative    0.133173\n",
       "Name: Sentiment, dtype: float64"
      ]
     },
     "execution_count": 5,
     "metadata": {},
     "output_type": "execute_result"
    }
   ],
   "source": [
    "train_data.Sentiment.value_counts(normalize = True)"
   ]
  },
  {
   "cell_type": "code",
   "execution_count": 6,
   "id": "e84c934a",
   "metadata": {
    "execution": {
     "iopub.execute_input": "2022-11-29T18:39:22.129512Z",
     "iopub.status.busy": "2022-11-29T18:39:22.127580Z",
     "iopub.status.idle": "2022-11-29T18:39:22.138399Z",
     "shell.execute_reply": "2022-11-29T18:39:22.136981Z"
    },
    "papermill": {
     "duration": 0.02456,
     "end_time": "2022-11-29T18:39:22.141094",
     "exception": false,
     "start_time": "2022-11-29T18:39:22.116534",
     "status": "completed"
    },
    "tags": []
   },
   "outputs": [
    {
     "data": {
      "text/plain": [
       "(41157, 2)"
      ]
     },
     "execution_count": 6,
     "metadata": {},
     "output_type": "execute_result"
    }
   ],
   "source": [
    "train_data.shape"
   ]
  },
  {
   "cell_type": "code",
   "execution_count": 7,
   "id": "23a684de",
   "metadata": {
    "execution": {
     "iopub.execute_input": "2022-11-29T18:39:22.163235Z",
     "iopub.status.busy": "2022-11-29T18:39:22.162349Z",
     "iopub.status.idle": "2022-11-29T18:39:22.169387Z",
     "shell.execute_reply": "2022-11-29T18:39:22.168028Z"
    },
    "papermill": {
     "duration": 0.020964,
     "end_time": "2022-11-29T18:39:22.172282",
     "exception": false,
     "start_time": "2022-11-29T18:39:22.151318",
     "status": "completed"
    },
    "tags": []
   },
   "outputs": [
    {
     "data": {
      "text/plain": [
       "(3798, 2)"
      ]
     },
     "execution_count": 7,
     "metadata": {},
     "output_type": "execute_result"
    }
   ],
   "source": [
    "test_data.shape"
   ]
  },
  {
   "cell_type": "markdown",
   "id": "67c8107c",
   "metadata": {
    "papermill": {
     "duration": 0.009985,
     "end_time": "2022-11-29T18:39:22.196203",
     "exception": false,
     "start_time": "2022-11-29T18:39:22.186218",
     "status": "completed"
    },
    "tags": []
   },
   "source": [
    "We tokenize each word of the tweet adding it as a new column to the dataset"
   ]
  },
  {
   "cell_type": "code",
   "execution_count": 8,
   "id": "4d3f34ea",
   "metadata": {
    "execution": {
     "iopub.execute_input": "2022-11-29T18:39:22.218021Z",
     "iopub.status.busy": "2022-11-29T18:39:22.217228Z",
     "iopub.status.idle": "2022-11-29T18:39:31.132783Z",
     "shell.execute_reply": "2022-11-29T18:39:31.131898Z"
    },
    "papermill": {
     "duration": 8.929874,
     "end_time": "2022-11-29T18:39:31.135312",
     "exception": false,
     "start_time": "2022-11-29T18:39:22.205438",
     "status": "completed"
    },
    "tags": []
   },
   "outputs": [
    {
     "data": {
      "text/html": [
       "<div>\n",
       "<style scoped>\n",
       "    .dataframe tbody tr th:only-of-type {\n",
       "        vertical-align: middle;\n",
       "    }\n",
       "\n",
       "    .dataframe tbody tr th {\n",
       "        vertical-align: top;\n",
       "    }\n",
       "\n",
       "    .dataframe thead th {\n",
       "        text-align: right;\n",
       "    }\n",
       "</style>\n",
       "<table border=\"1\" class=\"dataframe\">\n",
       "  <thead>\n",
       "    <tr style=\"text-align: right;\">\n",
       "      <th></th>\n",
       "      <th>OriginalTweet</th>\n",
       "      <th>Sentiment</th>\n",
       "      <th>tokens_raw</th>\n",
       "    </tr>\n",
       "  </thead>\n",
       "  <tbody>\n",
       "    <tr>\n",
       "      <th>0</th>\n",
       "      <td>@MeNyrbie @Phil_Gahan @Chrisitv https://t.co/i...</td>\n",
       "      <td>Neutral</td>\n",
       "      <td>[@menyrbie, @phil_gahan, @chrisitv, https://t....</td>\n",
       "    </tr>\n",
       "    <tr>\n",
       "      <th>1</th>\n",
       "      <td>advice Talk to your neighbours family to excha...</td>\n",
       "      <td>Positive</td>\n",
       "      <td>[advice, talk, to, your, neighbours, family, t...</td>\n",
       "    </tr>\n",
       "    <tr>\n",
       "      <th>2</th>\n",
       "      <td>Coronavirus Australia: Woolworths to give elde...</td>\n",
       "      <td>Positive</td>\n",
       "      <td>[coronavirus, australia, :, woolworths, to, gi...</td>\n",
       "    </tr>\n",
       "    <tr>\n",
       "      <th>3</th>\n",
       "      <td>My food stock is not the only one which is emp...</td>\n",
       "      <td>Positive</td>\n",
       "      <td>[my, food, stock, is, not, the, only, one, whi...</td>\n",
       "    </tr>\n",
       "    <tr>\n",
       "      <th>4</th>\n",
       "      <td>Me, ready to go at supermarket during the #COV...</td>\n",
       "      <td>Extremely Negative</td>\n",
       "      <td>[me, ,, ready, to, go, at, supermarket, during...</td>\n",
       "    </tr>\n",
       "  </tbody>\n",
       "</table>\n",
       "</div>"
      ],
      "text/plain": [
       "                                       OriginalTweet           Sentiment  \\\n",
       "0  @MeNyrbie @Phil_Gahan @Chrisitv https://t.co/i...             Neutral   \n",
       "1  advice Talk to your neighbours family to excha...            Positive   \n",
       "2  Coronavirus Australia: Woolworths to give elde...            Positive   \n",
       "3  My food stock is not the only one which is emp...            Positive   \n",
       "4  Me, ready to go at supermarket during the #COV...  Extremely Negative   \n",
       "\n",
       "                                          tokens_raw  \n",
       "0  [@menyrbie, @phil_gahan, @chrisitv, https://t....  \n",
       "1  [advice, talk, to, your, neighbours, family, t...  \n",
       "2  [coronavirus, australia, :, woolworths, to, gi...  \n",
       "3  [my, food, stock, is, not, the, only, one, whi...  \n",
       "4  [me, ,, ready, to, go, at, supermarket, during...  "
      ]
     },
     "execution_count": 8,
     "metadata": {},
     "output_type": "execute_result"
    }
   ],
   "source": [
    "from nltk.tokenize import TweetTokenizer\n",
    "tk = TweetTokenizer()\n",
    "train_data['tokens_raw'] = train_data['OriginalTweet'].apply(lambda x: tk.tokenize(x.lower()))\n",
    "train_data.head()"
   ]
  },
  {
   "cell_type": "code",
   "execution_count": 9,
   "id": "cfd7122b",
   "metadata": {
    "execution": {
     "iopub.execute_input": "2022-11-29T18:39:31.155902Z",
     "iopub.status.busy": "2022-11-29T18:39:31.155456Z",
     "iopub.status.idle": "2022-11-29T18:39:32.065192Z",
     "shell.execute_reply": "2022-11-29T18:39:32.064075Z"
    },
    "papermill": {
     "duration": 0.922709,
     "end_time": "2022-11-29T18:39:32.067621",
     "exception": false,
     "start_time": "2022-11-29T18:39:31.144912",
     "status": "completed"
    },
    "tags": []
   },
   "outputs": [
    {
     "data": {
      "text/html": [
       "<div>\n",
       "<style scoped>\n",
       "    .dataframe tbody tr th:only-of-type {\n",
       "        vertical-align: middle;\n",
       "    }\n",
       "\n",
       "    .dataframe tbody tr th {\n",
       "        vertical-align: top;\n",
       "    }\n",
       "\n",
       "    .dataframe thead th {\n",
       "        text-align: right;\n",
       "    }\n",
       "</style>\n",
       "<table border=\"1\" class=\"dataframe\">\n",
       "  <thead>\n",
       "    <tr style=\"text-align: right;\">\n",
       "      <th></th>\n",
       "      <th>OriginalTweet</th>\n",
       "      <th>Sentiment</th>\n",
       "      <th>tokens_raw</th>\n",
       "    </tr>\n",
       "  </thead>\n",
       "  <tbody>\n",
       "    <tr>\n",
       "      <th>0</th>\n",
       "      <td>TRENDING: New Yorkers encounter empty supermar...</td>\n",
       "      <td>Extremely Negative</td>\n",
       "      <td>[trending, :, new, yorkers, encounter, empty, ...</td>\n",
       "    </tr>\n",
       "    <tr>\n",
       "      <th>1</th>\n",
       "      <td>When I couldn't find hand sanitizer at Fred Me...</td>\n",
       "      <td>Positive</td>\n",
       "      <td>[when, i, couldn't, find, hand, sanitizer, at,...</td>\n",
       "    </tr>\n",
       "    <tr>\n",
       "      <th>2</th>\n",
       "      <td>Find out how you can protect yourself and love...</td>\n",
       "      <td>Extremely Positive</td>\n",
       "      <td>[find, out, how, you, can, protect, yourself, ...</td>\n",
       "    </tr>\n",
       "    <tr>\n",
       "      <th>3</th>\n",
       "      <td>#Panic buying hits #NewYork City as anxious sh...</td>\n",
       "      <td>Negative</td>\n",
       "      <td>[#panic, buying, hits, #newyork, city, as, anx...</td>\n",
       "    </tr>\n",
       "    <tr>\n",
       "      <th>4</th>\n",
       "      <td>#toiletpaper #dunnypaper #coronavirus #coronav...</td>\n",
       "      <td>Neutral</td>\n",
       "      <td>[#toiletpaper, #dunnypaper, #coronavirus, #cor...</td>\n",
       "    </tr>\n",
       "  </tbody>\n",
       "</table>\n",
       "</div>"
      ],
      "text/plain": [
       "                                       OriginalTweet           Sentiment  \\\n",
       "0  TRENDING: New Yorkers encounter empty supermar...  Extremely Negative   \n",
       "1  When I couldn't find hand sanitizer at Fred Me...            Positive   \n",
       "2  Find out how you can protect yourself and love...  Extremely Positive   \n",
       "3  #Panic buying hits #NewYork City as anxious sh...            Negative   \n",
       "4  #toiletpaper #dunnypaper #coronavirus #coronav...             Neutral   \n",
       "\n",
       "                                          tokens_raw  \n",
       "0  [trending, :, new, yorkers, encounter, empty, ...  \n",
       "1  [when, i, couldn't, find, hand, sanitizer, at,...  \n",
       "2  [find, out, how, you, can, protect, yourself, ...  \n",
       "3  [#panic, buying, hits, #newyork, city, as, anx...  \n",
       "4  [#toiletpaper, #dunnypaper, #coronavirus, #cor...  "
      ]
     },
     "execution_count": 9,
     "metadata": {},
     "output_type": "execute_result"
    }
   ],
   "source": [
    "test_data['tokens_raw'] = test_data['OriginalTweet'].apply(lambda x: tk.tokenize(x.lower()))\n",
    "test_data.head()"
   ]
  },
  {
   "cell_type": "markdown",
   "id": "3a329393",
   "metadata": {
    "papermill": {
     "duration": 0.009047,
     "end_time": "2022-11-29T18:39:32.086269",
     "exception": false,
     "start_time": "2022-11-29T18:39:32.077222",
     "status": "completed"
    },
    "tags": []
   },
   "source": [
    "This takes out any unnecessary token words that we don't want in our dataset such as \"the\", \"to\", \"I\", or any punctuation "
   ]
  },
  {
   "cell_type": "code",
   "execution_count": 10,
   "id": "1e0c1d74",
   "metadata": {
    "execution": {
     "iopub.execute_input": "2022-11-29T18:39:32.106645Z",
     "iopub.status.busy": "2022-11-29T18:39:32.106224Z",
     "iopub.status.idle": "2022-11-29T18:39:33.736349Z",
     "shell.execute_reply": "2022-11-29T18:39:33.735055Z"
    },
    "papermill": {
     "duration": 1.643054,
     "end_time": "2022-11-29T18:39:33.738672",
     "exception": false,
     "start_time": "2022-11-29T18:39:32.095618",
     "status": "completed"
    },
    "tags": []
   },
   "outputs": [
    {
     "data": {
      "text/html": [
       "<div>\n",
       "<style scoped>\n",
       "    .dataframe tbody tr th:only-of-type {\n",
       "        vertical-align: middle;\n",
       "    }\n",
       "\n",
       "    .dataframe tbody tr th {\n",
       "        vertical-align: top;\n",
       "    }\n",
       "\n",
       "    .dataframe thead th {\n",
       "        text-align: right;\n",
       "    }\n",
       "</style>\n",
       "<table border=\"1\" class=\"dataframe\">\n",
       "  <thead>\n",
       "    <tr style=\"text-align: right;\">\n",
       "      <th></th>\n",
       "      <th>OriginalTweet</th>\n",
       "      <th>Sentiment</th>\n",
       "      <th>tokens_raw</th>\n",
       "    </tr>\n",
       "  </thead>\n",
       "  <tbody>\n",
       "    <tr>\n",
       "      <th>0</th>\n",
       "      <td>@MeNyrbie @Phil_Gahan @Chrisitv https://t.co/i...</td>\n",
       "      <td>Neutral</td>\n",
       "      <td>[@menyrbie, @phil_gahan, @chrisitv, https://t....</td>\n",
       "    </tr>\n",
       "    <tr>\n",
       "      <th>1</th>\n",
       "      <td>advice Talk to your neighbours family to excha...</td>\n",
       "      <td>Positive</td>\n",
       "      <td>[advice, talk, neighbours, family, exchange, p...</td>\n",
       "    </tr>\n",
       "    <tr>\n",
       "      <th>2</th>\n",
       "      <td>Coronavirus Australia: Woolworths to give elde...</td>\n",
       "      <td>Positive</td>\n",
       "      <td>[coronavirus, australia, woolworths, give, eld...</td>\n",
       "    </tr>\n",
       "    <tr>\n",
       "      <th>3</th>\n",
       "      <td>My food stock is not the only one which is emp...</td>\n",
       "      <td>Positive</td>\n",
       "      <td>[food, stock, one, empty, ..., please, ,, pani...</td>\n",
       "    </tr>\n",
       "    <tr>\n",
       "      <th>4</th>\n",
       "      <td>Me, ready to go at supermarket during the #COV...</td>\n",
       "      <td>Extremely Negative</td>\n",
       "      <td>[,, ready, go, supermarket, outbreak, i'm, par...</td>\n",
       "    </tr>\n",
       "  </tbody>\n",
       "</table>\n",
       "</div>"
      ],
      "text/plain": [
       "                                       OriginalTweet           Sentiment  \\\n",
       "0  @MeNyrbie @Phil_Gahan @Chrisitv https://t.co/i...             Neutral   \n",
       "1  advice Talk to your neighbours family to excha...            Positive   \n",
       "2  Coronavirus Australia: Woolworths to give elde...            Positive   \n",
       "3  My food stock is not the only one which is emp...            Positive   \n",
       "4  Me, ready to go at supermarket during the #COV...  Extremely Negative   \n",
       "\n",
       "                                          tokens_raw  \n",
       "0  [@menyrbie, @phil_gahan, @chrisitv, https://t....  \n",
       "1  [advice, talk, neighbours, family, exchange, p...  \n",
       "2  [coronavirus, australia, woolworths, give, eld...  \n",
       "3  [food, stock, one, empty, ..., please, ,, pani...  \n",
       "4  [,, ready, go, supermarket, outbreak, i'm, par...  "
      ]
     },
     "execution_count": 10,
     "metadata": {},
     "output_type": "execute_result"
    }
   ],
   "source": [
    "import re\n",
    "from nltk.corpus import stopwords\n",
    "stop = set(stopwords.words('english'))\n",
    "removechars = set(['.','/','!','/','?',':',';'])\n",
    "train_data['tokens_raw'] = train_data['tokens_raw'].apply(lambda x: [w for w in x if w not in stop])\n",
    "train_data['tokens_raw'] = train_data['tokens_raw'].apply(lambda x: [w for w in x if w not in removechars])\n",
    "train_data['tokens_raw'] = train_data['tokens_raw'].apply(lambda x: [w for w in x if not re.match('^#', w)])\n",
    "train_data.head()"
   ]
  },
  {
   "cell_type": "code",
   "execution_count": 11,
   "id": "b402b35f",
   "metadata": {
    "execution": {
     "iopub.execute_input": "2022-11-29T18:39:33.761815Z",
     "iopub.status.busy": "2022-11-29T18:39:33.761403Z",
     "iopub.status.idle": "2022-11-29T18:39:33.922747Z",
     "shell.execute_reply": "2022-11-29T18:39:33.921447Z"
    },
    "papermill": {
     "duration": 0.174999,
     "end_time": "2022-11-29T18:39:33.925390",
     "exception": false,
     "start_time": "2022-11-29T18:39:33.750391",
     "status": "completed"
    },
    "tags": []
   },
   "outputs": [
    {
     "data": {
      "text/html": [
       "<div>\n",
       "<style scoped>\n",
       "    .dataframe tbody tr th:only-of-type {\n",
       "        vertical-align: middle;\n",
       "    }\n",
       "\n",
       "    .dataframe tbody tr th {\n",
       "        vertical-align: top;\n",
       "    }\n",
       "\n",
       "    .dataframe thead th {\n",
       "        text-align: right;\n",
       "    }\n",
       "</style>\n",
       "<table border=\"1\" class=\"dataframe\">\n",
       "  <thead>\n",
       "    <tr style=\"text-align: right;\">\n",
       "      <th></th>\n",
       "      <th>OriginalTweet</th>\n",
       "      <th>Sentiment</th>\n",
       "      <th>tokens_raw</th>\n",
       "    </tr>\n",
       "  </thead>\n",
       "  <tbody>\n",
       "    <tr>\n",
       "      <th>0</th>\n",
       "      <td>TRENDING: New Yorkers encounter empty supermar...</td>\n",
       "      <td>Extremely Negative</td>\n",
       "      <td>[trending, new, yorkers, encounter, empty, sup...</td>\n",
       "    </tr>\n",
       "    <tr>\n",
       "      <th>1</th>\n",
       "      <td>When I couldn't find hand sanitizer at Fred Me...</td>\n",
       "      <td>Positive</td>\n",
       "      <td>[find, hand, sanitizer, fred, meyer, ,, turned...</td>\n",
       "    </tr>\n",
       "    <tr>\n",
       "      <th>2</th>\n",
       "      <td>Find out how you can protect yourself and love...</td>\n",
       "      <td>Extremely Positive</td>\n",
       "      <td>[find, protect, loved, ones]</td>\n",
       "    </tr>\n",
       "    <tr>\n",
       "      <th>3</th>\n",
       "      <td>#Panic buying hits #NewYork City as anxious sh...</td>\n",
       "      <td>Negative</td>\n",
       "      <td>[buying, hits, city, anxious, shoppers, stock,...</td>\n",
       "    </tr>\n",
       "    <tr>\n",
       "      <th>4</th>\n",
       "      <td>#toiletpaper #dunnypaper #coronavirus #coronav...</td>\n",
       "      <td>Neutral</td>\n",
       "      <td>[one, week, everyone, buying, baby, milk, powd...</td>\n",
       "    </tr>\n",
       "  </tbody>\n",
       "</table>\n",
       "</div>"
      ],
      "text/plain": [
       "                                       OriginalTweet           Sentiment  \\\n",
       "0  TRENDING: New Yorkers encounter empty supermar...  Extremely Negative   \n",
       "1  When I couldn't find hand sanitizer at Fred Me...            Positive   \n",
       "2  Find out how you can protect yourself and love...  Extremely Positive   \n",
       "3  #Panic buying hits #NewYork City as anxious sh...            Negative   \n",
       "4  #toiletpaper #dunnypaper #coronavirus #coronav...             Neutral   \n",
       "\n",
       "                                          tokens_raw  \n",
       "0  [trending, new, yorkers, encounter, empty, sup...  \n",
       "1  [find, hand, sanitizer, fred, meyer, ,, turned...  \n",
       "2                       [find, protect, loved, ones]  \n",
       "3  [buying, hits, city, anxious, shoppers, stock,...  \n",
       "4  [one, week, everyone, buying, baby, milk, powd...  "
      ]
     },
     "execution_count": 11,
     "metadata": {},
     "output_type": "execute_result"
    }
   ],
   "source": [
    "test_data['tokens_raw'] = test_data['tokens_raw'].apply(lambda x: [w for w in x if w not in stop])\n",
    "test_data['tokens_raw'] = test_data['tokens_raw'].apply(lambda x: [w for w in x if w not in removechars])\n",
    "test_data['tokens_raw'] = test_data['tokens_raw'].apply(lambda x: [w for w in x if not re.match('^#', w)])\n",
    "test_data.head()"
   ]
  },
  {
   "cell_type": "markdown",
   "id": "cd3a1680",
   "metadata": {
    "papermill": {
     "duration": 0.009583,
     "end_time": "2022-11-29T18:39:33.945458",
     "exception": false,
     "start_time": "2022-11-29T18:39:33.935875",
     "status": "completed"
    },
    "tags": []
   },
   "source": [
    "Instead of having the same words in different forms have their own token value, we group all of those words together to be only one token value."
   ]
  },
  {
   "cell_type": "code",
   "execution_count": 12,
   "id": "37ba6641",
   "metadata": {
    "execution": {
     "iopub.execute_input": "2022-11-29T18:39:33.967781Z",
     "iopub.status.busy": "2022-11-29T18:39:33.966940Z",
     "iopub.status.idle": "2022-11-29T18:39:40.607954Z",
     "shell.execute_reply": "2022-11-29T18:39:40.606672Z"
    },
    "papermill": {
     "duration": 6.65493,
     "end_time": "2022-11-29T18:39:40.610454",
     "exception": false,
     "start_time": "2022-11-29T18:39:33.955524",
     "status": "completed"
    },
    "tags": []
   },
   "outputs": [
    {
     "name": "stderr",
     "output_type": "stream",
     "text": [
      "[nltk_data] Downloading package wordnet to /usr/share/nltk_data...\n",
      "[nltk_data]   Package wordnet is already up-to-date!\n",
      "[nltk_data] Downloading package omw-1.4 to /usr/share/nltk_data...\n"
     ]
    },
    {
     "data": {
      "text/html": [
       "<div>\n",
       "<style scoped>\n",
       "    .dataframe tbody tr th:only-of-type {\n",
       "        vertical-align: middle;\n",
       "    }\n",
       "\n",
       "    .dataframe tbody tr th {\n",
       "        vertical-align: top;\n",
       "    }\n",
       "\n",
       "    .dataframe thead th {\n",
       "        text-align: right;\n",
       "    }\n",
       "</style>\n",
       "<table border=\"1\" class=\"dataframe\">\n",
       "  <thead>\n",
       "    <tr style=\"text-align: right;\">\n",
       "      <th></th>\n",
       "      <th>OriginalTweet</th>\n",
       "      <th>Sentiment</th>\n",
       "      <th>tokens_raw</th>\n",
       "      <th>tokens</th>\n",
       "    </tr>\n",
       "  </thead>\n",
       "  <tbody>\n",
       "    <tr>\n",
       "      <th>0</th>\n",
       "      <td>@MeNyrbie @Phil_Gahan @Chrisitv https://t.co/i...</td>\n",
       "      <td>Neutral</td>\n",
       "      <td>[@menyrbie, @phil_gahan, @chrisitv, https://t....</td>\n",
       "      <td>[@menyrbie, @phil_gahan, @chrisitv, https://t....</td>\n",
       "    </tr>\n",
       "    <tr>\n",
       "      <th>1</th>\n",
       "      <td>advice Talk to your neighbours family to excha...</td>\n",
       "      <td>Positive</td>\n",
       "      <td>[advice, talk, neighbours, family, exchange, p...</td>\n",
       "      <td>[advice, talk, neighbour, family, exchange, ph...</td>\n",
       "    </tr>\n",
       "    <tr>\n",
       "      <th>2</th>\n",
       "      <td>Coronavirus Australia: Woolworths to give elde...</td>\n",
       "      <td>Positive</td>\n",
       "      <td>[coronavirus, australia, woolworths, give, eld...</td>\n",
       "      <td>[coronavirus, australia, woolworths, give, eld...</td>\n",
       "    </tr>\n",
       "    <tr>\n",
       "      <th>3</th>\n",
       "      <td>My food stock is not the only one which is emp...</td>\n",
       "      <td>Positive</td>\n",
       "      <td>[food, stock, one, empty, ..., please, ,, pani...</td>\n",
       "      <td>[food, stock, one, empty, ..., please, ,, pani...</td>\n",
       "    </tr>\n",
       "    <tr>\n",
       "      <th>4</th>\n",
       "      <td>Me, ready to go at supermarket during the #COV...</td>\n",
       "      <td>Extremely Negative</td>\n",
       "      <td>[,, ready, go, supermarket, outbreak, i'm, par...</td>\n",
       "      <td>[,, ready, go, supermarket, outbreak, i'm, par...</td>\n",
       "    </tr>\n",
       "  </tbody>\n",
       "</table>\n",
       "</div>"
      ],
      "text/plain": [
       "                                       OriginalTweet           Sentiment  \\\n",
       "0  @MeNyrbie @Phil_Gahan @Chrisitv https://t.co/i...             Neutral   \n",
       "1  advice Talk to your neighbours family to excha...            Positive   \n",
       "2  Coronavirus Australia: Woolworths to give elde...            Positive   \n",
       "3  My food stock is not the only one which is emp...            Positive   \n",
       "4  Me, ready to go at supermarket during the #COV...  Extremely Negative   \n",
       "\n",
       "                                          tokens_raw  \\\n",
       "0  [@menyrbie, @phil_gahan, @chrisitv, https://t....   \n",
       "1  [advice, talk, neighbours, family, exchange, p...   \n",
       "2  [coronavirus, australia, woolworths, give, eld...   \n",
       "3  [food, stock, one, empty, ..., please, ,, pani...   \n",
       "4  [,, ready, go, supermarket, outbreak, i'm, par...   \n",
       "\n",
       "                                              tokens  \n",
       "0  [@menyrbie, @phil_gahan, @chrisitv, https://t....  \n",
       "1  [advice, talk, neighbour, family, exchange, ph...  \n",
       "2  [coronavirus, australia, woolworths, give, eld...  \n",
       "3  [food, stock, one, empty, ..., please, ,, pani...  \n",
       "4  [,, ready, go, supermarket, outbreak, i'm, par...  "
      ]
     },
     "execution_count": 12,
     "metadata": {},
     "output_type": "execute_result"
    }
   ],
   "source": [
    "from nltk.stem import WordNetLemmatizer\n",
    "import nltk\n",
    "nltk.download('wordnet')\n",
    "nltk.download('omw-1.4')\n",
    "lemmatizer = WordNetLemmatizer()\n",
    "train_data['tokens'] = train_data['tokens_raw'].apply(lambda x: [lemmatizer.lemmatize(w, pos=\"v\") for w in x])\n",
    "train_data.head()"
   ]
  },
  {
   "cell_type": "code",
   "execution_count": 13,
   "id": "75d2707b",
   "metadata": {
    "execution": {
     "iopub.execute_input": "2022-11-29T18:39:40.632077Z",
     "iopub.status.busy": "2022-11-29T18:39:40.631692Z",
     "iopub.status.idle": "2022-11-29T18:39:41.059017Z",
     "shell.execute_reply": "2022-11-29T18:39:41.057985Z"
    },
    "papermill": {
     "duration": 0.440949,
     "end_time": "2022-11-29T18:39:41.061488",
     "exception": false,
     "start_time": "2022-11-29T18:39:40.620539",
     "status": "completed"
    },
    "tags": []
   },
   "outputs": [
    {
     "data": {
      "text/html": [
       "<div>\n",
       "<style scoped>\n",
       "    .dataframe tbody tr th:only-of-type {\n",
       "        vertical-align: middle;\n",
       "    }\n",
       "\n",
       "    .dataframe tbody tr th {\n",
       "        vertical-align: top;\n",
       "    }\n",
       "\n",
       "    .dataframe thead th {\n",
       "        text-align: right;\n",
       "    }\n",
       "</style>\n",
       "<table border=\"1\" class=\"dataframe\">\n",
       "  <thead>\n",
       "    <tr style=\"text-align: right;\">\n",
       "      <th></th>\n",
       "      <th>OriginalTweet</th>\n",
       "      <th>Sentiment</th>\n",
       "      <th>tokens_raw</th>\n",
       "      <th>tokens</th>\n",
       "    </tr>\n",
       "  </thead>\n",
       "  <tbody>\n",
       "    <tr>\n",
       "      <th>0</th>\n",
       "      <td>TRENDING: New Yorkers encounter empty supermar...</td>\n",
       "      <td>Extremely Negative</td>\n",
       "      <td>[trending, new, yorkers, encounter, empty, sup...</td>\n",
       "      <td>[trend, new, yorkers, encounter, empty, superm...</td>\n",
       "    </tr>\n",
       "    <tr>\n",
       "      <th>1</th>\n",
       "      <td>When I couldn't find hand sanitizer at Fred Me...</td>\n",
       "      <td>Positive</td>\n",
       "      <td>[find, hand, sanitizer, fred, meyer, ,, turned...</td>\n",
       "      <td>[find, hand, sanitizer, fred, meyer, ,, turn, ...</td>\n",
       "    </tr>\n",
       "    <tr>\n",
       "      <th>2</th>\n",
       "      <td>Find out how you can protect yourself and love...</td>\n",
       "      <td>Extremely Positive</td>\n",
       "      <td>[find, protect, loved, ones]</td>\n",
       "      <td>[find, protect, love, ones]</td>\n",
       "    </tr>\n",
       "    <tr>\n",
       "      <th>3</th>\n",
       "      <td>#Panic buying hits #NewYork City as anxious sh...</td>\n",
       "      <td>Negative</td>\n",
       "      <td>[buying, hits, city, anxious, shoppers, stock,...</td>\n",
       "      <td>[buy, hit, city, anxious, shoppers, stock, foo...</td>\n",
       "    </tr>\n",
       "    <tr>\n",
       "      <th>4</th>\n",
       "      <td>#toiletpaper #dunnypaper #coronavirus #coronav...</td>\n",
       "      <td>Neutral</td>\n",
       "      <td>[one, week, everyone, buying, baby, milk, powd...</td>\n",
       "      <td>[one, week, everyone, buy, baby, milk, powder,...</td>\n",
       "    </tr>\n",
       "  </tbody>\n",
       "</table>\n",
       "</div>"
      ],
      "text/plain": [
       "                                       OriginalTweet           Sentiment  \\\n",
       "0  TRENDING: New Yorkers encounter empty supermar...  Extremely Negative   \n",
       "1  When I couldn't find hand sanitizer at Fred Me...            Positive   \n",
       "2  Find out how you can protect yourself and love...  Extremely Positive   \n",
       "3  #Panic buying hits #NewYork City as anxious sh...            Negative   \n",
       "4  #toiletpaper #dunnypaper #coronavirus #coronav...             Neutral   \n",
       "\n",
       "                                          tokens_raw  \\\n",
       "0  [trending, new, yorkers, encounter, empty, sup...   \n",
       "1  [find, hand, sanitizer, fred, meyer, ,, turned...   \n",
       "2                       [find, protect, loved, ones]   \n",
       "3  [buying, hits, city, anxious, shoppers, stock,...   \n",
       "4  [one, week, everyone, buying, baby, milk, powd...   \n",
       "\n",
       "                                              tokens  \n",
       "0  [trend, new, yorkers, encounter, empty, superm...  \n",
       "1  [find, hand, sanitizer, fred, meyer, ,, turn, ...  \n",
       "2                        [find, protect, love, ones]  \n",
       "3  [buy, hit, city, anxious, shoppers, stock, foo...  \n",
       "4  [one, week, everyone, buy, baby, milk, powder,...  "
      ]
     },
     "execution_count": 13,
     "metadata": {},
     "output_type": "execute_result"
    }
   ],
   "source": [
    "test_data['tokens'] = test_data['tokens_raw'].apply(lambda x: [lemmatizer.lemmatize(w, pos=\"v\") for w in x])\n",
    "test_data.head()"
   ]
  },
  {
   "cell_type": "markdown",
   "id": "20c8404d",
   "metadata": {
    "papermill": {
     "duration": 0.010155,
     "end_time": "2022-11-29T18:39:41.082201",
     "exception": false,
     "start_time": "2022-11-29T18:39:41.072046",
     "status": "completed"
    },
    "tags": []
   },
   "source": [
    "Make a vocabulary for all the words that are in our training data set, and we keep track how much they appear all together, and how much they appear in each tweet that is positive, negative, extremely positive, extremely negative, and neutral."
   ]
  },
  {
   "cell_type": "code",
   "execution_count": 14,
   "id": "aa2c8784",
   "metadata": {
    "execution": {
     "iopub.execute_input": "2022-11-29T18:39:41.104926Z",
     "iopub.status.busy": "2022-11-29T18:39:41.104216Z",
     "iopub.status.idle": "2022-11-29T18:39:41.681934Z",
     "shell.execute_reply": "2022-11-29T18:39:41.680193Z"
    },
    "papermill": {
     "duration": 0.592516,
     "end_time": "2022-11-29T18:39:41.685002",
     "exception": false,
     "start_time": "2022-11-29T18:39:41.092486",
     "status": "completed"
    },
    "tags": []
   },
   "outputs": [
    {
     "name": "stdout",
     "output_type": "stream",
     "text": [
      "All tokens: 67595, Pos: 26716, Ex Pos: 18154, Neg: 23488, Ex Neg: 15277, Neu: 19492\n"
     ]
    }
   ],
   "source": [
    "train_pos = train_data[train_data['Sentiment'] == 'Positive']\n",
    "train_expos = train_data[train_data['Sentiment'] == 'Extremely Positive']\n",
    "train_neg = train_data[train_data['Sentiment'] == 'Negative']\n",
    "train_exneg = train_data[train_data['Sentiment'] == 'Extremely Negative']\n",
    "train_neu = train_data[train_data['Sentiment'] == 'Neutral']\n",
    "\n",
    "def vocab_list(tokens_column):\n",
    "    vocab = dict()\n",
    "    for tweet_tokens in tokens_column:\n",
    "        for token in tweet_tokens:\n",
    "            if token not in vocab:\n",
    "                vocab[token] = 1\n",
    "            else:\n",
    "                vocab[token] += 1\n",
    "    return vocab\n",
    "\n",
    "vocab_all = dict(sorted(vocab_list(train_data['tokens']).items(), key=lambda item: item[1], reverse=True))\n",
    "vocab_pos = dict(sorted(vocab_list(train_pos['tokens']).items(), key=lambda item: item[1], reverse=True))\n",
    "vocab_expos = dict(sorted(vocab_list(train_expos['tokens']).items(), key=lambda item: item[1], reverse=True))\n",
    "vocab_neg = dict(sorted(vocab_list(train_neg['tokens']).items(), key=lambda item: item[1], reverse=True))\n",
    "vocab_exneg = dict(sorted(vocab_list(train_exneg['tokens']).items(), key=lambda item: item[1], reverse=True))\n",
    "vocab_neu = dict(sorted(vocab_list(train_neu['tokens']).items(), key=lambda item: item[1], reverse=True))\n",
    "print(f\"All tokens: {len(vocab_all)}, Pos: {len(vocab_pos)}, Ex Pos: {len(vocab_expos)}, Neg: {len(vocab_neg)}, Ex Neg: {len(vocab_exneg)}, Neu: {len(vocab_neu)}\")"
   ]
  },
  {
   "cell_type": "code",
   "execution_count": 15,
   "id": "3a626c1d",
   "metadata": {
    "execution": {
     "iopub.execute_input": "2022-11-29T18:39:41.707832Z",
     "iopub.status.busy": "2022-11-29T18:39:41.707454Z",
     "iopub.status.idle": "2022-11-29T18:39:41.734885Z",
     "shell.execute_reply": "2022-11-29T18:39:41.733543Z"
    },
    "papermill": {
     "duration": 0.04171,
     "end_time": "2022-11-29T18:39:41.737319",
     "exception": false,
     "start_time": "2022-11-29T18:39:41.695609",
     "status": "completed"
    },
    "tags": []
   },
   "outputs": [
    {
     "data": {
      "text/plain": [
       "[(',', 28642),\n",
       " ('19', 12249),\n",
       " ('-', 11511),\n",
       " ('covid', 10607),\n",
       " ('price', 8957),\n",
       " ('store', 8161),\n",
       " ('\\x92', 7155),\n",
       " ('food', 6826),\n",
       " ('supermarket', 6686),\n",
       " ('grocery', 6087),\n",
       " ('people', 5528),\n",
       " ('go', 5332),\n",
       " ('shop', 4875),\n",
       " ('get', 4467),\n",
       " ('consumer', 4274),\n",
       " ('&', 3837),\n",
       " ('need', 3546),\n",
       " ('\"', 3404),\n",
       " ('buy', 3370),\n",
       " ('â', 3358)]"
      ]
     },
     "execution_count": 15,
     "metadata": {},
     "output_type": "execute_result"
    }
   ],
   "source": [
    "list(vocab_all.items())[:20]"
   ]
  },
  {
   "cell_type": "code",
   "execution_count": 16,
   "id": "51cf6bb8",
   "metadata": {
    "execution": {
     "iopub.execute_input": "2022-11-29T18:39:41.771043Z",
     "iopub.status.busy": "2022-11-29T18:39:41.769660Z",
     "iopub.status.idle": "2022-11-29T18:39:41.781554Z",
     "shell.execute_reply": "2022-11-29T18:39:41.780449Z"
    },
    "papermill": {
     "duration": 0.033595,
     "end_time": "2022-11-29T18:39:41.783944",
     "exception": false,
     "start_time": "2022-11-29T18:39:41.750349",
     "status": "completed"
    },
    "tags": []
   },
   "outputs": [],
   "source": [
    "top_n_to_remove = 1000\n",
    "for i, item in enumerate(vocab_all.items()):\n",
    "    if i == top_n_to_remove:\n",
    "        break\n",
    "    if item[0] in vocab_pos:\n",
    "        del vocab_pos[item[0]]\n",
    "    if item[0] in vocab_expos:\n",
    "        del vocab_expos[item[0]]\n",
    "    if item[0] in vocab_neg:\n",
    "        del vocab_neg[item[0]]\n",
    "    if item[0] in vocab_exneg:\n",
    "        del vocab_exneg[item[0]]\n",
    "    if item[0] in vocab_neu:\n",
    "        del vocab_neu[item[0]]"
   ]
  },
  {
   "cell_type": "code",
   "execution_count": 17,
   "id": "7ffd1674",
   "metadata": {
    "execution": {
     "iopub.execute_input": "2022-11-29T18:39:41.810354Z",
     "iopub.status.busy": "2022-11-29T18:39:41.809065Z",
     "iopub.status.idle": "2022-11-29T18:39:41.823884Z",
     "shell.execute_reply": "2022-11-29T18:39:41.822899Z"
    },
    "papermill": {
     "duration": 0.0354,
     "end_time": "2022-11-29T18:39:41.832028",
     "exception": false,
     "start_time": "2022-11-29T18:39:41.796628",
     "status": "completed"
    },
    "tags": []
   },
   "outputs": [
    {
     "data": {
      "text/plain": [
       "[('novel', 59),\n",
       " ('greater', 49),\n",
       " ('epidemic', 48),\n",
       " ('behaviors', 46),\n",
       " ('distribute', 45),\n",
       " ('fair', 44),\n",
       " ('surface', 44),\n",
       " ('significant', 43),\n",
       " ('page', 42),\n",
       " ('highlight', 41),\n",
       " ('approve', 41),\n",
       " ('industries', 41),\n",
       " ('hop', 41),\n",
       " ('traffic', 41),\n",
       " ('recently', 40),\n",
       " ('aware', 39),\n",
       " ('teachers', 39),\n",
       " ('husband', 39),\n",
       " ('dm', 39),\n",
       " ('sanitiser', 38)]"
      ]
     },
     "execution_count": 17,
     "metadata": {},
     "output_type": "execute_result"
    }
   ],
   "source": [
    "list(vocab_pos.items())[:20]"
   ]
  },
  {
   "cell_type": "code",
   "execution_count": 18,
   "id": "da273567",
   "metadata": {
    "execution": {
     "iopub.execute_input": "2022-11-29T18:39:41.857174Z",
     "iopub.status.busy": "2022-11-29T18:39:41.856770Z",
     "iopub.status.idle": "2022-11-29T18:39:41.868823Z",
     "shell.execute_reply": "2022-11-29T18:39:41.867736Z"
    },
    "papermill": {
     "duration": 0.026741,
     "end_time": "2022-11-29T18:39:41.871616",
     "exception": false,
     "start_time": "2022-11-29T18:39:41.844875",
     "status": "completed"
    },
    "tags": []
   },
   "outputs": [
    {
     "data": {
      "text/plain": [
       "[('grateful', 65),\n",
       " ('super', 59),\n",
       " ('win', 50),\n",
       " ('enjoy', 50),\n",
       " ('trust', 50),\n",
       " ('fun', 46),\n",
       " ('safely', 45),\n",
       " ('lol', 43),\n",
       " ('smart', 43),\n",
       " ('proud', 42),\n",
       " ('bless', 42),\n",
       " ('kindly', 41),\n",
       " ('truly', 41),\n",
       " ('rt', 40),\n",
       " ('professionals', 40),\n",
       " ('helpful', 40),\n",
       " ('solution', 39),\n",
       " ('smile', 39),\n",
       " ('greater', 38),\n",
       " ('commit', 38)]"
      ]
     },
     "execution_count": 18,
     "metadata": {},
     "output_type": "execute_result"
    }
   ],
   "source": [
    "list(vocab_expos.items())[:20]"
   ]
  },
  {
   "cell_type": "code",
   "execution_count": 19,
   "id": "446d36c1",
   "metadata": {
    "execution": {
     "iopub.execute_input": "2022-11-29T18:39:41.905095Z",
     "iopub.status.busy": "2022-11-29T18:39:41.904685Z",
     "iopub.status.idle": "2022-11-29T18:39:41.917532Z",
     "shell.execute_reply": "2022-11-29T18:39:41.916420Z"
    },
    "papermill": {
     "duration": 0.032878,
     "end_time": "2022-11-29T18:39:41.920364",
     "exception": false,
     "start_time": "2022-11-29T18:39:41.887486",
     "status": "completed"
    },
    "tags": []
   },
   "outputs": [
    {
     "data": {
      "text/plain": [
       "[('uncertainty', 53),\n",
       " ('damn', 50),\n",
       " ('export', 47),\n",
       " ('lowest', 46),\n",
       " ('file', 44),\n",
       " ('problems', 43),\n",
       " ('fell', 42),\n",
       " ('officials', 41),\n",
       " ('arabia', 40),\n",
       " ('complete', 39),\n",
       " ('strain', 38),\n",
       " ('threat', 38),\n",
       " ('inflation', 37),\n",
       " ('suspend', 37),\n",
       " ('barrel', 37),\n",
       " ('dairy', 37),\n",
       " ('hereâ', 36),\n",
       " ('chicken', 36),\n",
       " ('output', 36),\n",
       " ('largest', 36)]"
      ]
     },
     "execution_count": 19,
     "metadata": {},
     "output_type": "execute_result"
    }
   ],
   "source": [
    "list(vocab_neg.items())[:20]"
   ]
  },
  {
   "cell_type": "code",
   "execution_count": 20,
   "id": "642a07c8",
   "metadata": {
    "execution": {
     "iopub.execute_input": "2022-11-29T18:39:41.953075Z",
     "iopub.status.busy": "2022-11-29T18:39:41.950779Z",
     "iopub.status.idle": "2022-11-29T18:39:41.968188Z",
     "shell.execute_reply": "2022-11-29T18:39:41.967219Z"
    },
    "papermill": {
     "duration": 0.034974,
     "end_time": "2022-11-29T18:39:41.970982",
     "exception": false,
     "start_time": "2022-11-29T18:39:41.936008",
     "status": "completed"
    },
    "tags": []
   },
   "outputs": [
    {
     "data": {
      "text/plain": [
       "[('fraud', 68),\n",
       " ('greedy', 63),\n",
       " ('hell', 62),\n",
       " ('stupid', 60),\n",
       " ('attack', 59),\n",
       " ('steal', 59),\n",
       " ('disgust', 55),\n",
       " ('sad', 55),\n",
       " ('exploit', 50),\n",
       " ('destroy', 49),\n",
       " ('threat', 47),\n",
       " ('negative', 46),\n",
       " ('cry', 45),\n",
       " ('ass', 44),\n",
       " ('dead', 43),\n",
       " ('wtf', 43),\n",
       " ('lowest', 43),\n",
       " ('hunger', 43),\n",
       " ('chaos', 42),\n",
       " ('hurt', 42)]"
      ]
     },
     "execution_count": 20,
     "metadata": {},
     "output_type": "execute_result"
    }
   ],
   "source": [
    "list(vocab_exneg.items())[:20]"
   ]
  },
  {
   "cell_type": "code",
   "execution_count": 21,
   "id": "5541d1c6",
   "metadata": {
    "execution": {
     "iopub.execute_input": "2022-11-29T18:39:41.999003Z",
     "iopub.status.busy": "2022-11-29T18:39:41.998612Z",
     "iopub.status.idle": "2022-11-29T18:39:42.011783Z",
     "shell.execute_reply": "2022-11-29T18:39:42.010481Z"
    },
    "papermill": {
     "duration": 0.028378,
     "end_time": "2022-11-29T18:39:42.014405",
     "exception": false,
     "start_time": "2022-11-29T18:39:41.986027",
     "status": "completed"
    },
    "tags": []
   },
   "outputs": [
    {
     "data": {
      "text/plain": [
       "[('_', 54),\n",
       " ('property', 36),\n",
       " ('california', 32),\n",
       " ('@youtube', 30),\n",
       " ('ticket', 29),\n",
       " ('jump', 29),\n",
       " ('11', 28),\n",
       " ('©', 27),\n",
       " ('guidance', 27),\n",
       " ('reveal', 27),\n",
       " ('series', 26),\n",
       " ('arrive', 26),\n",
       " ('platform', 26),\n",
       " ('de', 26),\n",
       " ('¼', 26),\n",
       " ('locations', 25),\n",
       " ('mark', 25),\n",
       " ('boom', 25),\n",
       " ('mall', 25),\n",
       " ('friday', 24)]"
      ]
     },
     "execution_count": 21,
     "metadata": {},
     "output_type": "execute_result"
    }
   ],
   "source": [
    "list(vocab_neu.items())[:20]"
   ]
  },
  {
   "cell_type": "markdown",
   "id": "e3cfb001",
   "metadata": {
    "papermill": {
     "duration": 0.011143,
     "end_time": "2022-11-29T18:39:42.036932",
     "exception": false,
     "start_time": "2022-11-29T18:39:42.025789",
     "status": "completed"
    },
    "tags": []
   },
   "source": [
    "Change the from of the observation from tokens into a string so we can use the vectorizer function"
   ]
  },
  {
   "cell_type": "code",
   "execution_count": 22,
   "id": "68760e74",
   "metadata": {
    "execution": {
     "iopub.execute_input": "2022-11-29T18:39:42.061344Z",
     "iopub.status.busy": "2022-11-29T18:39:42.060941Z",
     "iopub.status.idle": "2022-11-29T18:39:42.133706Z",
     "shell.execute_reply": "2022-11-29T18:39:42.132852Z"
    },
    "papermill": {
     "duration": 0.088006,
     "end_time": "2022-11-29T18:39:42.136527",
     "exception": false,
     "start_time": "2022-11-29T18:39:42.048521",
     "status": "completed"
    },
    "tags": []
   },
   "outputs": [
    {
     "data": {
      "text/html": [
       "<div>\n",
       "<style scoped>\n",
       "    .dataframe tbody tr th:only-of-type {\n",
       "        vertical-align: middle;\n",
       "    }\n",
       "\n",
       "    .dataframe tbody tr th {\n",
       "        vertical-align: top;\n",
       "    }\n",
       "\n",
       "    .dataframe thead th {\n",
       "        text-align: right;\n",
       "    }\n",
       "</style>\n",
       "<table border=\"1\" class=\"dataframe\">\n",
       "  <thead>\n",
       "    <tr style=\"text-align: right;\">\n",
       "      <th></th>\n",
       "      <th>OriginalTweet</th>\n",
       "      <th>Sentiment</th>\n",
       "      <th>tokens_raw</th>\n",
       "      <th>tokens</th>\n",
       "      <th>textclean</th>\n",
       "    </tr>\n",
       "  </thead>\n",
       "  <tbody>\n",
       "    <tr>\n",
       "      <th>0</th>\n",
       "      <td>@MeNyrbie @Phil_Gahan @Chrisitv https://t.co/i...</td>\n",
       "      <td>Neutral</td>\n",
       "      <td>[@menyrbie, @phil_gahan, @chrisitv, https://t....</td>\n",
       "      <td>[@menyrbie, @phil_gahan, @chrisitv, https://t....</td>\n",
       "      <td>@menyrbie @phil_gahan @chrisitv https://t.co/i...</td>\n",
       "    </tr>\n",
       "    <tr>\n",
       "      <th>1</th>\n",
       "      <td>advice Talk to your neighbours family to excha...</td>\n",
       "      <td>Positive</td>\n",
       "      <td>[advice, talk, neighbours, family, exchange, p...</td>\n",
       "      <td>[advice, talk, neighbour, family, exchange, ph...</td>\n",
       "      <td>advice talk neighbour family exchange phone nu...</td>\n",
       "    </tr>\n",
       "    <tr>\n",
       "      <th>2</th>\n",
       "      <td>Coronavirus Australia: Woolworths to give elde...</td>\n",
       "      <td>Positive</td>\n",
       "      <td>[coronavirus, australia, woolworths, give, eld...</td>\n",
       "      <td>[coronavirus, australia, woolworths, give, eld...</td>\n",
       "      <td>coronavirus australia woolworths give elderly ...</td>\n",
       "    </tr>\n",
       "    <tr>\n",
       "      <th>3</th>\n",
       "      <td>My food stock is not the only one which is emp...</td>\n",
       "      <td>Positive</td>\n",
       "      <td>[food, stock, one, empty, ..., please, ,, pani...</td>\n",
       "      <td>[food, stock, one, empty, ..., please, ,, pani...</td>\n",
       "      <td>food stock one empty ... please , panic , enou...</td>\n",
       "    </tr>\n",
       "    <tr>\n",
       "      <th>4</th>\n",
       "      <td>Me, ready to go at supermarket during the #COV...</td>\n",
       "      <td>Extremely Negative</td>\n",
       "      <td>[,, ready, go, supermarket, outbreak, i'm, par...</td>\n",
       "      <td>[,, ready, go, supermarket, outbreak, i'm, par...</td>\n",
       "      <td>, ready go supermarket outbreak i'm paranoid ,...</td>\n",
       "    </tr>\n",
       "  </tbody>\n",
       "</table>\n",
       "</div>"
      ],
      "text/plain": [
       "                                       OriginalTweet           Sentiment  \\\n",
       "0  @MeNyrbie @Phil_Gahan @Chrisitv https://t.co/i...             Neutral   \n",
       "1  advice Talk to your neighbours family to excha...            Positive   \n",
       "2  Coronavirus Australia: Woolworths to give elde...            Positive   \n",
       "3  My food stock is not the only one which is emp...            Positive   \n",
       "4  Me, ready to go at supermarket during the #COV...  Extremely Negative   \n",
       "\n",
       "                                          tokens_raw  \\\n",
       "0  [@menyrbie, @phil_gahan, @chrisitv, https://t....   \n",
       "1  [advice, talk, neighbours, family, exchange, p...   \n",
       "2  [coronavirus, australia, woolworths, give, eld...   \n",
       "3  [food, stock, one, empty, ..., please, ,, pani...   \n",
       "4  [,, ready, go, supermarket, outbreak, i'm, par...   \n",
       "\n",
       "                                              tokens  \\\n",
       "0  [@menyrbie, @phil_gahan, @chrisitv, https://t....   \n",
       "1  [advice, talk, neighbour, family, exchange, ph...   \n",
       "2  [coronavirus, australia, woolworths, give, eld...   \n",
       "3  [food, stock, one, empty, ..., please, ,, pani...   \n",
       "4  [,, ready, go, supermarket, outbreak, i'm, par...   \n",
       "\n",
       "                                           textclean  \n",
       "0  @menyrbie @phil_gahan @chrisitv https://t.co/i...  \n",
       "1  advice talk neighbour family exchange phone nu...  \n",
       "2  coronavirus australia woolworths give elderly ...  \n",
       "3  food stock one empty ... please , panic , enou...  \n",
       "4  , ready go supermarket outbreak i'm paranoid ,...  "
      ]
     },
     "execution_count": 22,
     "metadata": {},
     "output_type": "execute_result"
    }
   ],
   "source": [
    "train_data['textclean'] = train_data['tokens'].apply(lambda x: ' '.join(x))\n",
    "train_data.head()"
   ]
  },
  {
   "cell_type": "code",
   "execution_count": 23,
   "id": "c5c6dda8",
   "metadata": {
    "execution": {
     "iopub.execute_input": "2022-11-29T18:39:42.165670Z",
     "iopub.status.busy": "2022-11-29T18:39:42.164527Z",
     "iopub.status.idle": "2022-11-29T18:39:47.451189Z",
     "shell.execute_reply": "2022-11-29T18:39:47.449399Z"
    },
    "papermill": {
     "duration": 5.305962,
     "end_time": "2022-11-29T18:39:47.454529",
     "exception": false,
     "start_time": "2022-11-29T18:39:42.148567",
     "status": "completed"
    },
    "tags": []
   },
   "outputs": [
    {
     "name": "stdout",
     "output_type": "stream",
     "text": [
      "X_train.shape = (41157, 64082)\n"
     ]
    }
   ],
   "source": [
    "from sklearn.feature_extraction.text import TfidfVectorizer\n",
    "tfidf_vectorizer = TfidfVectorizer()\n",
    "X_train = tfidf_vectorizer.fit_transform(train_data['textclean']).toarray()\n",
    "print(f\"X_train.shape = {X_train.shape}\")"
   ]
  },
  {
   "cell_type": "code",
   "execution_count": 24,
   "id": "a95f87ee",
   "metadata": {
    "execution": {
     "iopub.execute_input": "2022-11-29T18:39:47.480654Z",
     "iopub.status.busy": "2022-11-29T18:39:47.479468Z",
     "iopub.status.idle": "2022-11-29T18:39:47.487271Z",
     "shell.execute_reply": "2022-11-29T18:39:47.486378Z"
    },
    "papermill": {
     "duration": 0.022531,
     "end_time": "2022-11-29T18:39:47.489419",
     "exception": false,
     "start_time": "2022-11-29T18:39:47.466888",
     "status": "completed"
    },
    "tags": []
   },
   "outputs": [
    {
     "data": {
      "text/plain": [
       "array(['Neutral', 'Positive', 'Positive', 'Positive',\n",
       "       'Extremely Negative', 'Positive', 'Positive', 'Neutral',\n",
       "       'Positive', 'Negative'], dtype=object)"
      ]
     },
     "execution_count": 24,
     "metadata": {},
     "output_type": "execute_result"
    }
   ],
   "source": [
    "y_train = train_data.Sentiment.to_numpy()\n",
    "y_train[:10]"
   ]
  },
  {
   "cell_type": "code",
   "execution_count": 25,
   "id": "3f3013fa",
   "metadata": {
    "execution": {
     "iopub.execute_input": "2022-11-29T18:39:47.514546Z",
     "iopub.status.busy": "2022-11-29T18:39:47.513811Z",
     "iopub.status.idle": "2022-11-29T19:10:48.297308Z",
     "shell.execute_reply": "2022-11-29T19:10:48.296151Z"
    },
    "papermill": {
     "duration": 1860.798807,
     "end_time": "2022-11-29T19:10:48.299751",
     "exception": false,
     "start_time": "2022-11-29T18:39:47.500944",
     "status": "completed"
    },
    "tags": []
   },
   "outputs": [
    {
     "name": "stdout",
     "output_type": "stream",
     "text": [
      "accuracy: 1.0000\n"
     ]
    },
    {
     "data": {
      "image/png": "[encoded data removed]",
      "text/plain": [
       "<Figure size 432x288 with 2 Axes>"
      ]
     },
     "metadata": {
      "needs_background": "light"
     },
     "output_type": "display_data"
    }
   ],
   "source": [
    "from sklearn.ensemble import RandomForestClassifier\n",
    "from sklearn.metrics import confusion_matrix, ConfusionMatrixDisplay, accuracy_score\n",
    "model = RandomForestClassifier()\n",
    "model = model.fit(X_train, y_train)\n",
    "\n",
    "pred_train = model.predict(X_train)\n",
    "\n",
    "display = ConfusionMatrixDisplay(confusion_matrix(train_data['Sentiment'], pred_train))\n",
    "display.plot()\n",
    "print(f\"accuracy: {accuracy_score(train_data['Sentiment'],pred_train):.4f}\")"
   ]
  },
  {
   "cell_type": "code",
   "execution_count": 26,
   "id": "6feb1d5d",
   "metadata": {
    "execution": {
     "iopub.execute_input": "2022-11-29T19:10:48.326196Z",
     "iopub.status.busy": "2022-11-29T19:10:48.325785Z",
     "iopub.status.idle": "2022-11-29T19:10:48.741001Z",
     "shell.execute_reply": "2022-11-29T19:10:48.739934Z"
    },
    "papermill": {
     "duration": 0.431046,
     "end_time": "2022-11-29T19:10:48.743395",
     "exception": false,
     "start_time": "2022-11-29T19:10:48.312349",
     "status": "completed"
    },
    "tags": []
   },
   "outputs": [
    {
     "data": {
      "text/plain": [
       "(3798, 64082)"
      ]
     },
     "execution_count": 26,
     "metadata": {},
     "output_type": "execute_result"
    }
   ],
   "source": [
    "test_data['textclean'] = test_data['tokens'].apply(lambda x: ' '.join(x))\n",
    "X_test = tfidf_vectorizer.transform(test_data['textclean']).toarray()\n",
    "X_test.shape"
   ]
  },
  {
   "cell_type": "code",
   "execution_count": 27,
   "id": "53d2f786",
   "metadata": {
    "execution": {
     "iopub.execute_input": "2022-11-29T19:10:48.770404Z",
     "iopub.status.busy": "2022-11-29T19:10:48.769659Z",
     "iopub.status.idle": "2022-11-29T19:10:51.148069Z",
     "shell.execute_reply": "2022-11-29T19:10:51.146968Z"
    },
    "papermill": {
     "duration": 2.394692,
     "end_time": "2022-11-29T19:10:51.150443",
     "exception": false,
     "start_time": "2022-11-29T19:10:48.755751",
     "status": "completed"
    },
    "tags": []
   },
   "outputs": [
    {
     "name": "stdout",
     "output_type": "stream",
     "text": [
      "accuracy: 0.4803\n"
     ]
    },
    {
     "data": {
      "image/png": "[encoded data removed]",
      "text/plain": [
       "<Figure size 432x288 with 2 Axes>"
      ]
     },
     "metadata": {
      "needs_background": "light"
     },
     "output_type": "display_data"
    }
   ],
   "source": [
    "pred_test = model.predict(X_test)\n",
    "\n",
    "display = ConfusionMatrixDisplay(confusion_matrix(test_data['Sentiment'], pred_test))\n",
    "display.plot()\n",
    "print(f\"accuracy: {accuracy_score(test_data['Sentiment'],pred_test):.4f}\")"
   ]
  }
 ],
 "metadata": {
  "kernelspec": {
   "display_name": "Python 3",
   "language": "python",
   "name": "python3"
  },
  "language_info": {
   "codemirror_mode": {
    "name": "ipython",
    "version": 3
   },
   "file_extension": ".py",
   "mimetype": "text/x-python",
   "name": "python",
   "nbconvert_exporter": "python",
   "pygments_lexer": "ipython3",
   "version": "3.7.12"
  },
  "papermill": {
   "default_parameters": {},
   "duration": 1899.976829,
   "end_time": "2022-11-29T19:10:52.692575",
   "environment_variables": {},
   "exception": null,
   "input_path": "__notebook__.ipynb",
   "output_path": "__notebook__.ipynb",
   "parameters": {},
   "start_time": "2022-11-29T18:39:12.715746",
   "version": "2.3.4"
  }
 },
 "nbformat": 4,
 "nbformat_minor": 5
}
