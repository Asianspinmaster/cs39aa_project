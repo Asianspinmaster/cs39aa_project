{
 "cells": [
  {
   "cell_type": "markdown",
   "id": "d17b9462",
   "metadata": {
    "papermill": {
     "duration": 0.017123,
     "end_time": "2022-12-06T03:50:32.694795",
     "exception": false,
     "start_time": "2022-12-06T03:50:32.677672",
     "status": "completed"
    },
    "tags": []
   },
   "source": [
    "# CS 39aa Final Project Part 1"
   ]
  },
  {
   "cell_type": "markdown",
   "id": "ec398449",
   "metadata": {
    "papermill": {
     "duration": 0.014514,
     "end_time": "2022-12-06T03:50:32.722823",
     "exception": false,
     "start_time": "2022-12-06T03:50:32.708309",
     "status": "completed"
    },
    "tags": []
   },
   "source": [
    "## Introduction/Background\n",
    "_This project is based off a data set given by Kaggle \"Coronavirus tweets NLP - Text Classification.\" These tweets have been pulled from twitter and categorized accordingly such as the date, location, original tweet message, and sentiment. The data was given in two different sets of data. One data set as the training for training your data, and the other as the testing for testing and validating the data. This problem is a multi-class text classification problem meaning that the goal of this project is to project whether a certain tweet within the dataset is a \"positive\", \"negative\", \"extremely positive\", \"extremely negative\", or \"neutral\" tweet based on the words that were used within the tweet._\n"
   ]
  },
  {
   "cell_type": "markdown",
   "id": "0bf030f7",
   "metadata": {
    "papermill": {
     "duration": 0.012503,
     "end_time": "2022-12-06T03:50:32.748277",
     "exception": false,
     "start_time": "2022-12-06T03:50:32.735774",
     "status": "completed"
    },
    "tags": []
   },
   "source": [
    "## Exploratory Data Analysis\n"
   ]
  },
  {
   "cell_type": "code",
   "execution_count": 1,
   "id": "a8b98df0",
   "metadata": {
    "execution": {
     "iopub.execute_input": "2022-12-06T03:50:32.776787Z",
     "iopub.status.busy": "2022-12-06T03:50:32.776165Z",
     "iopub.status.idle": "2022-12-06T03:50:33.173845Z",
     "shell.execute_reply": "2022-12-06T03:50:33.171171Z"
    },
    "papermill": {
     "duration": 0.416003,
     "end_time": "2022-12-06T03:50:33.177184",
     "exception": false,
     "start_time": "2022-12-06T03:50:32.761181",
     "status": "completed"
    },
    "tags": []
   },
   "outputs": [
    {
     "data": {
      "text/html": [
       "<div>\n",
       "<style scoped>\n",
       "    .dataframe tbody tr th:only-of-type {\n",
       "        vertical-align: middle;\n",
       "    }\n",
       "\n",
       "    .dataframe tbody tr th {\n",
       "        vertical-align: top;\n",
       "    }\n",
       "\n",
       "    .dataframe thead th {\n",
       "        text-align: right;\n",
       "    }\n",
       "</style>\n",
       "<table border=\"1\" class=\"dataframe\">\n",
       "  <thead>\n",
       "    <tr style=\"text-align: right;\">\n",
       "      <th></th>\n",
       "      <th>UserName</th>\n",
       "      <th>ScreenName</th>\n",
       "      <th>Location</th>\n",
       "      <th>TweetAt</th>\n",
       "      <th>OriginalTweet</th>\n",
       "      <th>Sentiment</th>\n",
       "    </tr>\n",
       "  </thead>\n",
       "  <tbody>\n",
       "    <tr>\n",
       "      <th>0</th>\n",
       "      <td>1</td>\n",
       "      <td>44953</td>\n",
       "      <td>NYC</td>\n",
       "      <td>02-03-2020</td>\n",
       "      <td>TRENDING: New Yorkers encounter empty supermar...</td>\n",
       "      <td>Extremely Negative</td>\n",
       "    </tr>\n",
       "    <tr>\n",
       "      <th>1</th>\n",
       "      <td>2</td>\n",
       "      <td>44954</td>\n",
       "      <td>Seattle, WA</td>\n",
       "      <td>02-03-2020</td>\n",
       "      <td>When I couldn't find hand sanitizer at Fred Me...</td>\n",
       "      <td>Positive</td>\n",
       "    </tr>\n",
       "    <tr>\n",
       "      <th>2</th>\n",
       "      <td>3</td>\n",
       "      <td>44955</td>\n",
       "      <td>NaN</td>\n",
       "      <td>02-03-2020</td>\n",
       "      <td>Find out how you can protect yourself and love...</td>\n",
       "      <td>Extremely Positive</td>\n",
       "    </tr>\n",
       "    <tr>\n",
       "      <th>3</th>\n",
       "      <td>4</td>\n",
       "      <td>44956</td>\n",
       "      <td>Chicagoland</td>\n",
       "      <td>02-03-2020</td>\n",
       "      <td>#Panic buying hits #NewYork City as anxious sh...</td>\n",
       "      <td>Negative</td>\n",
       "    </tr>\n",
       "    <tr>\n",
       "      <th>4</th>\n",
       "      <td>5</td>\n",
       "      <td>44957</td>\n",
       "      <td>Melbourne, Victoria</td>\n",
       "      <td>03-03-2020</td>\n",
       "      <td>#toiletpaper #dunnypaper #coronavirus #coronav...</td>\n",
       "      <td>Neutral</td>\n",
       "    </tr>\n",
       "  </tbody>\n",
       "</table>\n",
       "</div>"
      ],
      "text/plain": [
       "   UserName  ScreenName             Location     TweetAt  \\\n",
       "0         1       44953                  NYC  02-03-2020   \n",
       "1         2       44954          Seattle, WA  02-03-2020   \n",
       "2         3       44955                  NaN  02-03-2020   \n",
       "3         4       44956          Chicagoland  02-03-2020   \n",
       "4         5       44957  Melbourne, Victoria  03-03-2020   \n",
       "\n",
       "                                       OriginalTweet           Sentiment  \n",
       "0  TRENDING: New Yorkers encounter empty supermar...  Extremely Negative  \n",
       "1  When I couldn't find hand sanitizer at Fred Me...            Positive  \n",
       "2  Find out how you can protect yourself and love...  Extremely Positive  \n",
       "3  #Panic buying hits #NewYork City as anxious sh...            Negative  \n",
       "4  #toiletpaper #dunnypaper #coronavirus #coronav...             Neutral  "
      ]
     },
     "execution_count": 1,
     "metadata": {},
     "output_type": "execute_result"
    }
   ],
   "source": [
    "import pandas as pd\n",
    "import numpy as np\n",
    "import matplotlib.pyplot as plt\n",
    "\n",
    "test_data = pd.read_csv('../input/covid-19-nlp-text-classification/Corona_NLP_test.csv')\n",
    "train_data = pd.read_csv('../input/covid-19-nlp-text-classification/Corona_NLP_train.csv', encoding= 'ISO-8859-1')\n",
    "test_data.head()"
   ]
  },
  {
   "cell_type": "code",
   "execution_count": 2,
   "id": "4ed2686c",
   "metadata": {
    "execution": {
     "iopub.execute_input": "2022-12-06T03:50:33.208215Z",
     "iopub.status.busy": "2022-12-06T03:50:33.207624Z",
     "iopub.status.idle": "2022-12-06T03:50:33.219434Z",
     "shell.execute_reply": "2022-12-06T03:50:33.218109Z"
    },
    "papermill": {
     "duration": 0.028754,
     "end_time": "2022-12-06T03:50:33.221765",
     "exception": false,
     "start_time": "2022-12-06T03:50:33.193011",
     "status": "completed"
    },
    "tags": []
   },
   "outputs": [
    {
     "data": {
      "text/html": [
       "<div>\n",
       "<style scoped>\n",
       "    .dataframe tbody tr th:only-of-type {\n",
       "        vertical-align: middle;\n",
       "    }\n",
       "\n",
       "    .dataframe tbody tr th {\n",
       "        vertical-align: top;\n",
       "    }\n",
       "\n",
       "    .dataframe thead th {\n",
       "        text-align: right;\n",
       "    }\n",
       "</style>\n",
       "<table border=\"1\" class=\"dataframe\">\n",
       "  <thead>\n",
       "    <tr style=\"text-align: right;\">\n",
       "      <th></th>\n",
       "      <th>UserName</th>\n",
       "      <th>ScreenName</th>\n",
       "      <th>Location</th>\n",
       "      <th>TweetAt</th>\n",
       "      <th>OriginalTweet</th>\n",
       "      <th>Sentiment</th>\n",
       "    </tr>\n",
       "  </thead>\n",
       "  <tbody>\n",
       "    <tr>\n",
       "      <th>0</th>\n",
       "      <td>3799</td>\n",
       "      <td>48751</td>\n",
       "      <td>London</td>\n",
       "      <td>16-03-2020</td>\n",
       "      <td>@MeNyrbie @Phil_Gahan @Chrisitv https://t.co/i...</td>\n",
       "      <td>Neutral</td>\n",
       "    </tr>\n",
       "    <tr>\n",
       "      <th>1</th>\n",
       "      <td>3800</td>\n",
       "      <td>48752</td>\n",
       "      <td>UK</td>\n",
       "      <td>16-03-2020</td>\n",
       "      <td>advice Talk to your neighbours family to excha...</td>\n",
       "      <td>Positive</td>\n",
       "    </tr>\n",
       "    <tr>\n",
       "      <th>2</th>\n",
       "      <td>3801</td>\n",
       "      <td>48753</td>\n",
       "      <td>Vagabonds</td>\n",
       "      <td>16-03-2020</td>\n",
       "      <td>Coronavirus Australia: Woolworths to give elde...</td>\n",
       "      <td>Positive</td>\n",
       "    </tr>\n",
       "    <tr>\n",
       "      <th>3</th>\n",
       "      <td>3802</td>\n",
       "      <td>48754</td>\n",
       "      <td>NaN</td>\n",
       "      <td>16-03-2020</td>\n",
       "      <td>My food stock is not the only one which is emp...</td>\n",
       "      <td>Positive</td>\n",
       "    </tr>\n",
       "    <tr>\n",
       "      <th>4</th>\n",
       "      <td>3803</td>\n",
       "      <td>48755</td>\n",
       "      <td>NaN</td>\n",
       "      <td>16-03-2020</td>\n",
       "      <td>Me, ready to go at supermarket during the #COV...</td>\n",
       "      <td>Extremely Negative</td>\n",
       "    </tr>\n",
       "  </tbody>\n",
       "</table>\n",
       "</div>"
      ],
      "text/plain": [
       "   UserName  ScreenName   Location     TweetAt  \\\n",
       "0      3799       48751     London  16-03-2020   \n",
       "1      3800       48752         UK  16-03-2020   \n",
       "2      3801       48753  Vagabonds  16-03-2020   \n",
       "3      3802       48754        NaN  16-03-2020   \n",
       "4      3803       48755        NaN  16-03-2020   \n",
       "\n",
       "                                       OriginalTweet           Sentiment  \n",
       "0  @MeNyrbie @Phil_Gahan @Chrisitv https://t.co/i...             Neutral  \n",
       "1  advice Talk to your neighbours family to excha...            Positive  \n",
       "2  Coronavirus Australia: Woolworths to give elde...            Positive  \n",
       "3  My food stock is not the only one which is emp...            Positive  \n",
       "4  Me, ready to go at supermarket during the #COV...  Extremely Negative  "
      ]
     },
     "execution_count": 2,
     "metadata": {},
     "output_type": "execute_result"
    }
   ],
   "source": [
    "train_data.head()"
   ]
  },
  {
   "cell_type": "markdown",
   "id": "5e6bc2a4",
   "metadata": {
    "papermill": {
     "duration": 0.013146,
     "end_time": "2022-12-06T03:50:33.248679",
     "exception": false,
     "start_time": "2022-12-06T03:50:33.235533",
     "status": "completed"
    },
    "tags": []
   },
   "source": [
    "Here we drop the username, screenname, location, and tweetat columns because they hold no value in trying to solve the sentiment of the tweet."
   ]
  },
  {
   "cell_type": "code",
   "execution_count": 3,
   "id": "ee4c8a64",
   "metadata": {
    "execution": {
     "iopub.execute_input": "2022-12-06T03:50:33.277728Z",
     "iopub.status.busy": "2022-12-06T03:50:33.276478Z",
     "iopub.status.idle": "2022-12-06T03:50:33.289968Z",
     "shell.execute_reply": "2022-12-06T03:50:33.288995Z"
    },
    "papermill": {
     "duration": 0.03041,
     "end_time": "2022-12-06T03:50:33.292364",
     "exception": false,
     "start_time": "2022-12-06T03:50:33.261954",
     "status": "completed"
    },
    "tags": []
   },
   "outputs": [],
   "source": [
    "train_data.drop(columns = ['UserName','ScreenName','Location','TweetAt'], inplace=True)\n",
    "test_data.drop(columns = ['UserName','ScreenName','Location','TweetAt'], inplace=True)"
   ]
  },
  {
   "cell_type": "code",
   "execution_count": 4,
   "id": "aa54f024",
   "metadata": {
    "execution": {
     "iopub.execute_input": "2022-12-06T03:50:33.322948Z",
     "iopub.status.busy": "2022-12-06T03:50:33.322314Z",
     "iopub.status.idle": "2022-12-06T03:50:33.332176Z",
     "shell.execute_reply": "2022-12-06T03:50:33.331061Z"
    },
    "papermill": {
     "duration": 0.027314,
     "end_time": "2022-12-06T03:50:33.334417",
     "exception": false,
     "start_time": "2022-12-06T03:50:33.307103",
     "status": "completed"
    },
    "tags": []
   },
   "outputs": [
    {
     "data": {
      "text/html": [
       "<div>\n",
       "<style scoped>\n",
       "    .dataframe tbody tr th:only-of-type {\n",
       "        vertical-align: middle;\n",
       "    }\n",
       "\n",
       "    .dataframe tbody tr th {\n",
       "        vertical-align: top;\n",
       "    }\n",
       "\n",
       "    .dataframe thead th {\n",
       "        text-align: right;\n",
       "    }\n",
       "</style>\n",
       "<table border=\"1\" class=\"dataframe\">\n",
       "  <thead>\n",
       "    <tr style=\"text-align: right;\">\n",
       "      <th></th>\n",
       "      <th>OriginalTweet</th>\n",
       "      <th>Sentiment</th>\n",
       "    </tr>\n",
       "  </thead>\n",
       "  <tbody>\n",
       "    <tr>\n",
       "      <th>0</th>\n",
       "      <td>@MeNyrbie @Phil_Gahan @Chrisitv https://t.co/i...</td>\n",
       "      <td>Neutral</td>\n",
       "    </tr>\n",
       "    <tr>\n",
       "      <th>1</th>\n",
       "      <td>advice Talk to your neighbours family to excha...</td>\n",
       "      <td>Positive</td>\n",
       "    </tr>\n",
       "    <tr>\n",
       "      <th>2</th>\n",
       "      <td>Coronavirus Australia: Woolworths to give elde...</td>\n",
       "      <td>Positive</td>\n",
       "    </tr>\n",
       "    <tr>\n",
       "      <th>3</th>\n",
       "      <td>My food stock is not the only one which is emp...</td>\n",
       "      <td>Positive</td>\n",
       "    </tr>\n",
       "    <tr>\n",
       "      <th>4</th>\n",
       "      <td>Me, ready to go at supermarket during the #COV...</td>\n",
       "      <td>Extremely Negative</td>\n",
       "    </tr>\n",
       "  </tbody>\n",
       "</table>\n",
       "</div>"
      ],
      "text/plain": [
       "                                       OriginalTweet           Sentiment\n",
       "0  @MeNyrbie @Phil_Gahan @Chrisitv https://t.co/i...             Neutral\n",
       "1  advice Talk to your neighbours family to excha...            Positive\n",
       "2  Coronavirus Australia: Woolworths to give elde...            Positive\n",
       "3  My food stock is not the only one which is emp...            Positive\n",
       "4  Me, ready to go at supermarket during the #COV...  Extremely Negative"
      ]
     },
     "execution_count": 4,
     "metadata": {},
     "output_type": "execute_result"
    }
   ],
   "source": [
    "train_data.head()"
   ]
  },
  {
   "cell_type": "markdown",
   "id": "cf324201",
   "metadata": {
    "papermill": {
     "duration": 0.013475,
     "end_time": "2022-12-06T03:50:33.361592",
     "exception": false,
     "start_time": "2022-12-06T03:50:33.348117",
     "status": "completed"
    },
    "tags": []
   },
   "source": [
    "We find the sentiment precentage of the training and testing data sets"
   ]
  },
  {
   "cell_type": "code",
   "execution_count": 5,
   "id": "722209bc",
   "metadata": {
    "execution": {
     "iopub.execute_input": "2022-12-06T03:50:33.390825Z",
     "iopub.status.busy": "2022-12-06T03:50:33.390388Z",
     "iopub.status.idle": "2022-12-06T03:50:33.403136Z",
     "shell.execute_reply": "2022-12-06T03:50:33.402037Z"
    },
    "papermill": {
     "duration": 0.029803,
     "end_time": "2022-12-06T03:50:33.405231",
     "exception": false,
     "start_time": "2022-12-06T03:50:33.375428",
     "status": "completed"
    },
    "tags": []
   },
   "outputs": [
    {
     "data": {
      "text/plain": [
       "Negative              0.274092\n",
       "Positive              0.249342\n",
       "Neutral               0.162981\n",
       "Extremely Positive    0.157715\n",
       "Extremely Negative    0.155872\n",
       "Name: Sentiment, dtype: float64"
      ]
     },
     "execution_count": 5,
     "metadata": {},
     "output_type": "execute_result"
    }
   ],
   "source": [
    "test_data.Sentiment.value_counts(normalize = True)"
   ]
  },
  {
   "cell_type": "code",
   "execution_count": 6,
   "id": "7c7cfd3f",
   "metadata": {
    "execution": {
     "iopub.execute_input": "2022-12-06T03:50:33.434557Z",
     "iopub.status.busy": "2022-12-06T03:50:33.434131Z",
     "iopub.status.idle": "2022-12-06T03:50:33.445759Z",
     "shell.execute_reply": "2022-12-06T03:50:33.444615Z"
    },
    "papermill": {
     "duration": 0.029042,
     "end_time": "2022-12-06T03:50:33.448016",
     "exception": false,
     "start_time": "2022-12-06T03:50:33.418974",
     "status": "completed"
    },
    "tags": []
   },
   "outputs": [
    {
     "data": {
      "text/plain": [
       "Positive              0.277523\n",
       "Negative              0.240955\n",
       "Neutral               0.187404\n",
       "Extremely Positive    0.160945\n",
       "Extremely Negative    0.133173\n",
       "Name: Sentiment, dtype: float64"
      ]
     },
     "execution_count": 6,
     "metadata": {},
     "output_type": "execute_result"
    }
   ],
   "source": [
    "train_data.Sentiment.value_counts(normalize = True)"
   ]
  },
  {
   "cell_type": "code",
   "execution_count": 7,
   "id": "510bf94b",
   "metadata": {
    "execution": {
     "iopub.execute_input": "2022-12-06T03:50:33.477137Z",
     "iopub.status.busy": "2022-12-06T03:50:33.476748Z",
     "iopub.status.idle": "2022-12-06T03:50:33.484164Z",
     "shell.execute_reply": "2022-12-06T03:50:33.483036Z"
    },
    "papermill": {
     "duration": 0.0246,
     "end_time": "2022-12-06T03:50:33.486422",
     "exception": false,
     "start_time": "2022-12-06T03:50:33.461822",
     "status": "completed"
    },
    "tags": []
   },
   "outputs": [
    {
     "data": {
      "text/plain": [
       "(41157, 2)"
      ]
     },
     "execution_count": 7,
     "metadata": {},
     "output_type": "execute_result"
    }
   ],
   "source": [
    "train_data.shape"
   ]
  },
  {
   "cell_type": "code",
   "execution_count": 8,
   "id": "a567e6e9",
   "metadata": {
    "execution": {
     "iopub.execute_input": "2022-12-06T03:50:33.516225Z",
     "iopub.status.busy": "2022-12-06T03:50:33.515479Z",
     "iopub.status.idle": "2022-12-06T03:50:33.522304Z",
     "shell.execute_reply": "2022-12-06T03:50:33.521041Z"
    },
    "papermill": {
     "duration": 0.02403,
     "end_time": "2022-12-06T03:50:33.524395",
     "exception": false,
     "start_time": "2022-12-06T03:50:33.500365",
     "status": "completed"
    },
    "tags": []
   },
   "outputs": [
    {
     "data": {
      "text/plain": [
       "(3798, 2)"
      ]
     },
     "execution_count": 8,
     "metadata": {},
     "output_type": "execute_result"
    }
   ],
   "source": [
    "test_data.shape"
   ]
  },
  {
   "cell_type": "code",
   "execution_count": 9,
   "id": "538872ab",
   "metadata": {
    "execution": {
     "iopub.execute_input": "2022-12-06T03:50:33.554233Z",
     "iopub.status.busy": "2022-12-06T03:50:33.553469Z",
     "iopub.status.idle": "2022-12-06T03:50:33.807403Z",
     "shell.execute_reply": "2022-12-06T03:50:33.806369Z"
    },
    "papermill": {
     "duration": 0.271619,
     "end_time": "2022-12-06T03:50:33.810003",
     "exception": false,
     "start_time": "2022-12-06T03:50:33.538384",
     "status": "completed"
    },
    "tags": []
   },
   "outputs": [
    {
     "data": {
      "text/plain": [
       "Text(0, 0.5, 'Number of Tweets')"
      ]
     },
     "execution_count": 9,
     "metadata": {},
     "output_type": "execute_result"
    },
    {
     "data": {
      "image/png": "[encoded data removed]",
      "text/plain": [
       "<Figure size 432x288 with 1 Axes>"
      ]
     },
     "metadata": {
      "needs_background": "light"
     },
     "output_type": "display_data"
    }
   ],
   "source": [
    "train_data['OriginalTweet'].str.len().hist()\n",
    "plt.xlabel(\"Number of Characters\")\n",
    "plt.ylabel(\"Number of Tweets\")"
   ]
  },
  {
   "cell_type": "code",
   "execution_count": 10,
   "id": "2f05411c",
   "metadata": {
    "execution": {
     "iopub.execute_input": "2022-12-06T03:50:33.840365Z",
     "iopub.status.busy": "2022-12-06T03:50:33.839955Z",
     "iopub.status.idle": "2022-12-06T03:50:34.380874Z",
     "shell.execute_reply": "2022-12-06T03:50:34.379689Z"
    },
    "papermill": {
     "duration": 0.558878,
     "end_time": "2022-12-06T03:50:34.383397",
     "exception": false,
     "start_time": "2022-12-06T03:50:33.824519",
     "status": "completed"
    },
    "tags": []
   },
   "outputs": [
    {
     "data": {
      "text/plain": [
       "Text(0, 0.5, 'Number of Tweets')"
      ]
     },
     "execution_count": 10,
     "metadata": {},
     "output_type": "execute_result"
    },
    {
     "data": {
      "image/png": "[encoded data removed]",
      "text/plain": [
       "<Figure size 432x288 with 1 Axes>"
      ]
     },
     "metadata": {
      "needs_background": "light"
     },
     "output_type": "display_data"
    }
   ],
   "source": [
    "train_data['OriginalTweet'].str.split().map(lambda x: len(x)).hist()\n",
    "plt.xlabel(\"Number of Words\")\n",
    "plt.ylabel(\"Number of Tweets\")"
   ]
  },
  {
   "cell_type": "markdown",
   "id": "cc19198e",
   "metadata": {
    "papermill": {
     "duration": 0.019463,
     "end_time": "2022-12-06T03:50:34.421040",
     "exception": false,
     "start_time": "2022-12-06T03:50:34.401577",
     "status": "completed"
    },
    "tags": []
   },
   "source": [
    "We tokenize each word of the tweet adding it as a new column to the dataset"
   ]
  },
  {
   "cell_type": "code",
   "execution_count": 11,
   "id": "1eb005b6",
   "metadata": {
    "execution": {
     "iopub.execute_input": "2022-12-06T03:50:34.462383Z",
     "iopub.status.busy": "2022-12-06T03:50:34.461975Z",
     "iopub.status.idle": "2022-12-06T03:50:43.343855Z",
     "shell.execute_reply": "2022-12-06T03:50:43.342672Z"
    },
    "papermill": {
     "duration": 8.905149,
     "end_time": "2022-12-06T03:50:43.346364",
     "exception": false,
     "start_time": "2022-12-06T03:50:34.441215",
     "status": "completed"
    },
    "tags": []
   },
   "outputs": [
    {
     "data": {
      "text/html": [
       "<div>\n",
       "<style scoped>\n",
       "    .dataframe tbody tr th:only-of-type {\n",
       "        vertical-align: middle;\n",
       "    }\n",
       "\n",
       "    .dataframe tbody tr th {\n",
       "        vertical-align: top;\n",
       "    }\n",
       "\n",
       "    .dataframe thead th {\n",
       "        text-align: right;\n",
       "    }\n",
       "</style>\n",
       "<table border=\"1\" class=\"dataframe\">\n",
       "  <thead>\n",
       "    <tr style=\"text-align: right;\">\n",
       "      <th></th>\n",
       "      <th>OriginalTweet</th>\n",
       "      <th>Sentiment</th>\n",
       "      <th>tokens_raw</th>\n",
       "    </tr>\n",
       "  </thead>\n",
       "  <tbody>\n",
       "    <tr>\n",
       "      <th>0</th>\n",
       "      <td>@MeNyrbie @Phil_Gahan @Chrisitv https://t.co/i...</td>\n",
       "      <td>Neutral</td>\n",
       "      <td>[@menyrbie, @phil_gahan, @chrisitv, https://t....</td>\n",
       "    </tr>\n",
       "    <tr>\n",
       "      <th>1</th>\n",
       "      <td>advice Talk to your neighbours family to excha...</td>\n",
       "      <td>Positive</td>\n",
       "      <td>[advice, talk, to, your, neighbours, family, t...</td>\n",
       "    </tr>\n",
       "    <tr>\n",
       "      <th>2</th>\n",
       "      <td>Coronavirus Australia: Woolworths to give elde...</td>\n",
       "      <td>Positive</td>\n",
       "      <td>[coronavirus, australia, :, woolworths, to, gi...</td>\n",
       "    </tr>\n",
       "    <tr>\n",
       "      <th>3</th>\n",
       "      <td>My food stock is not the only one which is emp...</td>\n",
       "      <td>Positive</td>\n",
       "      <td>[my, food, stock, is, not, the, only, one, whi...</td>\n",
       "    </tr>\n",
       "    <tr>\n",
       "      <th>4</th>\n",
       "      <td>Me, ready to go at supermarket during the #COV...</td>\n",
       "      <td>Extremely Negative</td>\n",
       "      <td>[me, ,, ready, to, go, at, supermarket, during...</td>\n",
       "    </tr>\n",
       "  </tbody>\n",
       "</table>\n",
       "</div>"
      ],
      "text/plain": [
       "                                       OriginalTweet           Sentiment  \\\n",
       "0  @MeNyrbie @Phil_Gahan @Chrisitv https://t.co/i...             Neutral   \n",
       "1  advice Talk to your neighbours family to excha...            Positive   \n",
       "2  Coronavirus Australia: Woolworths to give elde...            Positive   \n",
       "3  My food stock is not the only one which is emp...            Positive   \n",
       "4  Me, ready to go at supermarket during the #COV...  Extremely Negative   \n",
       "\n",
       "                                          tokens_raw  \n",
       "0  [@menyrbie, @phil_gahan, @chrisitv, https://t....  \n",
       "1  [advice, talk, to, your, neighbours, family, t...  \n",
       "2  [coronavirus, australia, :, woolworths, to, gi...  \n",
       "3  [my, food, stock, is, not, the, only, one, whi...  \n",
       "4  [me, ,, ready, to, go, at, supermarket, during...  "
      ]
     },
     "execution_count": 11,
     "metadata": {},
     "output_type": "execute_result"
    }
   ],
   "source": [
    "from nltk.tokenize import TweetTokenizer\n",
    "tk = TweetTokenizer()\n",
    "train_data['tokens_raw'] = train_data['OriginalTweet'].apply(lambda x: tk.tokenize(x.lower()))\n",
    "train_data.head()"
   ]
  },
  {
   "cell_type": "code",
   "execution_count": 12,
   "id": "17ed8ba6",
   "metadata": {
    "execution": {
     "iopub.execute_input": "2022-12-06T03:50:43.378402Z",
     "iopub.status.busy": "2022-12-06T03:50:43.377999Z",
     "iopub.status.idle": "2022-12-06T03:50:44.114897Z",
     "shell.execute_reply": "2022-12-06T03:50:44.113845Z"
    },
    "papermill": {
     "duration": 0.75568,
     "end_time": "2022-12-06T03:50:44.117432",
     "exception": false,
     "start_time": "2022-12-06T03:50:43.361752",
     "status": "completed"
    },
    "tags": []
   },
   "outputs": [
    {
     "data": {
      "text/html": [
       "<div>\n",
       "<style scoped>\n",
       "    .dataframe tbody tr th:only-of-type {\n",
       "        vertical-align: middle;\n",
       "    }\n",
       "\n",
       "    .dataframe tbody tr th {\n",
       "        vertical-align: top;\n",
       "    }\n",
       "\n",
       "    .dataframe thead th {\n",
       "        text-align: right;\n",
       "    }\n",
       "</style>\n",
       "<table border=\"1\" class=\"dataframe\">\n",
       "  <thead>\n",
       "    <tr style=\"text-align: right;\">\n",
       "      <th></th>\n",
       "      <th>OriginalTweet</th>\n",
       "      <th>Sentiment</th>\n",
       "      <th>tokens_raw</th>\n",
       "    </tr>\n",
       "  </thead>\n",
       "  <tbody>\n",
       "    <tr>\n",
       "      <th>0</th>\n",
       "      <td>TRENDING: New Yorkers encounter empty supermar...</td>\n",
       "      <td>Extremely Negative</td>\n",
       "      <td>[trending, :, new, yorkers, encounter, empty, ...</td>\n",
       "    </tr>\n",
       "    <tr>\n",
       "      <th>1</th>\n",
       "      <td>When I couldn't find hand sanitizer at Fred Me...</td>\n",
       "      <td>Positive</td>\n",
       "      <td>[when, i, couldn't, find, hand, sanitizer, at,...</td>\n",
       "    </tr>\n",
       "    <tr>\n",
       "      <th>2</th>\n",
       "      <td>Find out how you can protect yourself and love...</td>\n",
       "      <td>Extremely Positive</td>\n",
       "      <td>[find, out, how, you, can, protect, yourself, ...</td>\n",
       "    </tr>\n",
       "    <tr>\n",
       "      <th>3</th>\n",
       "      <td>#Panic buying hits #NewYork City as anxious sh...</td>\n",
       "      <td>Negative</td>\n",
       "      <td>[#panic, buying, hits, #newyork, city, as, anx...</td>\n",
       "    </tr>\n",
       "    <tr>\n",
       "      <th>4</th>\n",
       "      <td>#toiletpaper #dunnypaper #coronavirus #coronav...</td>\n",
       "      <td>Neutral</td>\n",
       "      <td>[#toiletpaper, #dunnypaper, #coronavirus, #cor...</td>\n",
       "    </tr>\n",
       "  </tbody>\n",
       "</table>\n",
       "</div>"
      ],
      "text/plain": [
       "                                       OriginalTweet           Sentiment  \\\n",
       "0  TRENDING: New Yorkers encounter empty supermar...  Extremely Negative   \n",
       "1  When I couldn't find hand sanitizer at Fred Me...            Positive   \n",
       "2  Find out how you can protect yourself and love...  Extremely Positive   \n",
       "3  #Panic buying hits #NewYork City as anxious sh...            Negative   \n",
       "4  #toiletpaper #dunnypaper #coronavirus #coronav...             Neutral   \n",
       "\n",
       "                                          tokens_raw  \n",
       "0  [trending, :, new, yorkers, encounter, empty, ...  \n",
       "1  [when, i, couldn't, find, hand, sanitizer, at,...  \n",
       "2  [find, out, how, you, can, protect, yourself, ...  \n",
       "3  [#panic, buying, hits, #newyork, city, as, anx...  \n",
       "4  [#toiletpaper, #dunnypaper, #coronavirus, #cor...  "
      ]
     },
     "execution_count": 12,
     "metadata": {},
     "output_type": "execute_result"
    }
   ],
   "source": [
    "test_data['tokens_raw'] = test_data['OriginalTweet'].apply(lambda x: tk.tokenize(x.lower()))\n",
    "test_data.head()"
   ]
  },
  {
   "cell_type": "markdown",
   "id": "d4503307",
   "metadata": {
    "papermill": {
     "duration": 0.014745,
     "end_time": "2022-12-06T03:50:44.147339",
     "exception": false,
     "start_time": "2022-12-06T03:50:44.132594",
     "status": "completed"
    },
    "tags": []
   },
   "source": [
    "This takes out any unnecessary token words that we don't want in our dataset such as \"the\", \"to\", \"I\", or any punctuation "
   ]
  },
  {
   "cell_type": "code",
   "execution_count": 13,
   "id": "cc453357",
   "metadata": {
    "execution": {
     "iopub.execute_input": "2022-12-06T03:50:44.180221Z",
     "iopub.status.busy": "2022-12-06T03:50:44.179276Z",
     "iopub.status.idle": "2022-12-06T03:50:46.785802Z",
     "shell.execute_reply": "2022-12-06T03:50:46.784692Z"
    },
    "papermill": {
     "duration": 2.625879,
     "end_time": "2022-12-06T03:50:46.788411",
     "exception": false,
     "start_time": "2022-12-06T03:50:44.162532",
     "status": "completed"
    },
    "tags": []
   },
   "outputs": [
    {
     "data": {
      "text/html": [
       "<div>\n",
       "<style scoped>\n",
       "    .dataframe tbody tr th:only-of-type {\n",
       "        vertical-align: middle;\n",
       "    }\n",
       "\n",
       "    .dataframe tbody tr th {\n",
       "        vertical-align: top;\n",
       "    }\n",
       "\n",
       "    .dataframe thead th {\n",
       "        text-align: right;\n",
       "    }\n",
       "</style>\n",
       "<table border=\"1\" class=\"dataframe\">\n",
       "  <thead>\n",
       "    <tr style=\"text-align: right;\">\n",
       "      <th></th>\n",
       "      <th>OriginalTweet</th>\n",
       "      <th>Sentiment</th>\n",
       "      <th>tokens_raw</th>\n",
       "    </tr>\n",
       "  </thead>\n",
       "  <tbody>\n",
       "    <tr>\n",
       "      <th>0</th>\n",
       "      <td>@MeNyrbie @Phil_Gahan @Chrisitv https://t.co/i...</td>\n",
       "      <td>Neutral</td>\n",
       "      <td>[@menyrbie, @phil_gahan, @chrisitv]</td>\n",
       "    </tr>\n",
       "    <tr>\n",
       "      <th>1</th>\n",
       "      <td>advice Talk to your neighbours family to excha...</td>\n",
       "      <td>Positive</td>\n",
       "      <td>[advice, talk, neighbours, family, exchange, p...</td>\n",
       "    </tr>\n",
       "    <tr>\n",
       "      <th>2</th>\n",
       "      <td>Coronavirus Australia: Woolworths to give elde...</td>\n",
       "      <td>Positive</td>\n",
       "      <td>[coronavirus, australia, woolworths, give, eld...</td>\n",
       "    </tr>\n",
       "    <tr>\n",
       "      <th>3</th>\n",
       "      <td>My food stock is not the only one which is emp...</td>\n",
       "      <td>Positive</td>\n",
       "      <td>[food, stock, one, empty, ..., please, ,, pani...</td>\n",
       "    </tr>\n",
       "    <tr>\n",
       "      <th>4</th>\n",
       "      <td>Me, ready to go at supermarket during the #COV...</td>\n",
       "      <td>Extremely Negative</td>\n",
       "      <td>[,, ready, go, supermarket, outbreak, i'm, par...</td>\n",
       "    </tr>\n",
       "  </tbody>\n",
       "</table>\n",
       "</div>"
      ],
      "text/plain": [
       "                                       OriginalTweet           Sentiment  \\\n",
       "0  @MeNyrbie @Phil_Gahan @Chrisitv https://t.co/i...             Neutral   \n",
       "1  advice Talk to your neighbours family to excha...            Positive   \n",
       "2  Coronavirus Australia: Woolworths to give elde...            Positive   \n",
       "3  My food stock is not the only one which is emp...            Positive   \n",
       "4  Me, ready to go at supermarket during the #COV...  Extremely Negative   \n",
       "\n",
       "                                          tokens_raw  \n",
       "0                [@menyrbie, @phil_gahan, @chrisitv]  \n",
       "1  [advice, talk, neighbours, family, exchange, p...  \n",
       "2  [coronavirus, australia, woolworths, give, eld...  \n",
       "3  [food, stock, one, empty, ..., please, ,, pani...  \n",
       "4  [,, ready, go, supermarket, outbreak, i'm, par...  "
      ]
     },
     "execution_count": 13,
     "metadata": {},
     "output_type": "execute_result"
    }
   ],
   "source": [
    "import re\n",
    "from nltk.corpus import stopwords\n",
    "stop = set(stopwords.words('english'))\n",
    "removechars = set(['.','/','!','/','?',':',';'])\n",
    "train_data['tokens_raw'] = train_data['tokens_raw'].apply(lambda x: [w for w in x if w not in stop])\n",
    "train_data['tokens_raw'] = train_data['tokens_raw'].apply(lambda x: [w for w in x if w not in removechars])\n",
    "train_data['tokens_raw'] = train_data['tokens_raw'].apply(lambda x: [w for w in x if not re.match('^#', w)])\n",
    "train_data['tokens_raw'] = train_data['tokens_raw'].apply(lambda x: [w for w in x if not re.match('^http', w)]) # remove web links\n",
    "train_data.head()"
   ]
  },
  {
   "cell_type": "code",
   "execution_count": 14,
   "id": "0381c6fc",
   "metadata": {
    "execution": {
     "iopub.execute_input": "2022-12-06T03:50:46.821689Z",
     "iopub.status.busy": "2022-12-06T03:50:46.820976Z",
     "iopub.status.idle": "2022-12-06T03:50:47.058851Z",
     "shell.execute_reply": "2022-12-06T03:50:47.058031Z"
    },
    "papermill": {
     "duration": 0.257135,
     "end_time": "2022-12-06T03:50:47.061054",
     "exception": false,
     "start_time": "2022-12-06T03:50:46.803919",
     "status": "completed"
    },
    "tags": []
   },
   "outputs": [
    {
     "data": {
      "text/html": [
       "<div>\n",
       "<style scoped>\n",
       "    .dataframe tbody tr th:only-of-type {\n",
       "        vertical-align: middle;\n",
       "    }\n",
       "\n",
       "    .dataframe tbody tr th {\n",
       "        vertical-align: top;\n",
       "    }\n",
       "\n",
       "    .dataframe thead th {\n",
       "        text-align: right;\n",
       "    }\n",
       "</style>\n",
       "<table border=\"1\" class=\"dataframe\">\n",
       "  <thead>\n",
       "    <tr style=\"text-align: right;\">\n",
       "      <th></th>\n",
       "      <th>OriginalTweet</th>\n",
       "      <th>Sentiment</th>\n",
       "      <th>tokens_raw</th>\n",
       "    </tr>\n",
       "  </thead>\n",
       "  <tbody>\n",
       "    <tr>\n",
       "      <th>0</th>\n",
       "      <td>TRENDING: New Yorkers encounter empty supermar...</td>\n",
       "      <td>Extremely Negative</td>\n",
       "      <td>[trending, new, yorkers, encounter, empty, sup...</td>\n",
       "    </tr>\n",
       "    <tr>\n",
       "      <th>1</th>\n",
       "      <td>When I couldn't find hand sanitizer at Fred Me...</td>\n",
       "      <td>Positive</td>\n",
       "      <td>[find, hand, sanitizer, fred, meyer, ,, turned...</td>\n",
       "    </tr>\n",
       "    <tr>\n",
       "      <th>2</th>\n",
       "      <td>Find out how you can protect yourself and love...</td>\n",
       "      <td>Extremely Positive</td>\n",
       "      <td>[find, protect, loved, ones]</td>\n",
       "    </tr>\n",
       "    <tr>\n",
       "      <th>3</th>\n",
       "      <td>#Panic buying hits #NewYork City as anxious sh...</td>\n",
       "      <td>Negative</td>\n",
       "      <td>[buying, hits, city, anxious, shoppers, stock,...</td>\n",
       "    </tr>\n",
       "    <tr>\n",
       "      <th>4</th>\n",
       "      <td>#toiletpaper #dunnypaper #coronavirus #coronav...</td>\n",
       "      <td>Neutral</td>\n",
       "      <td>[one, week, everyone, buying, baby, milk, powd...</td>\n",
       "    </tr>\n",
       "  </tbody>\n",
       "</table>\n",
       "</div>"
      ],
      "text/plain": [
       "                                       OriginalTweet           Sentiment  \\\n",
       "0  TRENDING: New Yorkers encounter empty supermar...  Extremely Negative   \n",
       "1  When I couldn't find hand sanitizer at Fred Me...            Positive   \n",
       "2  Find out how you can protect yourself and love...  Extremely Positive   \n",
       "3  #Panic buying hits #NewYork City as anxious sh...            Negative   \n",
       "4  #toiletpaper #dunnypaper #coronavirus #coronav...             Neutral   \n",
       "\n",
       "                                          tokens_raw  \n",
       "0  [trending, new, yorkers, encounter, empty, sup...  \n",
       "1  [find, hand, sanitizer, fred, meyer, ,, turned...  \n",
       "2                       [find, protect, loved, ones]  \n",
       "3  [buying, hits, city, anxious, shoppers, stock,...  \n",
       "4  [one, week, everyone, buying, baby, milk, powd...  "
      ]
     },
     "execution_count": 14,
     "metadata": {},
     "output_type": "execute_result"
    }
   ],
   "source": [
    "test_data['tokens_raw'] = test_data['tokens_raw'].apply(lambda x: [w for w in x if w not in stop])\n",
    "test_data['tokens_raw'] = test_data['tokens_raw'].apply(lambda x: [w for w in x if w not in removechars])\n",
    "test_data['tokens_raw'] = test_data['tokens_raw'].apply(lambda x: [w for w in x if not re.match('^#', w)])\n",
    "test_data['tokens_raw'] = test_data['tokens_raw'].apply(lambda x: [w for w in x if not re.match('^http', w)]) # remove web links\n",
    "test_data.head()"
   ]
  },
  {
   "cell_type": "markdown",
   "id": "d691cd66",
   "metadata": {
    "papermill": {
     "duration": 0.016055,
     "end_time": "2022-12-06T03:50:47.092792",
     "exception": false,
     "start_time": "2022-12-06T03:50:47.076737",
     "status": "completed"
    },
    "tags": []
   },
   "source": [
    "Instead of having the same words in different forms have their own token value, we group all of those words together to be only one token value."
   ]
  },
  {
   "cell_type": "code",
   "execution_count": 15,
   "id": "a3a19e8e",
   "metadata": {
    "execution": {
     "iopub.execute_input": "2022-12-06T03:50:47.126308Z",
     "iopub.status.busy": "2022-12-06T03:50:47.125480Z",
     "iopub.status.idle": "2022-12-06T03:50:53.873056Z",
     "shell.execute_reply": "2022-12-06T03:50:53.871934Z"
    },
    "papermill": {
     "duration": 6.767166,
     "end_time": "2022-12-06T03:50:53.875422",
     "exception": false,
     "start_time": "2022-12-06T03:50:47.108256",
     "status": "completed"
    },
    "tags": []
   },
   "outputs": [
    {
     "name": "stderr",
     "output_type": "stream",
     "text": [
      "[nltk_data] Downloading package wordnet to /usr/share/nltk_data...\n",
      "[nltk_data]   Package wordnet is already up-to-date!\n",
      "[nltk_data] Downloading package omw-1.4 to /usr/share/nltk_data...\n"
     ]
    },
    {
     "data": {
      "text/html": [
       "<div>\n",
       "<style scoped>\n",
       "    .dataframe tbody tr th:only-of-type {\n",
       "        vertical-align: middle;\n",
       "    }\n",
       "\n",
       "    .dataframe tbody tr th {\n",
       "        vertical-align: top;\n",
       "    }\n",
       "\n",
       "    .dataframe thead th {\n",
       "        text-align: right;\n",
       "    }\n",
       "</style>\n",
       "<table border=\"1\" class=\"dataframe\">\n",
       "  <thead>\n",
       "    <tr style=\"text-align: right;\">\n",
       "      <th></th>\n",
       "      <th>OriginalTweet</th>\n",
       "      <th>Sentiment</th>\n",
       "      <th>tokens_raw</th>\n",
       "      <th>tokens</th>\n",
       "    </tr>\n",
       "  </thead>\n",
       "  <tbody>\n",
       "    <tr>\n",
       "      <th>0</th>\n",
       "      <td>@MeNyrbie @Phil_Gahan @Chrisitv https://t.co/i...</td>\n",
       "      <td>Neutral</td>\n",
       "      <td>[@menyrbie, @phil_gahan, @chrisitv]</td>\n",
       "      <td>[@menyrbie, @phil_gahan, @chrisitv]</td>\n",
       "    </tr>\n",
       "    <tr>\n",
       "      <th>1</th>\n",
       "      <td>advice Talk to your neighbours family to excha...</td>\n",
       "      <td>Positive</td>\n",
       "      <td>[advice, talk, neighbours, family, exchange, p...</td>\n",
       "      <td>[advice, talk, neighbour, family, exchange, ph...</td>\n",
       "    </tr>\n",
       "    <tr>\n",
       "      <th>2</th>\n",
       "      <td>Coronavirus Australia: Woolworths to give elde...</td>\n",
       "      <td>Positive</td>\n",
       "      <td>[coronavirus, australia, woolworths, give, eld...</td>\n",
       "      <td>[coronavirus, australia, woolworths, give, eld...</td>\n",
       "    </tr>\n",
       "    <tr>\n",
       "      <th>3</th>\n",
       "      <td>My food stock is not the only one which is emp...</td>\n",
       "      <td>Positive</td>\n",
       "      <td>[food, stock, one, empty, ..., please, ,, pani...</td>\n",
       "      <td>[food, stock, one, empty, ..., please, ,, pani...</td>\n",
       "    </tr>\n",
       "    <tr>\n",
       "      <th>4</th>\n",
       "      <td>Me, ready to go at supermarket during the #COV...</td>\n",
       "      <td>Extremely Negative</td>\n",
       "      <td>[,, ready, go, supermarket, outbreak, i'm, par...</td>\n",
       "      <td>[,, ready, go, supermarket, outbreak, i'm, par...</td>\n",
       "    </tr>\n",
       "  </tbody>\n",
       "</table>\n",
       "</div>"
      ],
      "text/plain": [
       "                                       OriginalTweet           Sentiment  \\\n",
       "0  @MeNyrbie @Phil_Gahan @Chrisitv https://t.co/i...             Neutral   \n",
       "1  advice Talk to your neighbours family to excha...            Positive   \n",
       "2  Coronavirus Australia: Woolworths to give elde...            Positive   \n",
       "3  My food stock is not the only one which is emp...            Positive   \n",
       "4  Me, ready to go at supermarket during the #COV...  Extremely Negative   \n",
       "\n",
       "                                          tokens_raw  \\\n",
       "0                [@menyrbie, @phil_gahan, @chrisitv]   \n",
       "1  [advice, talk, neighbours, family, exchange, p...   \n",
       "2  [coronavirus, australia, woolworths, give, eld...   \n",
       "3  [food, stock, one, empty, ..., please, ,, pani...   \n",
       "4  [,, ready, go, supermarket, outbreak, i'm, par...   \n",
       "\n",
       "                                              tokens  \n",
       "0                [@menyrbie, @phil_gahan, @chrisitv]  \n",
       "1  [advice, talk, neighbour, family, exchange, ph...  \n",
       "2  [coronavirus, australia, woolworths, give, eld...  \n",
       "3  [food, stock, one, empty, ..., please, ,, pani...  \n",
       "4  [,, ready, go, supermarket, outbreak, i'm, par...  "
      ]
     },
     "execution_count": 15,
     "metadata": {},
     "output_type": "execute_result"
    }
   ],
   "source": [
    "from nltk.stem import WordNetLemmatizer\n",
    "import nltk\n",
    "nltk.download('wordnet')\n",
    "nltk.download('omw-1.4')\n",
    "lemmatizer = WordNetLemmatizer()\n",
    "train_data['tokens'] = train_data['tokens_raw'].apply(lambda x: [lemmatizer.lemmatize(w, pos=\"v\") for w in x])\n",
    "train_data.head()"
   ]
  },
  {
   "cell_type": "code",
   "execution_count": 16,
   "id": "1890cfa3",
   "metadata": {
    "execution": {
     "iopub.execute_input": "2022-12-06T03:50:53.908897Z",
     "iopub.status.busy": "2022-12-06T03:50:53.907813Z",
     "iopub.status.idle": "2022-12-06T03:50:54.309133Z",
     "shell.execute_reply": "2022-12-06T03:50:54.307816Z"
    },
    "papermill": {
     "duration": 0.420823,
     "end_time": "2022-12-06T03:50:54.311833",
     "exception": false,
     "start_time": "2022-12-06T03:50:53.891010",
     "status": "completed"
    },
    "tags": []
   },
   "outputs": [
    {
     "data": {
      "text/html": [
       "<div>\n",
       "<style scoped>\n",
       "    .dataframe tbody tr th:only-of-type {\n",
       "        vertical-align: middle;\n",
       "    }\n",
       "\n",
       "    .dataframe tbody tr th {\n",
       "        vertical-align: top;\n",
       "    }\n",
       "\n",
       "    .dataframe thead th {\n",
       "        text-align: right;\n",
       "    }\n",
       "</style>\n",
       "<table border=\"1\" class=\"dataframe\">\n",
       "  <thead>\n",
       "    <tr style=\"text-align: right;\">\n",
       "      <th></th>\n",
       "      <th>OriginalTweet</th>\n",
       "      <th>Sentiment</th>\n",
       "      <th>tokens_raw</th>\n",
       "      <th>tokens</th>\n",
       "    </tr>\n",
       "  </thead>\n",
       "  <tbody>\n",
       "    <tr>\n",
       "      <th>0</th>\n",
       "      <td>TRENDING: New Yorkers encounter empty supermar...</td>\n",
       "      <td>Extremely Negative</td>\n",
       "      <td>[trending, new, yorkers, encounter, empty, sup...</td>\n",
       "      <td>[trend, new, yorkers, encounter, empty, superm...</td>\n",
       "    </tr>\n",
       "    <tr>\n",
       "      <th>1</th>\n",
       "      <td>When I couldn't find hand sanitizer at Fred Me...</td>\n",
       "      <td>Positive</td>\n",
       "      <td>[find, hand, sanitizer, fred, meyer, ,, turned...</td>\n",
       "      <td>[find, hand, sanitizer, fred, meyer, ,, turn, ...</td>\n",
       "    </tr>\n",
       "    <tr>\n",
       "      <th>2</th>\n",
       "      <td>Find out how you can protect yourself and love...</td>\n",
       "      <td>Extremely Positive</td>\n",
       "      <td>[find, protect, loved, ones]</td>\n",
       "      <td>[find, protect, love, ones]</td>\n",
       "    </tr>\n",
       "    <tr>\n",
       "      <th>3</th>\n",
       "      <td>#Panic buying hits #NewYork City as anxious sh...</td>\n",
       "      <td>Negative</td>\n",
       "      <td>[buying, hits, city, anxious, shoppers, stock,...</td>\n",
       "      <td>[buy, hit, city, anxious, shoppers, stock, foo...</td>\n",
       "    </tr>\n",
       "    <tr>\n",
       "      <th>4</th>\n",
       "      <td>#toiletpaper #dunnypaper #coronavirus #coronav...</td>\n",
       "      <td>Neutral</td>\n",
       "      <td>[one, week, everyone, buying, baby, milk, powd...</td>\n",
       "      <td>[one, week, everyone, buy, baby, milk, powder,...</td>\n",
       "    </tr>\n",
       "  </tbody>\n",
       "</table>\n",
       "</div>"
      ],
      "text/plain": [
       "                                       OriginalTweet           Sentiment  \\\n",
       "0  TRENDING: New Yorkers encounter empty supermar...  Extremely Negative   \n",
       "1  When I couldn't find hand sanitizer at Fred Me...            Positive   \n",
       "2  Find out how you can protect yourself and love...  Extremely Positive   \n",
       "3  #Panic buying hits #NewYork City as anxious sh...            Negative   \n",
       "4  #toiletpaper #dunnypaper #coronavirus #coronav...             Neutral   \n",
       "\n",
       "                                          tokens_raw  \\\n",
       "0  [trending, new, yorkers, encounter, empty, sup...   \n",
       "1  [find, hand, sanitizer, fred, meyer, ,, turned...   \n",
       "2                       [find, protect, loved, ones]   \n",
       "3  [buying, hits, city, anxious, shoppers, stock,...   \n",
       "4  [one, week, everyone, buying, baby, milk, powd...   \n",
       "\n",
       "                                              tokens  \n",
       "0  [trend, new, yorkers, encounter, empty, superm...  \n",
       "1  [find, hand, sanitizer, fred, meyer, ,, turn, ...  \n",
       "2                        [find, protect, love, ones]  \n",
       "3  [buy, hit, city, anxious, shoppers, stock, foo...  \n",
       "4  [one, week, everyone, buy, baby, milk, powder,...  "
      ]
     },
     "execution_count": 16,
     "metadata": {},
     "output_type": "execute_result"
    }
   ],
   "source": [
    "test_data['tokens'] = test_data['tokens_raw'].apply(lambda x: [lemmatizer.lemmatize(w, pos=\"v\") for w in x])\n",
    "test_data.head()"
   ]
  },
  {
   "cell_type": "markdown",
   "id": "b9094b9a",
   "metadata": {
    "papermill": {
     "duration": 0.015923,
     "end_time": "2022-12-06T03:50:54.345060",
     "exception": false,
     "start_time": "2022-12-06T03:50:54.329137",
     "status": "completed"
    },
    "tags": []
   },
   "source": [
    "Make a vocabulary for all the words that are in our training data set, and we keep track how much they appear all together, and how much they appear in each tweet that is positive, negative, extremely positive, extremely negative, and neutral."
   ]
  },
  {
   "cell_type": "code",
   "execution_count": 17,
   "id": "13cdae47",
   "metadata": {
    "execution": {
     "iopub.execute_input": "2022-12-06T03:50:54.379951Z",
     "iopub.status.busy": "2022-12-06T03:50:54.379528Z",
     "iopub.status.idle": "2022-12-06T03:50:54.898292Z",
     "shell.execute_reply": "2022-12-06T03:50:54.896784Z"
    },
    "papermill": {
     "duration": 0.538932,
     "end_time": "2022-12-06T03:50:54.900818",
     "exception": false,
     "start_time": "2022-12-06T03:50:54.361886",
     "status": "completed"
    },
    "tags": []
   },
   "outputs": [
    {
     "name": "stdout",
     "output_type": "stream",
     "text": [
      "All tokens: 43916, Pos: 19972, Ex Pos: 14501, Neg: 18094, Ex Neg: 12761, Neu: 13990\n"
     ]
    }
   ],
   "source": [
    "train_pos = train_data[train_data['Sentiment'] == 'Positive']\n",
    "train_expos = train_data[train_data['Sentiment'] == 'Extremely Positive']\n",
    "train_neg = train_data[train_data['Sentiment'] == 'Negative']\n",
    "train_exneg = train_data[train_data['Sentiment'] == 'Extremely Negative']\n",
    "train_neu = train_data[train_data['Sentiment'] == 'Neutral']\n",
    "\n",
    "def vocab_list(tokens_column):\n",
    "    vocab = dict()\n",
    "    for tweet_tokens in tokens_column:\n",
    "        for token in tweet_tokens:\n",
    "            if token not in vocab:\n",
    "                vocab[token] = 1\n",
    "            else:\n",
    "                vocab[token] += 1\n",
    "    return vocab\n",
    "\n",
    "vocab_all = dict(sorted(vocab_list(train_data['tokens']).items(), key=lambda item: item[1], reverse=True))\n",
    "vocab_pos = dict(sorted(vocab_list(train_pos['tokens']).items(), key=lambda item: item[1], reverse=True))\n",
    "vocab_expos = dict(sorted(vocab_list(train_expos['tokens']).items(), key=lambda item: item[1], reverse=True))\n",
    "vocab_neg = dict(sorted(vocab_list(train_neg['tokens']).items(), key=lambda item: item[1], reverse=True))\n",
    "vocab_exneg = dict(sorted(vocab_list(train_exneg['tokens']).items(), key=lambda item: item[1], reverse=True))\n",
    "vocab_neu = dict(sorted(vocab_list(train_neu['tokens']).items(), key=lambda item: item[1], reverse=True))\n",
    "print(f\"All tokens: {len(vocab_all)}, Pos: {len(vocab_pos)}, Ex Pos: {len(vocab_expos)}, Neg: {len(vocab_neg)}, Ex Neg: {len(vocab_exneg)}, Neu: {len(vocab_neu)}\")"
   ]
  },
  {
   "cell_type": "code",
   "execution_count": 18,
   "id": "da988e67",
   "metadata": {
    "execution": {
     "iopub.execute_input": "2022-12-06T03:50:54.935133Z",
     "iopub.status.busy": "2022-12-06T03:50:54.934379Z",
     "iopub.status.idle": "2022-12-06T03:50:54.996880Z",
     "shell.execute_reply": "2022-12-06T03:50:54.995450Z"
    },
    "papermill": {
     "duration": 0.082847,
     "end_time": "2022-12-06T03:50:54.999794",
     "exception": false,
     "start_time": "2022-12-06T03:50:54.916947",
     "status": "completed"
    },
    "tags": []
   },
   "outputs": [
    {
     "name": "stdout",
     "output_type": "stream",
     "text": [
      "All tokens: 9247, Pos: 4101, Ex Pos: 3270, Neg: 4281, Ex Neg: 3143, Neu: 2505\n"
     ]
    }
   ],
   "source": [
    "test_pos = test_data[test_data['Sentiment'] == 'Positive']\n",
    "test_expos = test_data[test_data['Sentiment'] == 'Extremely Positive']\n",
    "test_neg = test_data[test_data['Sentiment'] == 'Negative']\n",
    "test_exneg = test_data[test_data['Sentiment'] == 'Extremely Negative']\n",
    "test_neu = test_data[test_data['Sentiment'] == 'Neutral']\n",
    "\n",
    "vocab_all1 = dict(sorted(vocab_list(test_data['tokens']).items(), key=lambda item: item[1], reverse=True))\n",
    "vocab_pos1 = dict(sorted(vocab_list(test_pos['tokens']).items(), key=lambda item: item[1], reverse=True))\n",
    "vocab_expos1 = dict(sorted(vocab_list(test_expos['tokens']).items(), key=lambda item: item[1], reverse=True))\n",
    "vocab_neg1 = dict(sorted(vocab_list(test_neg['tokens']).items(), key=lambda item: item[1], reverse=True))\n",
    "vocab_exneg1 = dict(sorted(vocab_list(test_exneg['tokens']).items(), key=lambda item: item[1], reverse=True))\n",
    "vocab_neu1 = dict(sorted(vocab_list(test_neu['tokens']).items(), key=lambda item: item[1], reverse=True))\n",
    "print(f\"All tokens: {len(vocab_all1)}, Pos: {len(vocab_pos1)}, Ex Pos: {len(vocab_expos1)}, Neg: {len(vocab_neg1)}, Ex Neg: {len(vocab_exneg1)}, Neu: {len(vocab_neu1)}\")"
   ]
  },
  {
   "cell_type": "code",
   "execution_count": 19,
   "id": "0e8cc848",
   "metadata": {
    "execution": {
     "iopub.execute_input": "2022-12-06T03:50:55.034690Z",
     "iopub.status.busy": "2022-12-06T03:50:55.034265Z",
     "iopub.status.idle": "2022-12-06T03:50:55.052813Z",
     "shell.execute_reply": "2022-12-06T03:50:55.051698Z"
    },
    "papermill": {
     "duration": 0.038567,
     "end_time": "2022-12-06T03:50:55.055067",
     "exception": false,
     "start_time": "2022-12-06T03:50:55.016500",
     "status": "completed"
    },
    "tags": []
   },
   "outputs": [
    {
     "data": {
      "text/plain": [
       "[(',', 28642),\n",
       " ('19', 12249),\n",
       " ('-', 11511),\n",
       " ('covid', 10607),\n",
       " ('price', 8957),\n",
       " ('store', 8161),\n",
       " ('\\x92', 7155),\n",
       " ('food', 6826),\n",
       " ('supermarket', 6686),\n",
       " ('grocery', 6087)]"
      ]
     },
     "execution_count": 19,
     "metadata": {},
     "output_type": "execute_result"
    }
   ],
   "source": [
    "list(vocab_all.items())[:10]"
   ]
  },
  {
   "cell_type": "code",
   "execution_count": 20,
   "id": "dcea4aa0",
   "metadata": {
    "execution": {
     "iopub.execute_input": "2022-12-06T03:50:55.089415Z",
     "iopub.status.busy": "2022-12-06T03:50:55.089016Z",
     "iopub.status.idle": "2022-12-06T03:50:55.101295Z",
     "shell.execute_reply": "2022-12-06T03:50:55.099396Z"
    },
    "papermill": {
     "duration": 0.032548,
     "end_time": "2022-12-06T03:50:55.103777",
     "exception": false,
     "start_time": "2022-12-06T03:50:55.071229",
     "status": "completed"
    },
    "tags": []
   },
   "outputs": [
    {
     "name": "stdout",
     "output_type": "stream",
     "text": [
      "All tokens: 43916, Pos: 18972, Ex Pos: 13501, Neg: 17094, Ex Neg: 11762, Neu: 12993\n"
     ]
    }
   ],
   "source": [
    "top_n_to_remove = 1000\n",
    "for i, item in enumerate(vocab_all.items()):\n",
    "    if i == top_n_to_remove:\n",
    "        break\n",
    "    if item[0] in vocab_pos:\n",
    "        del vocab_pos[item[0]]\n",
    "    if item[0] in vocab_expos:\n",
    "        del vocab_expos[item[0]]\n",
    "    if item[0] in vocab_neg:\n",
    "        del vocab_neg[item[0]]\n",
    "    if item[0] in vocab_exneg:\n",
    "        del vocab_exneg[item[0]]\n",
    "    if item[0] in vocab_neu:\n",
    "        del vocab_neu[item[0]]\n",
    "        \n",
    "print(f\"All tokens: {len(vocab_all)}, Pos: {len(vocab_pos)}, Ex Pos: {len(vocab_expos)}, Neg: {len(vocab_neg)}, Ex Neg: {len(vocab_exneg)}, Neu: {len(vocab_neu)}\")"
   ]
  },
  {
   "cell_type": "code",
   "execution_count": 21,
   "id": "d2cdf148",
   "metadata": {
    "execution": {
     "iopub.execute_input": "2022-12-06T03:50:55.138590Z",
     "iopub.status.busy": "2022-12-06T03:50:55.138177Z",
     "iopub.status.idle": "2022-12-06T03:50:55.149251Z",
     "shell.execute_reply": "2022-12-06T03:50:55.147819Z"
    },
    "papermill": {
     "duration": 0.032316,
     "end_time": "2022-12-06T03:50:55.152397",
     "exception": false,
     "start_time": "2022-12-06T03:50:55.120081",
     "status": "completed"
    },
    "tags": []
   },
   "outputs": [
    {
     "name": "stdout",
     "output_type": "stream",
     "text": [
      "All tokens: 9247, Pos: 3127, Ex Pos: 2327, Neg: 3297, Ex Neg: 2213, Neu: 1681\n"
     ]
    }
   ],
   "source": [
    "top_n_to_remove = 1000\n",
    "for i, item in enumerate(vocab_all1.items()):\n",
    "    if i == top_n_to_remove:\n",
    "        break\n",
    "    if item[0] in vocab_pos1:\n",
    "        del vocab_pos1[item[0]]\n",
    "    if item[0] in vocab_expos1:\n",
    "        del vocab_expos1[item[0]]\n",
    "    if item[0] in vocab_neg1:\n",
    "        del vocab_neg1[item[0]]\n",
    "    if item[0] in vocab_exneg1:\n",
    "        del vocab_exneg1[item[0]]\n",
    "    if item[0] in vocab_neu1:\n",
    "        del vocab_neu1[item[0]]\n",
    "        \n",
    "print(f\"All tokens: {len(vocab_all1)}, Pos: {len(vocab_pos1)}, Ex Pos: {len(vocab_expos1)}, Neg: {len(vocab_neg1)}, Ex Neg: {len(vocab_exneg1)}, Neu: {len(vocab_neu1)}\")"
   ]
  },
  {
   "cell_type": "code",
   "execution_count": 22,
   "id": "efe7f3fa",
   "metadata": {
    "execution": {
     "iopub.execute_input": "2022-12-06T03:50:55.187474Z",
     "iopub.status.busy": "2022-12-06T03:50:55.187084Z",
     "iopub.status.idle": "2022-12-06T03:50:55.198146Z",
     "shell.execute_reply": "2022-12-06T03:50:55.197307Z"
    },
    "papermill": {
     "duration": 0.031229,
     "end_time": "2022-12-06T03:50:55.200310",
     "exception": false,
     "start_time": "2022-12-06T03:50:55.169081",
     "status": "completed"
    },
    "tags": []
   },
   "outputs": [
    {
     "data": {
      "text/plain": [
       "[('novel', 59),\n",
       " ('greater', 49),\n",
       " ('epidemic', 48),\n",
       " ('behaviors', 46),\n",
       " ('distribute', 45),\n",
       " ('fair', 44),\n",
       " ('surface', 44),\n",
       " ('significant', 43),\n",
       " ('page', 42),\n",
       " ('highlight', 41)]"
      ]
     },
     "execution_count": 22,
     "metadata": {},
     "output_type": "execute_result"
    }
   ],
   "source": [
    "list(vocab_pos.items())[:10]"
   ]
  },
  {
   "cell_type": "code",
   "execution_count": 23,
   "id": "00c38f07",
   "metadata": {
    "execution": {
     "iopub.execute_input": "2022-12-06T03:50:55.236570Z",
     "iopub.status.busy": "2022-12-06T03:50:55.235261Z",
     "iopub.status.idle": "2022-12-06T03:50:55.243749Z",
     "shell.execute_reply": "2022-12-06T03:50:55.242699Z"
    },
    "papermill": {
     "duration": 0.02909,
     "end_time": "2022-12-06T03:50:55.246051",
     "exception": false,
     "start_time": "2022-12-06T03:50:55.216961",
     "status": "completed"
    },
    "tags": []
   },
   "outputs": [
    {
     "data": {
      "text/plain": [
       "[('super', 6),\n",
       " ('greater', 6),\n",
       " ('locations', 6),\n",
       " ('yeah', 6),\n",
       " ('transport', 6),\n",
       " ('@tesco', 6),\n",
       " ('@target', 5),\n",
       " ('spike', 5),\n",
       " ('guarantee', 5),\n",
       " ('technology', 5)]"
      ]
     },
     "execution_count": 23,
     "metadata": {},
     "output_type": "execute_result"
    }
   ],
   "source": [
    "list(vocab_pos1.items())[:10]"
   ]
  },
  {
   "cell_type": "code",
   "execution_count": 24,
   "id": "6a85bbce",
   "metadata": {
    "execution": {
     "iopub.execute_input": "2022-12-06T03:50:55.281432Z",
     "iopub.status.busy": "2022-12-06T03:50:55.280545Z",
     "iopub.status.idle": "2022-12-06T03:50:55.291203Z",
     "shell.execute_reply": "2022-12-06T03:50:55.290031Z"
    },
    "papermill": {
     "duration": 0.030807,
     "end_time": "2022-12-06T03:50:55.293627",
     "exception": false,
     "start_time": "2022-12-06T03:50:55.262820",
     "status": "completed"
    },
    "tags": []
   },
   "outputs": [
    {
     "data": {
      "text/plain": [
       "[('grateful', 65),\n",
       " ('super', 59),\n",
       " ('win', 50),\n",
       " ('enjoy', 50),\n",
       " ('trust', 50),\n",
       " ('fun', 46),\n",
       " ('safely', 45),\n",
       " ('lol', 43),\n",
       " ('smart', 43),\n",
       " ('proud', 42)]"
      ]
     },
     "execution_count": 24,
     "metadata": {},
     "output_type": "execute_result"
    }
   ],
   "source": [
    "list(vocab_expos.items())[:10]"
   ]
  },
  {
   "cell_type": "code",
   "execution_count": 25,
   "id": "7937dd6f",
   "metadata": {
    "execution": {
     "iopub.execute_input": "2022-12-06T03:50:55.329562Z",
     "iopub.status.busy": "2022-12-06T03:50:55.329141Z",
     "iopub.status.idle": "2022-12-06T03:50:55.336556Z",
     "shell.execute_reply": "2022-12-06T03:50:55.335707Z"
    },
    "papermill": {
     "duration": 0.027914,
     "end_time": "2022-12-06T03:50:55.338727",
     "exception": false,
     "start_time": "2022-12-06T03:50:55.310813",
     "status": "completed"
    },
    "tags": []
   },
   "outputs": [
    {
     "data": {
      "text/plain": [
       "[('friendly', 7),\n",
       " ('wonderful', 7),\n",
       " ('coffee', 6),\n",
       " ('rich', 6),\n",
       " ('reminder', 6),\n",
       " ('luckily', 6),\n",
       " ('hopefully', 6),\n",
       " ('produce', 6),\n",
       " ('laugh', 6),\n",
       " ('effective', 6)]"
      ]
     },
     "execution_count": 25,
     "metadata": {},
     "output_type": "execute_result"
    }
   ],
   "source": [
    "list(vocab_expos1.items())[:10]"
   ]
  },
  {
   "cell_type": "code",
   "execution_count": 26,
   "id": "29290ba1",
   "metadata": {
    "execution": {
     "iopub.execute_input": "2022-12-06T03:50:55.374567Z",
     "iopub.status.busy": "2022-12-06T03:50:55.373529Z",
     "iopub.status.idle": "2022-12-06T03:50:55.384685Z",
     "shell.execute_reply": "2022-12-06T03:50:55.383487Z"
    },
    "papermill": {
     "duration": 0.03164,
     "end_time": "2022-12-06T03:50:55.387296",
     "exception": false,
     "start_time": "2022-12-06T03:50:55.355656",
     "status": "completed"
    },
    "tags": []
   },
   "outputs": [
    {
     "data": {
      "text/plain": [
       "[('uncertainty', 53),\n",
       " ('damn', 50),\n",
       " ('export', 47),\n",
       " ('lowest', 46),\n",
       " ('file', 44),\n",
       " ('problems', 43),\n",
       " ('fell', 42),\n",
       " ('officials', 41),\n",
       " ('arabia', 40),\n",
       " ('complete', 39)]"
      ]
     },
     "execution_count": 26,
     "metadata": {},
     "output_type": "execute_result"
    }
   ],
   "source": [
    "list(vocab_neg.items())[:10]"
   ]
  },
  {
   "cell_type": "code",
   "execution_count": 27,
   "id": "6f60f931",
   "metadata": {
    "execution": {
     "iopub.execute_input": "2022-12-06T03:50:55.423714Z",
     "iopub.status.busy": "2022-12-06T03:50:55.422511Z",
     "iopub.status.idle": "2022-12-06T03:50:55.430774Z",
     "shell.execute_reply": "2022-12-06T03:50:55.429699Z"
    },
    "papermill": {
     "duration": 0.028494,
     "end_time": "2022-12-06T03:50:55.433055",
     "exception": false,
     "start_time": "2022-12-06T03:50:55.404561",
     "status": "completed"
    },
    "tags": []
   },
   "outputs": [
    {
     "data": {
      "text/plain": [
       "[('horse', 8),\n",
       " ('midst', 7),\n",
       " ('totally', 7),\n",
       " ('shoot', 7),\n",
       " ('trader', 7),\n",
       " ('activities', 7),\n",
       " ('sa', 6),\n",
       " ('bye', 6),\n",
       " ('date', 6),\n",
       " ('(202) 224-3121', 6)]"
      ]
     },
     "execution_count": 27,
     "metadata": {},
     "output_type": "execute_result"
    }
   ],
   "source": [
    "list(vocab_neg1.items())[:10]"
   ]
  },
  {
   "cell_type": "code",
   "execution_count": 28,
   "id": "cdfdc7f7",
   "metadata": {
    "execution": {
     "iopub.execute_input": "2022-12-06T03:50:55.469467Z",
     "iopub.status.busy": "2022-12-06T03:50:55.469049Z",
     "iopub.status.idle": "2022-12-06T03:50:55.478671Z",
     "shell.execute_reply": "2022-12-06T03:50:55.477661Z"
    },
    "papermill": {
     "duration": 0.030286,
     "end_time": "2022-12-06T03:50:55.480884",
     "exception": false,
     "start_time": "2022-12-06T03:50:55.450598",
     "status": "completed"
    },
    "tags": []
   },
   "outputs": [
    {
     "data": {
      "text/plain": [
       "[('fraud', 68),\n",
       " ('greedy', 63),\n",
       " ('hell', 62),\n",
       " ('stupid', 60),\n",
       " ('attack', 59),\n",
       " ('steal', 59),\n",
       " ('disgust', 55),\n",
       " ('sad', 55),\n",
       " ('exploit', 50),\n",
       " ('destroy', 49)]"
      ]
     },
     "execution_count": 28,
     "metadata": {},
     "output_type": "execute_result"
    }
   ],
   "source": [
    "list(vocab_exneg.items())[:10]"
   ]
  },
  {
   "cell_type": "code",
   "execution_count": 29,
   "id": "2a14e8da",
   "metadata": {
    "execution": {
     "iopub.execute_input": "2022-12-06T03:50:55.517466Z",
     "iopub.status.busy": "2022-12-06T03:50:55.517009Z",
     "iopub.status.idle": "2022-12-06T03:50:55.523988Z",
     "shell.execute_reply": "2022-12-06T03:50:55.523220Z"
    },
    "papermill": {
     "duration": 0.028199,
     "end_time": "2022-12-06T03:50:55.526127",
     "exception": false,
     "start_time": "2022-12-06T03:50:55.497928",
     "status": "completed"
    },
    "tags": []
   },
   "outputs": [
    {
     "data": {
      "text/plain": [
       "[('attack', 7),\n",
       " ('scary', 6),\n",
       " ('systems', 6),\n",
       " ('yo', 6),\n",
       " ('collapse', 5),\n",
       " ('russia', 5),\n",
       " ('scenario', 5),\n",
       " ('humanity', 5),\n",
       " ('type', 5),\n",
       " ('illegal', 5)]"
      ]
     },
     "execution_count": 29,
     "metadata": {},
     "output_type": "execute_result"
    }
   ],
   "source": [
    "list(vocab_exneg1.items())[:10]"
   ]
  },
  {
   "cell_type": "code",
   "execution_count": 30,
   "id": "587bae50",
   "metadata": {
    "execution": {
     "iopub.execute_input": "2022-12-06T03:50:55.563404Z",
     "iopub.status.busy": "2022-12-06T03:50:55.562473Z",
     "iopub.status.idle": "2022-12-06T03:50:55.573019Z",
     "shell.execute_reply": "2022-12-06T03:50:55.571841Z"
    },
    "papermill": {
     "duration": 0.031663,
     "end_time": "2022-12-06T03:50:55.575242",
     "exception": false,
     "start_time": "2022-12-06T03:50:55.543579",
     "status": "completed"
    },
    "tags": []
   },
   "outputs": [
    {
     "data": {
      "text/plain": [
       "[('_', 54),\n",
       " ('property', 36),\n",
       " ('california', 32),\n",
       " ('@youtube', 30),\n",
       " ('ticket', 29),\n",
       " ('jump', 29),\n",
       " ('11', 28),\n",
       " ('©', 27),\n",
       " ('guidance', 27),\n",
       " ('reveal', 27)]"
      ]
     },
     "execution_count": 30,
     "metadata": {},
     "output_type": "execute_result"
    }
   ],
   "source": [
    "list(vocab_neu.items())[:10]"
   ]
  },
  {
   "cell_type": "code",
   "execution_count": 31,
   "id": "d8e81b5f",
   "metadata": {
    "execution": {
     "iopub.execute_input": "2022-12-06T03:50:55.612073Z",
     "iopub.status.busy": "2022-12-06T03:50:55.611676Z",
     "iopub.status.idle": "2022-12-06T03:50:55.619381Z",
     "shell.execute_reply": "2022-12-06T03:50:55.618373Z"
    },
    "papermill": {
     "duration": 0.02845,
     "end_time": "2022-12-06T03:50:55.621366",
     "exception": false,
     "start_time": "2022-12-06T03:50:55.592916",
     "status": "completed"
    },
    "tags": []
   },
   "outputs": [
    {
     "data": {
      "text/plain": [
       "[('conference', 5),\n",
       " ('sauce', 5),\n",
       " ('meter', 5),\n",
       " ('clothe', 4),\n",
       " ('preparation', 4),\n",
       " ('lineup', 4),\n",
       " ('wife', 4),\n",
       " ('insist', 4),\n",
       " ('bogus', 4),\n",
       " ('informal', 4)]"
      ]
     },
     "execution_count": 31,
     "metadata": {},
     "output_type": "execute_result"
    }
   ],
   "source": [
    "list(vocab_neu1.items())[:10]"
   ]
  },
  {
   "cell_type": "markdown",
   "id": "26941ec7",
   "metadata": {
    "papermill": {
     "duration": 0.017227,
     "end_time": "2022-12-06T03:50:55.655976",
     "exception": false,
     "start_time": "2022-12-06T03:50:55.638749",
     "status": "completed"
    },
    "tags": []
   },
   "source": [
    "Change the from of the observation from tokens into a string so we can use the vectorizer function"
   ]
  },
  {
   "cell_type": "code",
   "execution_count": 32,
   "id": "36c29f2a",
   "metadata": {
    "execution": {
     "iopub.execute_input": "2022-12-06T03:50:55.692748Z",
     "iopub.status.busy": "2022-12-06T03:50:55.692311Z",
     "iopub.status.idle": "2022-12-06T03:50:55.750020Z",
     "shell.execute_reply": "2022-12-06T03:50:55.748697Z"
    },
    "papermill": {
     "duration": 0.078859,
     "end_time": "2022-12-06T03:50:55.752267",
     "exception": false,
     "start_time": "2022-12-06T03:50:55.673408",
     "status": "completed"
    },
    "tags": []
   },
   "outputs": [
    {
     "data": {
      "text/html": [
       "<div>\n",
       "<style scoped>\n",
       "    .dataframe tbody tr th:only-of-type {\n",
       "        vertical-align: middle;\n",
       "    }\n",
       "\n",
       "    .dataframe tbody tr th {\n",
       "        vertical-align: top;\n",
       "    }\n",
       "\n",
       "    .dataframe thead th {\n",
       "        text-align: right;\n",
       "    }\n",
       "</style>\n",
       "<table border=\"1\" class=\"dataframe\">\n",
       "  <thead>\n",
       "    <tr style=\"text-align: right;\">\n",
       "      <th></th>\n",
       "      <th>OriginalTweet</th>\n",
       "      <th>Sentiment</th>\n",
       "      <th>tokens_raw</th>\n",
       "      <th>tokens</th>\n",
       "      <th>textclean</th>\n",
       "    </tr>\n",
       "  </thead>\n",
       "  <tbody>\n",
       "    <tr>\n",
       "      <th>0</th>\n",
       "      <td>@MeNyrbie @Phil_Gahan @Chrisitv https://t.co/i...</td>\n",
       "      <td>Neutral</td>\n",
       "      <td>[@menyrbie, @phil_gahan, @chrisitv]</td>\n",
       "      <td>[@menyrbie, @phil_gahan, @chrisitv]</td>\n",
       "      <td>@menyrbie @phil_gahan @chrisitv</td>\n",
       "    </tr>\n",
       "    <tr>\n",
       "      <th>1</th>\n",
       "      <td>advice Talk to your neighbours family to excha...</td>\n",
       "      <td>Positive</td>\n",
       "      <td>[advice, talk, neighbours, family, exchange, p...</td>\n",
       "      <td>[advice, talk, neighbour, family, exchange, ph...</td>\n",
       "      <td>advice talk neighbour family exchange phone nu...</td>\n",
       "    </tr>\n",
       "    <tr>\n",
       "      <th>2</th>\n",
       "      <td>Coronavirus Australia: Woolworths to give elde...</td>\n",
       "      <td>Positive</td>\n",
       "      <td>[coronavirus, australia, woolworths, give, eld...</td>\n",
       "      <td>[coronavirus, australia, woolworths, give, eld...</td>\n",
       "      <td>coronavirus australia woolworths give elderly ...</td>\n",
       "    </tr>\n",
       "    <tr>\n",
       "      <th>3</th>\n",
       "      <td>My food stock is not the only one which is emp...</td>\n",
       "      <td>Positive</td>\n",
       "      <td>[food, stock, one, empty, ..., please, ,, pani...</td>\n",
       "      <td>[food, stock, one, empty, ..., please, ,, pani...</td>\n",
       "      <td>food stock one empty ... please , panic , enou...</td>\n",
       "    </tr>\n",
       "    <tr>\n",
       "      <th>4</th>\n",
       "      <td>Me, ready to go at supermarket during the #COV...</td>\n",
       "      <td>Extremely Negative</td>\n",
       "      <td>[,, ready, go, supermarket, outbreak, i'm, par...</td>\n",
       "      <td>[,, ready, go, supermarket, outbreak, i'm, par...</td>\n",
       "      <td>, ready go supermarket outbreak i'm paranoid ,...</td>\n",
       "    </tr>\n",
       "  </tbody>\n",
       "</table>\n",
       "</div>"
      ],
      "text/plain": [
       "                                       OriginalTweet           Sentiment  \\\n",
       "0  @MeNyrbie @Phil_Gahan @Chrisitv https://t.co/i...             Neutral   \n",
       "1  advice Talk to your neighbours family to excha...            Positive   \n",
       "2  Coronavirus Australia: Woolworths to give elde...            Positive   \n",
       "3  My food stock is not the only one which is emp...            Positive   \n",
       "4  Me, ready to go at supermarket during the #COV...  Extremely Negative   \n",
       "\n",
       "                                          tokens_raw  \\\n",
       "0                [@menyrbie, @phil_gahan, @chrisitv]   \n",
       "1  [advice, talk, neighbours, family, exchange, p...   \n",
       "2  [coronavirus, australia, woolworths, give, eld...   \n",
       "3  [food, stock, one, empty, ..., please, ,, pani...   \n",
       "4  [,, ready, go, supermarket, outbreak, i'm, par...   \n",
       "\n",
       "                                              tokens  \\\n",
       "0                [@menyrbie, @phil_gahan, @chrisitv]   \n",
       "1  [advice, talk, neighbour, family, exchange, ph...   \n",
       "2  [coronavirus, australia, woolworths, give, eld...   \n",
       "3  [food, stock, one, empty, ..., please, ,, pani...   \n",
       "4  [,, ready, go, supermarket, outbreak, i'm, par...   \n",
       "\n",
       "                                           textclean  \n",
       "0                    @menyrbie @phil_gahan @chrisitv  \n",
       "1  advice talk neighbour family exchange phone nu...  \n",
       "2  coronavirus australia woolworths give elderly ...  \n",
       "3  food stock one empty ... please , panic , enou...  \n",
       "4  , ready go supermarket outbreak i'm paranoid ,...  "
      ]
     },
     "execution_count": 32,
     "metadata": {},
     "output_type": "execute_result"
    }
   ],
   "source": [
    "train_data['textclean'] = train_data['tokens'].apply(lambda x: ' '.join(x))\n",
    "train_data.head()"
   ]
  },
  {
   "cell_type": "code",
   "execution_count": 33,
   "id": "dbd01832",
   "metadata": {
    "execution": {
     "iopub.execute_input": "2022-12-06T03:50:55.789931Z",
     "iopub.status.busy": "2022-12-06T03:50:55.789468Z",
     "iopub.status.idle": "2022-12-06T03:50:55.794373Z",
     "shell.execute_reply": "2022-12-06T03:50:55.793114Z"
    },
    "papermill": {
     "duration": 0.026687,
     "end_time": "2022-12-06T03:50:55.796817",
     "exception": false,
     "start_time": "2022-12-06T03:50:55.770130",
     "status": "completed"
    },
    "tags": []
   },
   "outputs": [],
   "source": [
    "#df = train_data.drop(columns = ['OriginalTweet','tokens_raw','tokens'])\n",
    "#df.head()"
   ]
  },
  {
   "cell_type": "code",
   "execution_count": 34,
   "id": "a9b9a33b",
   "metadata": {
    "execution": {
     "iopub.execute_input": "2022-12-06T03:50:55.834182Z",
     "iopub.status.busy": "2022-12-06T03:50:55.833777Z",
     "iopub.status.idle": "2022-12-06T03:50:55.838154Z",
     "shell.execute_reply": "2022-12-06T03:50:55.837114Z"
    },
    "papermill": {
     "duration": 0.025663,
     "end_time": "2022-12-06T03:50:55.840346",
     "exception": false,
     "start_time": "2022-12-06T03:50:55.814683",
     "status": "completed"
    },
    "tags": []
   },
   "outputs": [],
   "source": [
    "#import torch\n",
    "#from transformers import AutoTokenizer, AutoModelForSequenceClassification,  TrainingArguments, Trainer\n",
    "#from datasets import Dataset, load_metric"
   ]
  },
  {
   "cell_type": "code",
   "execution_count": 35,
   "id": "dba62989",
   "metadata": {
    "execution": {
     "iopub.execute_input": "2022-12-06T03:50:55.877675Z",
     "iopub.status.busy": "2022-12-06T03:50:55.877234Z",
     "iopub.status.idle": "2022-12-06T03:50:55.882354Z",
     "shell.execute_reply": "2022-12-06T03:50:55.881229Z"
    },
    "papermill": {
     "duration": 0.026462,
     "end_time": "2022-12-06T03:50:55.884449",
     "exception": false,
     "start_time": "2022-12-06T03:50:55.857987",
     "status": "completed"
    },
    "tags": []
   },
   "outputs": [],
   "source": [
    "#MODEL_NAME = \"bert-base-cased\"\n",
    "#MAX_LENGTH=100\n",
    "\n",
    "#tokenizer = AutoTokenizer.from_pretrained(MODEL_NAME)\n",
    "#model = AutoModelForSequenceClassification.from_pretrained(MODEL_NAME, num_labels=5, max_length=MAX_LENGTH, output_attentions=False, output_hidden_states=False)"
   ]
  },
  {
   "cell_type": "code",
   "execution_count": 36,
   "id": "f03b12d5",
   "metadata": {
    "execution": {
     "iopub.execute_input": "2022-12-06T03:50:55.921815Z",
     "iopub.status.busy": "2022-12-06T03:50:55.921381Z",
     "iopub.status.idle": "2022-12-06T03:50:55.926031Z",
     "shell.execute_reply": "2022-12-06T03:50:55.924873Z"
    },
    "papermill": {
     "duration": 0.026059,
     "end_time": "2022-12-06T03:50:55.928263",
     "exception": false,
     "start_time": "2022-12-06T03:50:55.902204",
     "status": "completed"
    },
    "tags": []
   },
   "outputs": [],
   "source": [
    "#classes = df.Sentiment.unique().tolist()\n",
    "#class_token2idx = dict((v, k) for k, v in enumerate(classes))\n",
    "#class_idx2token = dict((k, v) for k, v in enumerate(classes))\n",
    "#print(class_token2idx)\n",
    "#print(class_idx2token)"
   ]
  },
  {
   "cell_type": "code",
   "execution_count": 37,
   "id": "5d9fd10c",
   "metadata": {
    "execution": {
     "iopub.execute_input": "2022-12-06T03:50:55.965481Z",
     "iopub.status.busy": "2022-12-06T03:50:55.965097Z",
     "iopub.status.idle": "2022-12-06T03:50:55.969828Z",
     "shell.execute_reply": "2022-12-06T03:50:55.968726Z"
    },
    "papermill": {
     "duration": 0.025561,
     "end_time": "2022-12-06T03:50:55.971826",
     "exception": false,
     "start_time": "2022-12-06T03:50:55.946265",
     "status": "completed"
    },
    "tags": []
   },
   "outputs": [],
   "source": [
    "#df['label'] = df['Sentiment'].apply(lambda x: class_token2idx[x])\n",
    "#df = df.iloc[:20000]\n",
    "#df.head()"
   ]
  },
  {
   "cell_type": "code",
   "execution_count": 38,
   "id": "4ffd8488",
   "metadata": {
    "execution": {
     "iopub.execute_input": "2022-12-06T03:50:56.008812Z",
     "iopub.status.busy": "2022-12-06T03:50:56.008360Z",
     "iopub.status.idle": "2022-12-06T03:50:56.013542Z",
     "shell.execute_reply": "2022-12-06T03:50:56.012401Z"
    },
    "papermill": {
     "duration": 0.02624,
     "end_time": "2022-12-06T03:50:56.015816",
     "exception": false,
     "start_time": "2022-12-06T03:50:55.989576",
     "status": "completed"
    },
    "tags": []
   },
   "outputs": [],
   "source": [
    "#test1 = \"I'm super grateful there is toliet paper in stores now.\"\n",
    "#test1_tokens = tokenizer(test1, return_tensors=\"pt\")\n",
    "#model(**test1_tokens).logits"
   ]
  },
  {
   "cell_type": "code",
   "execution_count": 39,
   "id": "ed30af8e",
   "metadata": {
    "execution": {
     "iopub.execute_input": "2022-12-06T03:50:56.052623Z",
     "iopub.status.busy": "2022-12-06T03:50:56.052219Z",
     "iopub.status.idle": "2022-12-06T03:50:56.057257Z",
     "shell.execute_reply": "2022-12-06T03:50:56.056209Z"
    },
    "papermill": {
     "duration": 0.026188,
     "end_time": "2022-12-06T03:50:56.059545",
     "exception": false,
     "start_time": "2022-12-06T03:50:56.033357",
     "status": "completed"
    },
    "tags": []
   },
   "outputs": [],
   "source": [
    "#test2 = \"So sad and tired of this. People are stupid!\"\n",
    "#test2_tokens = tokenizer(test2, return_tensors=\"pt\")\n",
    "#model(**test2_tokens).logits"
   ]
  },
  {
   "cell_type": "code",
   "execution_count": 40,
   "id": "5ff01a37",
   "metadata": {
    "execution": {
     "iopub.execute_input": "2022-12-06T03:50:56.096610Z",
     "iopub.status.busy": "2022-12-06T03:50:56.096187Z",
     "iopub.status.idle": "2022-12-06T03:50:56.101320Z",
     "shell.execute_reply": "2022-12-06T03:50:56.100246Z"
    },
    "papermill": {
     "duration": 0.026444,
     "end_time": "2022-12-06T03:50:56.103681",
     "exception": false,
     "start_time": "2022-12-06T03:50:56.077237",
     "status": "completed"
    },
    "tags": []
   },
   "outputs": [],
   "source": [
    "#ds_raw = Dataset.from_pandas(df[['label','textclean']])\n",
    "#ds_raw[0]"
   ]
  },
  {
   "cell_type": "code",
   "execution_count": 41,
   "id": "15948532",
   "metadata": {
    "execution": {
     "iopub.execute_input": "2022-12-06T03:50:56.140527Z",
     "iopub.status.busy": "2022-12-06T03:50:56.140088Z",
     "iopub.status.idle": "2022-12-06T03:50:56.144907Z",
     "shell.execute_reply": "2022-12-06T03:50:56.143834Z"
    },
    "papermill": {
     "duration": 0.02581,
     "end_time": "2022-12-06T03:50:56.147128",
     "exception": false,
     "start_time": "2022-12-06T03:50:56.121318",
     "status": "completed"
    },
    "tags": []
   },
   "outputs": [],
   "source": [
    "#def tokenize_function(examples):\n",
    "    #return tokenizer(examples[\"textclean\"], padding=\"max_length\", truncation=True, max_length=MAX_LENGTH)\n",
    "\n",
    "#ds = ds_raw.map(tokenize_function, batched=True)"
   ]
  },
  {
   "cell_type": "code",
   "execution_count": 42,
   "id": "6e7144f2",
   "metadata": {
    "execution": {
     "iopub.execute_input": "2022-12-06T03:50:56.184304Z",
     "iopub.status.busy": "2022-12-06T03:50:56.183913Z",
     "iopub.status.idle": "2022-12-06T03:50:56.188844Z",
     "shell.execute_reply": "2022-12-06T03:50:56.187669Z"
    },
    "papermill": {
     "duration": 0.026521,
     "end_time": "2022-12-06T03:50:56.191390",
     "exception": false,
     "start_time": "2022-12-06T03:50:56.164869",
     "status": "completed"
    },
    "tags": []
   },
   "outputs": [],
   "source": [
    "#ds[0]"
   ]
  },
  {
   "cell_type": "code",
   "execution_count": 43,
   "id": "cda4c52a",
   "metadata": {
    "execution": {
     "iopub.execute_input": "2022-12-06T03:50:56.228270Z",
     "iopub.status.busy": "2022-12-06T03:50:56.227900Z",
     "iopub.status.idle": "2022-12-06T03:50:56.232530Z",
     "shell.execute_reply": "2022-12-06T03:50:56.231398Z"
    },
    "papermill": {
     "duration": 0.025524,
     "end_time": "2022-12-06T03:50:56.234578",
     "exception": false,
     "start_time": "2022-12-06T03:50:56.209054",
     "status": "completed"
    },
    "tags": []
   },
   "outputs": [],
   "source": [
    "#ds = ds.shuffle(seed = 42)\n",
    "#ds[0]"
   ]
  },
  {
   "cell_type": "code",
   "execution_count": 44,
   "id": "74a3ac1b",
   "metadata": {
    "execution": {
     "iopub.execute_input": "2022-12-06T03:50:56.271858Z",
     "iopub.status.busy": "2022-12-06T03:50:56.271376Z",
     "iopub.status.idle": "2022-12-06T03:50:56.276001Z",
     "shell.execute_reply": "2022-12-06T03:50:56.274885Z"
    },
    "papermill": {
     "duration": 0.025975,
     "end_time": "2022-12-06T03:50:56.278249",
     "exception": false,
     "start_time": "2022-12-06T03:50:56.252274",
     "status": "completed"
    },
    "tags": []
   },
   "outputs": [],
   "source": [
    "#prop = 0.8\n",
    "#ds_train = ds.select(range(int(len(ds)*prop)))\n",
    "#ds_eval = ds.select(range(int(len(ds)*prop), len(ds)))"
   ]
  },
  {
   "cell_type": "code",
   "execution_count": 45,
   "id": "1dc88a27",
   "metadata": {
    "execution": {
     "iopub.execute_input": "2022-12-06T03:50:56.315538Z",
     "iopub.status.busy": "2022-12-06T03:50:56.315108Z",
     "iopub.status.idle": "2022-12-06T03:50:56.319936Z",
     "shell.execute_reply": "2022-12-06T03:50:56.318713Z"
    },
    "papermill": {
     "duration": 0.026034,
     "end_time": "2022-12-06T03:50:56.322128",
     "exception": false,
     "start_time": "2022-12-06T03:50:56.296094",
     "status": "completed"
    },
    "tags": []
   },
   "outputs": [],
   "source": [
    "#print(len(ds_train))\n",
    "#print(len(ds_eval))"
   ]
  },
  {
   "cell_type": "code",
   "execution_count": 46,
   "id": "420131dc",
   "metadata": {
    "execution": {
     "iopub.execute_input": "2022-12-06T03:50:56.360758Z",
     "iopub.status.busy": "2022-12-06T03:50:56.360321Z",
     "iopub.status.idle": "2022-12-06T03:50:56.365500Z",
     "shell.execute_reply": "2022-12-06T03:50:56.363908Z"
    },
    "papermill": {
     "duration": 0.027488,
     "end_time": "2022-12-06T03:50:56.367911",
     "exception": false,
     "start_time": "2022-12-06T03:50:56.340423",
     "status": "completed"
    },
    "tags": []
   },
   "outputs": [],
   "source": [
    "#import os\n",
    "#os.environ[\"WANDB_DISABLED\"] = \"true\""
   ]
  },
  {
   "cell_type": "code",
   "execution_count": 47,
   "id": "2084d1b2",
   "metadata": {
    "execution": {
     "iopub.execute_input": "2022-12-06T03:50:56.405121Z",
     "iopub.status.busy": "2022-12-06T03:50:56.404719Z",
     "iopub.status.idle": "2022-12-06T03:50:56.409855Z",
     "shell.execute_reply": "2022-12-06T03:50:56.408688Z"
    },
    "papermill": {
     "duration": 0.026365,
     "end_time": "2022-12-06T03:50:56.412055",
     "exception": false,
     "start_time": "2022-12-06T03:50:56.385690",
     "status": "completed"
    },
    "tags": []
   },
   "outputs": [],
   "source": [
    "#metric = load_metric(\"accuracy\")\n",
    "\n",
    "#def compute_metrics(eval_pred):\n",
    "    #logits, labels = eval_pred\n",
    "    #predictions = np.argmax(logits, axis = -1)\n",
    "    #return metric.compute(predictions=predictions, references=labels)\n",
    "\n",
    "#training_args = TrainingArguments(num_train_epochs = 4,\n",
    "                                 #do_train =True,\n",
    "                                 #report_to=None,\n",
    "                                 #output_dir=\"/kaggle/working\",\n",
    "                                 #evaluation_strategy=\"steps\",\n",
    "                                 #eval_steps=500,\n",
    "                                 #per_device_train_batch_size=10,\n",
    "                                 #per_device_eval_batch_size=10)\n",
    "\n",
    "#trainer = Trainer(model = model,\n",
    "                 #args = training_args,\n",
    "                 #train_dataset = ds_train,\n",
    "                 #eval_dataset = ds_eval,\n",
    "                 #compute_metrics = compute_metrics,\n",
    "#)\n",
    "\n",
    "#torch.set_grad_enabled(True)\n",
    "#trainer.train()\n",
    "#trainer.evaluate()"
   ]
  },
  {
   "cell_type": "code",
   "execution_count": 48,
   "id": "4f50ae3b",
   "metadata": {
    "execution": {
     "iopub.execute_input": "2022-12-06T03:50:56.449045Z",
     "iopub.status.busy": "2022-12-06T03:50:56.448139Z",
     "iopub.status.idle": "2022-12-06T03:51:00.813163Z",
     "shell.execute_reply": "2022-12-06T03:51:00.811564Z"
    },
    "papermill": {
     "duration": 4.386897,
     "end_time": "2022-12-06T03:51:00.816489",
     "exception": false,
     "start_time": "2022-12-06T03:50:56.429592",
     "status": "completed"
    },
    "tags": []
   },
   "outputs": [
    {
     "name": "stdout",
     "output_type": "stream",
     "text": [
      "X_train.shape = (41157, 40422)\n"
     ]
    }
   ],
   "source": [
    "from sklearn.feature_extraction.text import TfidfVectorizer\n",
    "tfidf_vectorizer = TfidfVectorizer()\n",
    "X_train = tfidf_vectorizer.fit_transform(train_data['textclean']).toarray()\n",
    "print(f\"X_train.shape = {X_train.shape}\")"
   ]
  },
  {
   "cell_type": "code",
   "execution_count": 49,
   "id": "c2bfb7cd",
   "metadata": {
    "execution": {
     "iopub.execute_input": "2022-12-06T03:51:00.853995Z",
     "iopub.status.busy": "2022-12-06T03:51:00.853575Z",
     "iopub.status.idle": "2022-12-06T03:51:00.860491Z",
     "shell.execute_reply": "2022-12-06T03:51:00.859411Z"
    },
    "papermill": {
     "duration": 0.028011,
     "end_time": "2022-12-06T03:51:00.862683",
     "exception": false,
     "start_time": "2022-12-06T03:51:00.834672",
     "status": "completed"
    },
    "tags": []
   },
   "outputs": [
    {
     "data": {
      "text/plain": [
       "array(['Neutral', 'Positive', 'Positive', 'Positive',\n",
       "       'Extremely Negative', 'Positive', 'Positive', 'Neutral',\n",
       "       'Positive', 'Negative'], dtype=object)"
      ]
     },
     "execution_count": 49,
     "metadata": {},
     "output_type": "execute_result"
    }
   ],
   "source": [
    "y_train = train_data.Sentiment.to_numpy()\n",
    "y_train[:10]"
   ]
  },
  {
   "cell_type": "code",
   "execution_count": 50,
   "id": "11f057c9",
   "metadata": {
    "execution": {
     "iopub.execute_input": "2022-12-06T03:51:00.900171Z",
     "iopub.status.busy": "2022-12-06T03:51:00.899783Z",
     "iopub.status.idle": "2022-12-06T04:07:22.574675Z",
     "shell.execute_reply": "2022-12-06T04:07:22.573572Z"
    },
    "papermill": {
     "duration": 981.697014,
     "end_time": "2022-12-06T04:07:22.577464",
     "exception": false,
     "start_time": "2022-12-06T03:51:00.880450",
     "status": "completed"
    },
    "tags": []
   },
   "outputs": [
    {
     "name": "stdout",
     "output_type": "stream",
     "text": [
      "accuracy: 0.9998\n"
     ]
    },
    {
     "data": {
      "image/png": "[encoded data removed]",
      "text/plain": [
       "<Figure size 432x288 with 2 Axes>"
      ]
     },
     "metadata": {
      "needs_background": "light"
     },
     "output_type": "display_data"
    }
   ],
   "source": [
    "from sklearn.ensemble import RandomForestClassifier\n",
    "from sklearn.metrics import confusion_matrix, ConfusionMatrixDisplay, accuracy_score\n",
    "model = RandomForestClassifier(n_estimators=100)\n",
    "model = model.fit(X_train, y_train)\n",
    "\n",
    "pred_train = model.predict(X_train)\n",
    "\n",
    "display = ConfusionMatrixDisplay(confusion_matrix(train_data['Sentiment'], pred_train), display_labels=['ex negative','ex positive','negative','neutral','positive'])\n",
    "display.plot()\n",
    "print(f\"accuracy: {accuracy_score(train_data['Sentiment'],pred_train):.4f}\")"
   ]
  },
  {
   "cell_type": "code",
   "execution_count": 51,
   "id": "5ad9cd35",
   "metadata": {
    "execution": {
     "iopub.execute_input": "2022-12-06T04:07:22.625904Z",
     "iopub.status.busy": "2022-12-06T04:07:22.625443Z",
     "iopub.status.idle": "2022-12-06T04:07:23.027752Z",
     "shell.execute_reply": "2022-12-06T04:07:23.026371Z"
    },
    "papermill": {
     "duration": 0.430749,
     "end_time": "2022-12-06T04:07:23.030570",
     "exception": false,
     "start_time": "2022-12-06T04:07:22.599821",
     "status": "completed"
    },
    "tags": []
   },
   "outputs": [
    {
     "data": {
      "text/plain": [
       "(3798, 40422)"
      ]
     },
     "execution_count": 51,
     "metadata": {},
     "output_type": "execute_result"
    }
   ],
   "source": [
    "test_data['textclean'] = test_data['tokens'].apply(lambda x: ' '.join(x))\n",
    "X_test = tfidf_vectorizer.transform(test_data['textclean']).toarray()\n",
    "X_test.shape"
   ]
  },
  {
   "cell_type": "code",
   "execution_count": 52,
   "id": "aca7b4b7",
   "metadata": {
    "execution": {
     "iopub.execute_input": "2022-12-06T04:07:23.074296Z",
     "iopub.status.busy": "2022-12-06T04:07:23.073281Z",
     "iopub.status.idle": "2022-12-06T04:07:25.094439Z",
     "shell.execute_reply": "2022-12-06T04:07:25.093140Z"
    },
    "papermill": {
     "duration": 2.045932,
     "end_time": "2022-12-06T04:07:25.097271",
     "exception": false,
     "start_time": "2022-12-06T04:07:23.051339",
     "status": "completed"
    },
    "tags": []
   },
   "outputs": [
    {
     "name": "stdout",
     "output_type": "stream",
     "text": [
      "accuracy: 0.5055\n"
     ]
    },
    {
     "data": {
      "image/png": "[encoded data removed]",
      "text/plain": [
       "<Figure size 432x288 with 2 Axes>"
      ]
     },
     "metadata": {
      "needs_background": "light"
     },
     "output_type": "display_data"
    }
   ],
   "source": [
    "pred_test = model.predict(X_test)\n",
    "\n",
    "display = ConfusionMatrixDisplay(confusion_matrix(test_data['Sentiment'], pred_test), display_labels=['ex negative','ex positive','positive','neutral','negative'])\n",
    "display.plot()\n",
    "print(f\"accuracy: {accuracy_score(test_data['Sentiment'],pred_test):.4f}\")"
   ]
  }
 ],
 "metadata": {
  "kernelspec": {
   "display_name": "Python 3",
   "language": "python",
   "name": "python3"
  },
  "language_info": {
   "codemirror_mode": {
    "name": "ipython",
    "version": 3
   },
   "file_extension": ".py",
   "mimetype": "text/x-python",
   "name": "python",
   "nbconvert_exporter": "python",
   "pygments_lexer": "ipython3",
   "version": "3.7.12"
  },
  "papermill": {
   "default_parameters": {},
   "duration": 1022.574209,
   "end_time": "2022-12-06T04:07:26.747028",
   "environment_variables": {},
   "exception": null,
   "input_path": "__notebook__.ipynb",
   "output_path": "__notebook__.ipynb",
   "parameters": {},
   "start_time": "2022-12-06T03:50:24.172819",
   "version": "2.3.4"
  }
 },
 "nbformat": 4,
 "nbformat_minor": 5
}
